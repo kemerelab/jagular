{
 "cells": [
  {
   "cell_type": "markdown",
   "metadata": {},
   "source": [
    "## TODO:\n",
    "\n",
    "1. incorporate `PrettyDuration` into `JagularFileMap` and update `__repr__` [DONE!]\n",
    "1. split out `pairwise` and `is_sorted` to `utils` [DONE!]\n",
    "1. fix issue of `header_size`\n",
    "1. fix test data [DONE!]\n",
    "1. write actual utiity function to return data and/or list of required files\n",
    "1. finish `NotImplementedError` functions\n",
    "1. deal with duplicates, and overlaps\n",
    "1. consider graceful abort?\n",
    "1. FFB! Provide way to request specific channel(s) and provide for inter-file interpolation (default should maybe return all channels?)\n",
    "1. ...?"
   ]
  },
  {
   "cell_type": "code",
   "execution_count": 34,
   "metadata": {
    "collapsed": true
   },
   "outputs": [],
   "source": [
    "import struct\n",
    "import numpy as np\n",
    "import matplotlib as mpl\n",
    "import matplotlib.pyplot as plt\n",
    "\n",
    "%matplotlib inline"
   ]
  },
  {
   "cell_type": "code",
   "execution_count": 35,
   "metadata": {},
   "outputs": [],
   "source": [
    "import jagular as jag"
   ]
  },
  {
   "cell_type": "code",
   "execution_count": 36,
   "metadata": {},
   "outputs": [
    {
     "name": "stdout",
     "output_type": "stream",
     "text": [
      "<JagularFileMap: 5 files spanning 9:45:54:849 hours (missing 52:19:480 minutes)> at 0x7fbf5653bb70\n"
     ]
    }
   ],
   "source": [
    "file_list = ['../sample_data/sample_data_1.rec',\n",
    "             '../sample_data/sample_data_3.rec',\n",
    "             '../sample_data/sample_data_4.rec',\n",
    "             '../sample_data/sample_data_5.rec',\n",
    "             '../sample_data/sample_data_2.rec'\n",
    "            ]\n",
    "\n",
    "jfm = jag.io.JagularFileMap(file_list)\n",
    "\n",
    "print(jfm)"
   ]
  },
  {
   "cell_type": "code",
   "execution_count": null,
   "metadata": {},
   "outputs": [],
   "source": []
  },
  {
   "cell_type": "code",
   "execution_count": 37,
   "metadata": {},
   "outputs": [],
   "source": [
    "ch_out_prefix = '2017-05-31_16-11-39_'\n",
    "n_chan_zfill = len(str(jfm._reader.n_spike_channels))\n",
    "ch_out_files = [ch_out_prefix + 'ch.' + str(n).zfill(n_chan_zfill) + '.raw' for n in range(jfm._reader.n_spike_channels)]\n",
    "# print(ch_out_files)"
   ]
  },
  {
   "cell_type": "code",
   "execution_count": 38,
   "metadata": {},
   "outputs": [],
   "source": [
    "#TODO: make filenames configurable\n",
    "#TODO: warn if files already exist, or if we cannot create them (this latter one should be handled automatically)\n",
    "\n",
    "from contextlib import ExitStack\n",
    "\n",
    "with ExitStack() as stack:\n",
    "    ts_file = stack.enter_context(open('timestamps.raw', 'wb+'))\n",
    "    ch_files = [stack.enter_context(open(fname, 'wb+')) for fname in ch_out_files]\n",
    "    \n",
    "    for ii, (ts, all_ch_data) in enumerate(jfm.read_stitched_files(block_size=4)):\n",
    "        num_packets = len(ts)\n",
    "\n",
    "        my_ts_struct = struct.Struct('<%dI' % num_packets)\n",
    "        my_ch_struct = struct.Struct('<%dh' % num_packets)\n",
    "        ts_packed = my_ts_struct.pack(*ts)\n",
    "        for ch in range(jfm._reader.n_spike_channels):\n",
    "            ch_packed = my_ch_struct.pack(*all_ch_data[ch,:])\n",
    "            # write current channel data of current block to file:\n",
    "            ch_files[ch].write(ch_packed)\n",
    "            \n",
    "        # write timestamps of current block to file:\n",
    "        ts_file.write(ts_packed)       \n"
   ]
  },
  {
   "cell_type": "code",
   "execution_count": 88,
   "metadata": {
    "collapsed": true
   },
   "outputs": [],
   "source": [
    "# now try to read back some data:\n",
    "\n",
    "ts_from_file = np.fromfile('timestamps.raw', dtype=np.uint32)"
   ]
  },
  {
   "cell_type": "code",
   "execution_count": 89,
   "metadata": {},
   "outputs": [
    {
     "data": {
      "text/plain": [
       "array([    200917,   55205700,   55205701,   55205702,   55205703,\n",
       "         55205704,   55205705,   55205706,   55205707,   55205708,\n",
       "        190383308,  216003235,   45380179,   45380180,   45380181,\n",
       "         45380182,   45380183,   45380184,   45380185,   45380186,\n",
       "         45380187,  430419684,  428619684,   55912384,   55912385,\n",
       "         55912386,   55912387,   55912388,   55912389,   55912390,\n",
       "         55912391,   55912392,  617928812,  648279793,   23871545,\n",
       "         23871546,   23871547,   23871548,   23871549,   23871550,\n",
       "         23871551,   23871552,   23871553,  824383837,  864397337,\n",
       "         23104817,   23104818,   23104819,   23104820,   23104821,\n",
       "         23104822,   23104823,   23104824,   23104825, 1054846413], dtype=uint32)"
      ]
     },
     "execution_count": 89,
     "metadata": {},
     "output_type": "execute_result"
    }
   ],
   "source": [
    "ts_from_file"
   ]
  },
  {
   "cell_type": "code",
   "execution_count": 90,
   "metadata": {},
   "outputs": [
    {
     "name": "stdout",
     "output_type": "stream",
     "text": [
      "0 [200917, 55205700, 55205701, 55205702, 55205703]\n",
      "1 [55205704, 55205705, 55205706, 55205707, 55205708]\n",
      "2 [190383308, 216003235, 45380179, 45380180, 45380181]\n",
      "3 [45380182, 45380183, 45380184, 45380185, 45380186]\n",
      "4 [45380187, 430419684, 428619684, 55912384, 55912385]\n",
      "5 [55912386, 55912387, 55912388, 55912389, 55912390]\n",
      "6 [55912391, 55912392, 617928812, 648279793, 23871545]\n",
      "7 [23871546, 23871547, 23871548, 23871549, 23871550]\n",
      "8 [23871551, 23871552, 23871553, 824383837, 864397337]\n",
      "9 [23104817, 23104818, 23104819, 23104820, 23104821]\n",
      "10 [23104822, 23104823, 23104824, 23104825, 1054846413]\n"
     ]
    }
   ],
   "source": [
    "for ii, (ts, ch_data) in enumerate(jfm.read_stitched_files(block_size=5)):\n",
    "    print(ii, ts)"
   ]
  },
  {
   "cell_type": "code",
   "execution_count": 45,
   "metadata": {
    "collapsed": true
   },
   "outputs": [],
   "source": [
    "import struct\n",
    "\n",
    "ch = 5\n",
    "\n",
    "ch_data = all_ch_data[ch,:]  # get a 1-D array of numbers\n",
    "arrSize = len(ch_data)\n",
    "\n",
    "my_struct = struct.Struct('<%dh' % arrSize)\n",
    "\n",
    "# packed = struct.pack('<iiHHi%df' % arrSize,\n",
    "#     nSamples, nSampPeriod, nSampSize, nParmKind, arrSize, *flattened)"
   ]
  },
  {
   "cell_type": "code",
   "execution_count": null,
   "metadata": {
    "collapsed": true
   },
   "outputs": [],
   "source": [
    "flattened = npVect.ravel()  # get a 1-D array of numbers\n",
    "arrSize = len(flattened)\n",
    "# pack header, count of numbers, and numbers, all in one call\n",
    "packed = struct.pack('<iiHHi%df' % arrSize,\n",
    "    nSamples, nSampPeriod, nSampSize, nParmKind, arrSize, *flattened)"
   ]
  },
  {
   "cell_type": "code",
   "execution_count": 16,
   "metadata": {},
   "outputs": [
    {
     "data": {
      "text/plain": [
       "['ch.0000.raw',\n",
       " 'ch.0001.raw',\n",
       " 'ch.0002.raw',\n",
       " 'ch.0003.raw',\n",
       " 'ch.0004.raw',\n",
       " 'ch.0005.raw',\n",
       " 'ch.0006.raw',\n",
       " 'ch.0007.raw',\n",
       " 'ch.0008.raw',\n",
       " 'ch.0009.raw',\n",
       " 'ch.0010.raw',\n",
       " 'ch.0011.raw',\n",
       " 'ch.0012.raw',\n",
       " 'ch.0013.raw',\n",
       " 'ch.0014.raw',\n",
       " 'ch.0015.raw',\n",
       " 'ch.0016.raw',\n",
       " 'ch.0017.raw',\n",
       " 'ch.0018.raw',\n",
       " 'ch.0019.raw',\n",
       " 'ch.0020.raw',\n",
       " 'ch.0021.raw',\n",
       " 'ch.0022.raw',\n",
       " 'ch.0023.raw',\n",
       " 'ch.0024.raw',\n",
       " 'ch.0025.raw',\n",
       " 'ch.0026.raw',\n",
       " 'ch.0027.raw',\n",
       " 'ch.0028.raw',\n",
       " 'ch.0029.raw',\n",
       " 'ch.0030.raw',\n",
       " 'ch.0031.raw',\n",
       " 'ch.0032.raw',\n",
       " 'ch.0033.raw',\n",
       " 'ch.0034.raw',\n",
       " 'ch.0035.raw',\n",
       " 'ch.0036.raw',\n",
       " 'ch.0037.raw',\n",
       " 'ch.0038.raw',\n",
       " 'ch.0039.raw',\n",
       " 'ch.0040.raw',\n",
       " 'ch.0041.raw',\n",
       " 'ch.0042.raw',\n",
       " 'ch.0043.raw',\n",
       " 'ch.0044.raw',\n",
       " 'ch.0045.raw',\n",
       " 'ch.0046.raw',\n",
       " 'ch.0047.raw',\n",
       " 'ch.0048.raw',\n",
       " 'ch.0049.raw',\n",
       " 'ch.0050.raw',\n",
       " 'ch.0051.raw',\n",
       " 'ch.0052.raw',\n",
       " 'ch.0053.raw',\n",
       " 'ch.0054.raw',\n",
       " 'ch.0055.raw',\n",
       " 'ch.0056.raw',\n",
       " 'ch.0057.raw',\n",
       " 'ch.0058.raw',\n",
       " 'ch.0059.raw',\n",
       " 'ch.0060.raw',\n",
       " 'ch.0061.raw',\n",
       " 'ch.0062.raw',\n",
       " 'ch.0063.raw',\n",
       " 'ch.0064.raw',\n",
       " 'ch.0065.raw',\n",
       " 'ch.0066.raw',\n",
       " 'ch.0067.raw',\n",
       " 'ch.0068.raw',\n",
       " 'ch.0069.raw',\n",
       " 'ch.0070.raw',\n",
       " 'ch.0071.raw',\n",
       " 'ch.0072.raw',\n",
       " 'ch.0073.raw',\n",
       " 'ch.0074.raw',\n",
       " 'ch.0075.raw',\n",
       " 'ch.0076.raw',\n",
       " 'ch.0077.raw',\n",
       " 'ch.0078.raw',\n",
       " 'ch.0079.raw']"
      ]
     },
     "execution_count": 16,
     "metadata": {},
     "output_type": "execute_result"
    }
   ],
   "source": [
    "from contextlib import ExitStack\n",
    "\n",
    "with ExitStack() as stack:\n",
    "    files = [stack.enter_context(open(fname, 'wb+')) for fname in ch_out_files]\n",
    "    \n",
    "    \n",
    "    flattened = npVect.ravel()  # get a 1-D array of numbers\n",
    "arrSize = len(flattened)\n",
    "# pack header, count of numbers, and numbers, all in one call\n",
    "packed = struct.pack('<iiHHi%df' % arrSize,\n",
    "    nSamples, nSampPeriod, nSampSize, nParmKind, arrSize, *flattened)"
   ]
  },
  {
   "cell_type": "code",
   "execution_count": 6,
   "metadata": {
    "scrolled": false
   },
   "outputs": [
    {
     "name": "stdout",
     "output_type": "stream",
     "text": [
      "0 [200917, 55205700, 55205701, 55205702, 55205703]\n",
      "1 [55205704, 55205705, 55205706, 55205707, 55205708]\n",
      "2 [190383308, 216003235, 45380179, 45380180, 45380181]\n",
      "3 [45380182, 45380183, 45380184, 45380185, 45380186]\n",
      "4 [45380187, 430419684, 428619684, 55912384, 55912385]\n",
      "5 [55912386, 55912387, 55912388, 55912389, 55912390]\n",
      "6 [55912391, 55912392, 617928812, 648279793, 23871545]\n",
      "7 [23871546, 23871547, 23871548, 23871549, 23871550]\n",
      "8 [23871551, 23871552, 23871553, 824383837, 864397337]\n",
      "9 [23104817, 23104818, 23104819, 23104820, 23104821]\n",
      "10 [23104822, 23104823, 23104824, 23104825, 1054846413]\n"
     ]
    }
   ],
   "source": [
    "\n",
    "for ii, (ts, ch_data) in enumerate(jfm.read_stitched_files(block_size=5)):\n",
    "    print(ii, ts)"
   ]
  },
  {
   "cell_type": "code",
   "execution_count": 28,
   "metadata": {},
   "outputs": [
    {
     "data": {
      "text/plain": [
       "<JagularFileMap: 1 files spanning 1:45:39:413 hours (missing 0.0 milliseconds)> at 0x1f92107c278"
      ]
     },
     "execution_count": 28,
     "metadata": {},
     "output_type": "execute_result"
    }
   ],
   "source": [
    "jag.io.JagularFileMap('../sample_data/sample_data_1.rec')"
   ]
  },
  {
   "cell_type": "code",
   "execution_count": 29,
   "metadata": {},
   "outputs": [
    {
     "data": {
      "text/plain": [
       "array([[  6.69723333e+00,   6.34611027e+03],\n",
       "       [  7.20010783e+03,   1.43473228e+04],\n",
       "       [  1.42873228e+04,   2.05976271e+04],\n",
       "       [  2.16093264e+04,   2.74794612e+04],\n",
       "       [  2.88132446e+04,   3.51615471e+04]])"
      ]
     },
     "execution_count": 29,
     "metadata": {},
     "output_type": "execute_result"
    }
   ],
   "source": [
    "jfm.timestamps"
   ]
  },
  {
   "cell_type": "code",
   "execution_count": 30,
   "metadata": {},
   "outputs": [
    {
     "data": {
      "text/plain": [
       "array([[    200917,  190383308],\n",
       "       [ 216003235,  430419684],\n",
       "       [ 428619684,  617928812],\n",
       "       [ 648279793,  824383837],\n",
       "       [ 864397337, 1054846413]])"
      ]
     },
     "execution_count": 30,
     "metadata": {},
     "output_type": "execute_result"
    }
   ],
   "source": [
    "jfm.timesamples"
   ]
  },
  {
   "cell_type": "code",
   "execution_count": 31,
   "metadata": {},
   "outputs": [
    {
     "data": {
      "image/png": "[encoded data removed]",
      "text/plain": [
       "<matplotlib.figure.Figure at 0x1f92104eda0>"
      ]
     },
     "metadata": {},
     "output_type": "display_data"
    }
   ],
   "source": [
    "ax = jfm.plot()\n",
    "# ax.set_xlim(0, 300);"
   ]
  },
  {
   "cell_type": "code",
   "execution_count": 32,
   "metadata": {},
   "outputs": [
    {
     "data": {
      "text/plain": [
       "True"
      ]
     },
     "execution_count": 32,
     "metadata": {},
     "output_type": "execute_result"
    }
   ],
   "source": [
    "jfm._samples_within_bounds(2853122, 7093204 )"
   ]
  },
  {
   "cell_type": "code",
   "execution_count": 33,
   "metadata": {},
   "outputs": [
    {
     "data": {
      "text/plain": [
       "True"
      ]
     },
     "execution_count": 33,
     "metadata": {},
     "output_type": "execute_result"
    }
   ],
   "source": [
    "jfm._time_within_bounds(100, 250)"
   ]
  },
  {
   "cell_type": "code",
   "execution_count": 34,
   "metadata": {},
   "outputs": [
    {
     "name": "stdout",
     "output_type": "stream",
     "text": [
      "duration including gaps: 9:45:54:849 hours\n",
      "duration excluding gaps: 8:53:35:369 hours\n"
     ]
    }
   ],
   "source": [
    "print(\"duration including gaps: {}\".format(jfm.duration_w_gaps))\n",
    "print(\"duration excluding gaps: {}\".format(jfm.duration_wo_gaps))"
   ]
  },
  {
   "cell_type": "code",
   "execution_count": 83,
   "metadata": {},
   "outputs": [
    {
     "name": "stdout",
     "output_type": "stream",
     "text": [
      "f1b1f1b2f1b3\n",
      "f1b4f2b1f2b2\n",
      "f2b3f2b4f3b1\n",
      "f3b2f4b1f4b2\n",
      "f4b3f4b4f4b5\n"
     ]
    }
   ],
   "source": [
    "from contextlib import ExitStack\n",
    "\n",
    "with open('test1', 'w') as f:\n",
    "    f.write('f1b1f1b2f1b3f1b4')\n",
    "    \n",
    "with open('test2', 'w') as f:\n",
    "    f.write('f2b1f2b2f2b3f2b4')\n",
    "    \n",
    "with open('test3', 'w') as f:\n",
    "    f.write('f3b1f3b2')\n",
    "    \n",
    "with open('test4', 'w') as f:\n",
    "    f.write('f4b1f4b2f4b3f4b4f4b5')\n",
    "    \n",
    "filenames = ['test1', 'test2', 'test3', 'test4']\n",
    "\n",
    "from contextlib import ExitStack\n",
    "\n",
    "def read_stitched_files(nch=2):\n",
    "    with ExitStack() as stack:\n",
    "        files = [stack.enter_context(open(fname, 'r')) for fname in filenames]\n",
    "        ii=0\n",
    "        while True:\n",
    "            try:\n",
    "                chunk = files[ii].read(4*nch)\n",
    "                if 0 < len(chunk) < 4*nch:\n",
    "                    # chunk size could not be filled from current file, so move onto next file\n",
    "                    ii+=1\n",
    "                    chunkB = files[ii].read(4*int(nch-len(chunk)/4))\n",
    "                    chunk = chunk + chunkB\n",
    "                if chunk:\n",
    "                    yield chunk\n",
    "                else:\n",
    "                    ii+=1\n",
    "            except IndexError:\n",
    "                return\n",
    "                       \n",
    "for chunk in read_stitched_files(3):\n",
    "    print(chunk)"
   ]
  },
  {
   "cell_type": "code",
   "execution_count": 82,
   "metadata": {},
   "outputs": [
    {
     "name": "stdout",
     "output_type": "stream",
     "text": [
      "\n",
      "One symbol at a time:\n",
      "=======================\n",
      "f1b1\n",
      "f1b2\n",
      "f1b3\n",
      "f1b4\n",
      "f2b1\n",
      "f2b2\n",
      "f2b3\n",
      "f2b4\n",
      "f3b1\n",
      "f3b2\n",
      "f4b1\n",
      "f4b2\n",
      "f4b3\n",
      "f4b4\n",
      "f4b5\n",
      "\n",
      "Two symbols at a time:\n",
      "=======================\n",
      "f1b1f1b2\n",
      "f1b3f1b4\n",
      "f2b1f2b2\n",
      "f2b3f2b4\n",
      "f3b1f3b2\n",
      "f4b1f4b2\n",
      "f4b3f4b4\n",
      "\n",
      "Three symbols at a time:\n",
      "=======================\n",
      "f1b1f1b2f1b3\n",
      "f1b4f2b1f2b2\n",
      "f2b3f2b4f3b1\n",
      "f3b2f4b1f4b2\n",
      "f4b3f4b4f4b5\n",
      "\n",
      "Four symbols at a time:\n",
      "=======================\n",
      "f1b1f1b2f1b3f1b4\n",
      "f2b1f2b2f2b3f2b4\n",
      "f3b1f3b2f4b1f4b2\n",
      "\n",
      "Five symbols at a time:\n",
      "=======================\n",
      "f1b1f1b2f1b3f1b4f2b1\n",
      "f2b2f2b3f2b4f3b1f3b2\n",
      "f4b1f4b2f4b3f4b4f4b5\n",
      "\n",
      "Six symbols at a time:\n",
      "=======================\n",
      "f1b1f1b2f1b3f1b4f2b1f2b2\n",
      "f2b3f2b4f3b1f3b2\n"
     ]
    }
   ],
   "source": [
    "with open('test1', 'w') as f:\n",
    "    f.write('f1b1f1b2f1b3f1b4')\n",
    "with open('test2', 'w') as f:\n",
    "    f.write('f2b1f2b2f2b3f2b4')\n",
    "with open('test3', 'w') as f:\n",
    "    f.write('f3b1f3b2')   \n",
    "with open('test4', 'w') as f:\n",
    "    f.write('f4b1f4b2f4b3f4b4f4b5')\n",
    "\n",
    "print('')\n",
    "print('One symbol at a time:')\n",
    "print('=======================')\n",
    "for chunk in read_stitched_files(1):\n",
    "    print(chunk)\n",
    "    \n",
    "print('')\n",
    "print('Two symbols at a time:')\n",
    "print('=======================')\n",
    "for chunk in read_stitched_files(2):\n",
    "    print(chunk)\n",
    "    \n",
    "print('')\n",
    "print('Three symbols at a time:')\n",
    "print('=======================')\n",
    "for chunk in read_stitched_files(3):\n",
    "    print(chunk)\n",
    "    \n",
    "print('')\n",
    "print('Four symbols at a time:')\n",
    "print('=======================')\n",
    "for chunk in read_stitched_files(4):\n",
    "    print(chunk)\n",
    "    \n",
    "print('')\n",
    "print('Five symbols at a time:')\n",
    "print('=======================')\n",
    "for chunk in read_stitched_files(5):\n",
    "    print(chunk)\n",
    "    \n",
    "print('')\n",
    "print('Six symbols at a time:')\n",
    "print('=======================')\n",
    "for chunk in read_stitched_files(6):\n",
    "    print(chunk)"
   ]
  }
 ],
 "metadata": {
  "anaconda-cloud": {},
  "kernelspec": {
   "display_name": "Python [default]",
   "language": "python",
   "name": "python3"
  },
  "language_info": {
   "codemirror_mode": {
    "name": "ipython",
    "version": 3
   },
   "file_extension": ".py",
   "mimetype": "text/x-python",
   "name": "python",
   "nbconvert_exporter": "python",
   "pygments_lexer": "ipython3",
   "version": "3.5.4"
  }
 },
 "nbformat": 4,
 "nbformat_minor": 2
}
