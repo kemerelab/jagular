{
 "cells": [
  {
   "cell_type": "markdown",
   "metadata": {},
   "source": [
    "## TODO:\n",
    "\n",
    "1. incorporate `PrettyDuration` into `JagularFileMap` and update `__repr__` [DONE!]\n",
    "1. split out `pairwise` and `is_sorted` to `utils` [DONE!]\n",
    "1. fix issue of `header_size`\n",
    "1. fix test data [DONE!]\n",
    "1. write actual utiity function to return data and/or list of required files\n",
    "1. finish `NotImplementedError` functions\n",
    "1. deal with duplicates, and overlaps\n",
    "1. consider graceful abort?\n",
    "1. FFB! Provide way to request specific channel(s) and provide for inter-file interpolation (default should maybe return all channels?)\n",
    "1. ...?"
   ]
  },
  {
   "cell_type": "code",
   "execution_count": 1,
   "metadata": {},
   "outputs": [],
   "source": [
    "import struct\n",
    "import numpy as np\n",
    "import matplotlib as mpl\n",
    "import matplotlib.pyplot as plt\n",
    "import scipy.signal\n",
    "\n",
    "from scipy.signal import filtfilt, iirdesign\n",
    "from numpy import memmap\n",
    "\n",
    "import nelpy as nel\n",
    "import nelpy.plotting as npl\n",
    "\n",
    "%matplotlib inline"
   ]
  },
  {
   "cell_type": "code",
   "execution_count": 2,
   "metadata": {
    "collapsed": true
   },
   "outputs": [],
   "source": [
    "import jagular as jag"
   ]
  },
  {
   "cell_type": "code",
   "execution_count": 3,
   "metadata": {},
   "outputs": [
    {
     "name": "stdout",
     "output_type": "stream",
     "text": [
      "<AnalogSignalArray at 0x7fd436502a58: 1 signals (2 segments)> for a total of 6.1776 seconds\n"
     ]
    },
    {
     "name": "stderr",
     "output_type": "stream",
     "text": [
      "/home/etienne/Dropbox/code/nelpy/nelpy/core/_analogsignalarray.py:267: UserWarning: creating support from time and sampling rate, fs!\n"
     ]
    },
    {
     "data": {
      "text/plain": [
       "<matplotlib.axes._subplots.AxesSubplot at 0x7fd404e20780>"
      ]
     },
     "execution_count": 3,
     "metadata": {},
     "output_type": "execute_result"
    },
    {
     "data": {
      "image/png": "[encoded data removed]",
      "text/plain": [
       "<matplotlib.figure.Figure at 0x7fd404e13b00>"
      ]
     },
     "metadata": {},
     "output_type": "display_data"
    }
   ],
   "source": [
    "ts = np.fromfile('timestamps.raw', dtype=np.uint32)\n",
    "y = np.fromfile('channels/gap_ch.02.raw', dtype=np.int16)\n",
    "sig = nel.AnalogSignalArray(ydata=y, timestamps=ts/30000, fs=30000)\n",
    "print(sig)\n",
    "npl.plot(sig)"
   ]
  },
  {
   "cell_type": "code",
   "execution_count": 4,
   "metadata": {},
   "outputs": [
    {
     "name": "stdout",
     "output_type": "stream",
     "text": [
      "<AnalogSignalArray at 0x7fd401aca080: 1 signals (2 segments)> for a total of 6.1776 seconds\n"
     ]
    },
    {
     "name": "stderr",
     "output_type": "stream",
     "text": [
      "/home/etienne/Dropbox/code/nelpy/nelpy/core/_analogsignalarray.py:267: UserWarning: creating support from time and sampling rate, fs!\n"
     ]
    },
    {
     "data": {
      "text/plain": [
       "<matplotlib.axes._subplots.AxesSubplot at 0x7fd401a6afd0>"
      ]
     },
     "execution_count": 4,
     "metadata": {},
     "output_type": "execute_result"
    },
    {
     "data": {
      "image/png": "[encoded data removed]",
      "text/plain": [
       "<matplotlib.figure.Figure at 0x7fd430356d30>"
      ]
     },
     "metadata": {},
     "output_type": "display_data"
    }
   ],
   "source": [
    "ts = np.fromfile('timestamps.raw', dtype=np.uint32)\n",
    "y = np.fromfile('filtered.raw', dtype=np.int16)\n",
    "sig = nel.AnalogSignalArray(ydata=y, timestamps=ts/30000, fs=30000)\n",
    "print(sig)\n",
    "npl.plot(sig)"
   ]
  },
  {
   "cell_type": "code",
   "execution_count": 7,
   "metadata": {},
   "outputs": [
    {
     "data": {
      "text/plain": [
       "array([69548], dtype=int64)"
      ]
     },
     "execution_count": 7,
     "metadata": {},
     "output_type": "execute_result"
    }
   ],
   "source": [
    "np.where(np.diff(ts)==0)[0]"
   ]
  },
  {
   "cell_type": "code",
   "execution_count": 9,
   "metadata": {},
   "outputs": [
    {
     "data": {
      "text/plain": [
       "99547"
      ]
     },
     "execution_count": 9,
     "metadata": {},
     "output_type": "execute_result"
    }
   ],
   "source": [
    "ts[69548]"
   ]
  },
  {
   "cell_type": "code",
   "execution_count": 10,
   "metadata": {},
   "outputs": [
    {
     "data": {
      "text/plain": [
       "99547"
      ]
     },
     "execution_count": 10,
     "metadata": {},
     "output_type": "execute_result"
    }
   ],
   "source": [
    "ts[69549]"
   ]
  },
  {
   "cell_type": "code",
   "execution_count": 11,
   "metadata": {},
   "outputs": [
    {
     "data": {
      "text/plain": [
       "array([    0,     1, 30000], dtype=uint32)"
      ]
     },
     "execution_count": 11,
     "metadata": {},
     "output_type": "execute_result"
    }
   ],
   "source": [
    "np.unique(np.diff(ts))"
   ]
  },
  {
   "cell_type": "code",
   "execution_count": 12,
   "metadata": {},
   "outputs": [
    {
     "data": {
      "text/plain": [
       "array([[     0,  62011],\n",
       "       [ 92010,  99548],\n",
       "       [ 99547, 215326]], dtype=int64)"
      ]
     },
     "execution_count": 12,
     "metadata": {},
     "output_type": "execute_result"
    }
   ],
   "source": [
    "y = memmap('channels/gap_ch.02.raw', dtype=np.uint16, mode='r')\n",
    "ts = np.fromfile('timestamps.raw', dtype=np.uint32)\n",
    "jag.utils.get_contiguous_segments(ts, in_core=False, assume_sorted=True)"
   ]
  },
  {
   "cell_type": "code",
   "execution_count": 13,
   "metadata": {},
   "outputs": [
    {
     "name": "stderr",
     "output_type": "stream",
     "text": [
      "d:\\dropbox\\code\\jagular\\jagular\\utils.py:117: UserWarning: some steps in the data are smaller than the requested step size.\n"
     ]
    },
    {
     "data": {
      "text/plain": [
       "array([[      0.,   62011.],\n",
       "       [  92010.,  215326.]])"
      ]
     },
     "execution_count": 13,
     "metadata": {},
     "output_type": "execute_result"
    }
   ],
   "source": [
    "ts = np.fromfile('timestamps.raw', dtype=np.uint32)\n",
    "epochs = jag.utils.get_contiguous_segments(ts)\n",
    "epochs"
   ]
  },
  {
   "cell_type": "code",
   "execution_count": 14,
   "metadata": {},
   "outputs": [
    {
     "data": {
      "text/plain": [
       "array([[     0,  62011],\n",
       "       [ 62011, 185327]])"
      ]
     },
     "execution_count": 14,
     "metadata": {},
     "output_type": "execute_result"
    }
   ],
   "source": [
    "ccl = (np.cumsum(epochs[:,1] - epochs[:,0]) - 1).astype(np.int32)\n",
    "ccr = np.cumsum(epochs[:,1] - epochs[:,0]).astype(np.int32)\n",
    "orig_data_locs = np.vstack((np.insert(ccr[:-1],0,0),ccr)).T\n",
    "orig_data_locs"
   ]
  },
  {
   "cell_type": "code",
   "execution_count": 30,
   "metadata": {},
   "outputs": [
    {
     "name": "stdout",
     "output_type": "stream",
     "text": [
      "filtering 0--62011\n"
     ]
    },
    {
     "name": "stderr",
     "output_type": "stream",
     "text": [
      "d:\\dropbox\\code\\jagular\\jagular\\utils.py:117: UserWarning: some steps in the data are smaller than the requested step size.\n"
     ]
    },
    {
     "data": {
      "image/png": "[encoded data removed]",
      "text/plain": [
       "<matplotlib.figure.Figure at 0x21c09968f98>"
      ]
     },
     "metadata": {},
     "output_type": "display_data"
    },
    {
     "name": "stdout",
     "output_type": "stream",
     "text": [
      "saving 0--62011\n",
      "filtering 62011--162511\n"
     ]
    },
    {
     "data": {
      "image/png": "[encoded data removed]",
      "text/plain": [
       "<matplotlib.figure.Figure at 0x21c0510b320>"
      ]
     },
     "metadata": {},
     "output_type": "display_data"
    },
    {
     "name": "stdout",
     "output_type": "stream",
     "text": [
      "saving 62011--162011\n",
      "filtering 161511--185327\n"
     ]
    },
    {
     "data": {
      "image/png": "[encoded data removed]",
      "text/plain": [
       "<matplotlib.figure.Figure at 0x21c08020be0>"
      ]
     },
     "metadata": {},
     "output_type": "display_data"
    },
    {
     "name": "stdout",
     "output_type": "stream",
     "text": [
      "saving 162011--185327\n",
      "<AnalogSignalArray at 0x21c09968320: 1 signals (2 segments)> for a total of 6.1776 seconds\n"
     ]
    },
    {
     "name": "stderr",
     "output_type": "stream",
     "text": [
      "d:\\dropbox\\code\\nelpy\\nelpy\\core\\_analogsignalarray.py:267: UserWarning: creating support from time and sampling rate, fs!\n"
     ]
    },
    {
     "data": {
      "text/plain": [
       "<matplotlib.axes._subplots.AxesSubplot at 0x21c096db978>"
      ]
     },
     "execution_count": 30,
     "metadata": {},
     "output_type": "execute_result"
    },
    {
     "data": {
      "image/png": "[encoded data removed]",
      "text/plain": [
       "<matplotlib.figure.Figure at 0x21c05265c18>"
      ]
     },
     "metadata": {},
     "output_type": "display_data"
    }
   ],
   "source": [
    "\n",
    "\n",
    "def butterfilt(finname, foutname, fmt, fs, fl=5.0, fh=100.0, gpass=1.0, gstop=30.0, ftype='butter', buffer_len=100000, overlap_len=100, max_len=-1):\n",
    "    \"\"\"Given sampling frequency, low and high pass frequencies design a butterworth filter, and filter our data with it.\"\"\"\n",
    "    fso2 = fs/2.0\n",
    "    wp = [fl/fso2, fh/fso2]\n",
    "    ws = [0.8*fl/fso2,1.4*fh/fso2]\n",
    "    b, a = iirdesign(wp, ws, gpass=gpass, gstop=gstop, ftype=ftype, output='ba')\n",
    "    y = filtfiltlong(finname, foutname, fmt, b, a, buffer_len, overlap_len, max_len)\n",
    "    return y, b, a\n",
    "\n",
    "def filtfiltlong(finname, foutname, fmt, b, a, buffer_len=100000, overlap_len=100, max_len=-1):\n",
    "    \"\"\"Use memmap and chunking to filter continuous data.\n",
    "    Inputs:\n",
    "    finname -\n",
    "    foutname    -\n",
    "    fmt         - data format eg 'i'\n",
    "    b,a         - filter coefficients\n",
    "    buffer_len  - how much data to process at a time\n",
    "    overlap_len - how much data do we add to the end of each chunk to smooth out filter transients\n",
    "    max_len     - how many samples to process. If set to -1, processes the whole file\n",
    "    Outputs:\n",
    "    y           - The memmapped array pointing to the written file\n",
    "    Notes on algorithm:\n",
    "    1. The arrays are memmapped, so we let pylab (numpy) take care of handling large arrays\n",
    "    2. The filtering is done in chunks:\n",
    "    Chunking details:\n",
    "                |<------- b1 ------->||<------- b2 ------->|\n",
    "    -----[------*--------------{-----*------]--------------*------}----------\n",
    "            |<-------------- c1 -------------->|\n",
    "                                |<-------------- c2 -------------->|\n",
    "    From the array of data we cut out contiguous buffers (b1,b2,...) and to each buffer we add some extra overlap to\n",
    "    make chunks (c1,c2). The overlap helps to remove the transients from the filtering which would otherwise appear at\n",
    "    each buffer boundary.\n",
    "    \"\"\"\n",
    "    x = memmap(finname, dtype=fmt, mode='r')\n",
    "    if max_len == -1:\n",
    "        max_len = x.size\n",
    "    try:\n",
    "        y = memmap(foutname, dtype=fmt, mode='w+', shape=max_len)\n",
    "    except OSError:\n",
    "        raise ValueError('Not sure why this ODError is raised, actually? File already exists?')\n",
    "        \n",
    "\n",
    "    ts = np.fromfile('timestamps.raw', dtype=np.uint32)\n",
    "    epochs = jag.utils.get_contiguous_segments(ts)\n",
    "    ccr = np.cumsum(epochs[:,1] - epochs[:,0]).astype(np.int32)\n",
    "    filter_epochs = np.vstack((np.insert(ccr[:-1],0,0),ccr)).T\n",
    "\n",
    "    for (start, stop) in filter_epochs:\n",
    "#         print(start)\n",
    "        \n",
    "        for buff_st_idx in range(start, stop, buffer_len):\n",
    "            chk_st_idx = max(start, buff_st_idx - overlap_len)\n",
    "            buff_nd_idx = min(stop, buff_st_idx + buffer_len)\n",
    "            chk_nd_idx = min(stop, buff_nd_idx + overlap_len)\n",
    "            rel_st_idx = buff_st_idx - chk_st_idx\n",
    "            rel_nd_idx = buff_nd_idx - chk_st_idx\n",
    "            print('filtering {}--{}'.format(chk_st_idx, chk_nd_idx))\n",
    "#             this_y_chk = filtfilt(b, a, x[chk_st_idx:chk_nd_idx], method=\"gust\") # gust has nan infs error!?\n",
    "            [b, a] = scipy.signal.butter(1, 10/(30000/2))\n",
    "            this_y_chk = filtfilt(b, a, x[chk_st_idx:chk_nd_idx], padlen=150)\n",
    "            plt.plot(x[chk_st_idx:chk_nd_idx])\n",
    "            plt.plot(this_y_chk)\n",
    "            plt.show()\n",
    "            print('saving {}--{}'.format(buff_st_idx, buff_nd_idx))\n",
    "            y[buff_st_idx:buff_nd_idx] = this_y_chk[rel_st_idx:rel_nd_idx]\n",
    "\n",
    "    return y\n",
    "\n",
    "y, b, a = butterfilt(finname='channels/gap_ch.02.raw', buffer_len=100000,\n",
    "                     foutname='filtered.raw',\n",
    "                     fmt=np.int16,\n",
    "                     fs=30000,\n",
    "                     fl=50,\n",
    "                     fh=800,\n",
    "                     overlap_len=500)\n",
    "\n",
    "ts = np.fromfile('timestamps.raw', dtype=np.uint32)\n",
    "y = np.fromfile('filtered.raw', dtype=np.int16)\n",
    "sig = nel.AnalogSignalArray(ydata=y, timestamps=ts/30000, fs=30000)\n",
    "print(sig)\n",
    "npl.plot(sig)"
   ]
  },
  {
   "cell_type": "code",
   "execution_count": 27,
   "metadata": {},
   "outputs": [
    {
     "name": "stdout",
     "output_type": "stream",
     "text": [
      "<AnalogSignalArray at 0x21c050c84e0: 1 signals (2 segments)> for a total of 6.1776 seconds\n"
     ]
    },
    {
     "name": "stderr",
     "output_type": "stream",
     "text": [
      "d:\\dropbox\\code\\nelpy\\nelpy\\core\\_analogsignalarray.py:267: UserWarning: creating support from time and sampling rate, fs!\n"
     ]
    },
    {
     "data": {
      "text/plain": [
       "<matplotlib.axes._subplots.AxesSubplot at 0x21c04905978>"
      ]
     },
     "execution_count": 27,
     "metadata": {},
     "output_type": "execute_result"
    },
    {
     "data": {
      "image/png": "[encoded data removed]",
      "text/plain": [
       "<matplotlib.figure.Figure at 0x21c050e44e0>"
      ]
     },
     "metadata": {},
     "output_type": "display_data"
    }
   ],
   "source": [
    "ts = np.fromfile('timestamps.raw', dtype=np.uint32)\n",
    "y = np.fromfile('filtered.raw', dtype=np.int16)\n",
    "sig = nel.AnalogSignalArray(ydata=y, timestamps=ts/30000, fs=30000)\n",
    "print(sig)\n",
    "npl.plot(sig)"
   ]
  },
  {
   "cell_type": "code",
   "execution_count": 95,
   "metadata": {},
   "outputs": [],
   "source": [
    "[b, a] = scipy.signal.butter(5, 600/(30000/2))"
   ]
  },
  {
   "cell_type": "code",
   "execution_count": 22,
   "metadata": {},
   "outputs": [
    {
     "name": "stdout",
     "output_type": "stream",
     "text": [
      "<AnalogSignalArray at 0x21c0505d7f0: 1 signals (2 segments)> for a total of 6.1776 seconds\n"
     ]
    },
    {
     "name": "stderr",
     "output_type": "stream",
     "text": [
      "d:\\dropbox\\code\\nelpy\\nelpy\\core\\_analogsignalarray.py:267: UserWarning: creating support from time and sampling rate, fs!\n"
     ]
    },
    {
     "data": {
      "text/plain": [
       "<matplotlib.axes._subplots.AxesSubplot at 0x21c050be0b8>"
      ]
     },
     "execution_count": 22,
     "metadata": {},
     "output_type": "execute_result"
    },
    {
     "data": {
      "image/png": "[encoded data removed]",
      "text/plain": [
       "<matplotlib.figure.Figure at 0x21c0505d208>"
      ]
     },
     "metadata": {},
     "output_type": "display_data"
    }
   ],
   "source": [
    "ts = np.fromfile('timestamps.raw', dtype=np.uint32)\n",
    "y = np.fromfile('filtered.raw', dtype=np.int16)\n",
    "sig = nel.AnalogSignalArray(ydata=y, timestamps=ts/30000, fs=30000)\n",
    "print(sig)\n",
    "npl.plot(sig)"
   ]
  },
  {
   "cell_type": "code",
   "execution_count": 24,
   "metadata": {},
   "outputs": [
    {
     "data": {
      "text/plain": [
       "array([0, 0, 0, ..., 0, 0, 0], dtype=int16)"
      ]
     },
     "execution_count": 24,
     "metadata": {},
     "output_type": "execute_result"
    }
   ],
   "source": [
    "y"
   ]
  },
  {
   "cell_type": "code",
   "execution_count": null,
   "metadata": {
    "collapsed": true
   },
   "outputs": [],
   "source": []
  },
  {
   "cell_type": "code",
   "execution_count": 4,
   "metadata": {},
   "outputs": [
    {
     "name": "stdout",
     "output_type": "stream",
     "text": [
      "filtering 0--10500\n",
      "[32767 32767 32767 ..., -4027 -4058 -3931]\n"
     ]
    },
    {
     "ename": "ValueError",
     "evalue": "array must not contain infs or NaNs",
     "output_type": "error",
     "traceback": [
      "\u001b[0;31m---------------------------------------------------------------------------\u001b[0m",
      "\u001b[0;31mValueError\u001b[0m                                Traceback (most recent call last)",
      "\u001b[0;32m<ipython-input-4-4732e5d393cb>\u001b[0m in \u001b[0;36m<module>\u001b[0;34m()\u001b[0m\n\u001b[1;32m     60\u001b[0m                      \u001b[0mfl\u001b[0m\u001b[1;33m=\u001b[0m\u001b[1;36m500\u001b[0m\u001b[1;33m,\u001b[0m\u001b[1;33m\u001b[0m\u001b[0m\n\u001b[1;32m     61\u001b[0m                      \u001b[0mfh\u001b[0m\u001b[1;33m=\u001b[0m\u001b[1;36m8000\u001b[0m\u001b[1;33m,\u001b[0m\u001b[1;33m\u001b[0m\u001b[0m\n\u001b[0;32m---> 62\u001b[0;31m                      overlap_len=500)\n\u001b[0m\u001b[1;32m     63\u001b[0m \u001b[1;33m\u001b[0m\u001b[0m\n\u001b[1;32m     64\u001b[0m \u001b[0mplt\u001b[0m\u001b[1;33m.\u001b[0m\u001b[0mplot\u001b[0m\u001b[1;33m(\u001b[0m\u001b[0mx\u001b[0m\u001b[1;33m)\u001b[0m\u001b[1;33m\u001b[0m\u001b[0m\n",
      "\u001b[0;32m<ipython-input-4-4732e5d393cb>\u001b[0m in \u001b[0;36mbutterfilt\u001b[0;34m(finname, foutname, fmt, fs, fl, fh, gpass, gstop, ftype, buffer_len, overlap_len, max_len)\u001b[0m\n\u001b[1;32m      8\u001b[0m     \u001b[0mws\u001b[0m \u001b[1;33m=\u001b[0m \u001b[1;33m[\u001b[0m\u001b[1;36m0.8\u001b[0m\u001b[1;33m*\u001b[0m\u001b[0mfl\u001b[0m\u001b[1;33m/\u001b[0m\u001b[0mfso2\u001b[0m\u001b[1;33m,\u001b[0m\u001b[1;36m1.4\u001b[0m\u001b[1;33m*\u001b[0m\u001b[0mfh\u001b[0m\u001b[1;33m/\u001b[0m\u001b[0mfso2\u001b[0m\u001b[1;33m]\u001b[0m\u001b[1;33m\u001b[0m\u001b[0m\n\u001b[1;32m      9\u001b[0m     \u001b[0mb\u001b[0m\u001b[1;33m,\u001b[0m \u001b[0ma\u001b[0m \u001b[1;33m=\u001b[0m \u001b[0miirdesign\u001b[0m\u001b[1;33m(\u001b[0m\u001b[0mwp\u001b[0m\u001b[1;33m,\u001b[0m \u001b[0mws\u001b[0m\u001b[1;33m,\u001b[0m \u001b[0mgpass\u001b[0m\u001b[1;33m=\u001b[0m\u001b[0mgpass\u001b[0m\u001b[1;33m,\u001b[0m \u001b[0mgstop\u001b[0m\u001b[1;33m=\u001b[0m\u001b[0mgstop\u001b[0m\u001b[1;33m,\u001b[0m \u001b[0mftype\u001b[0m\u001b[1;33m=\u001b[0m\u001b[0mftype\u001b[0m\u001b[1;33m,\u001b[0m \u001b[0moutput\u001b[0m\u001b[1;33m=\u001b[0m\u001b[1;34m'ba'\u001b[0m\u001b[1;33m)\u001b[0m\u001b[1;33m\u001b[0m\u001b[0m\n\u001b[0;32m---> 10\u001b[0;31m     \u001b[0my\u001b[0m \u001b[1;33m=\u001b[0m \u001b[0mfiltfiltlong\u001b[0m\u001b[1;33m(\u001b[0m\u001b[0mfinname\u001b[0m\u001b[1;33m,\u001b[0m \u001b[0mfoutname\u001b[0m\u001b[1;33m,\u001b[0m \u001b[0mfmt\u001b[0m\u001b[1;33m,\u001b[0m \u001b[0mb\u001b[0m\u001b[1;33m,\u001b[0m \u001b[0ma\u001b[0m\u001b[1;33m,\u001b[0m \u001b[0mbuffer_len\u001b[0m\u001b[1;33m,\u001b[0m \u001b[0moverlap_len\u001b[0m\u001b[1;33m,\u001b[0m \u001b[0mmax_len\u001b[0m\u001b[1;33m)\u001b[0m\u001b[1;33m\u001b[0m\u001b[0m\n\u001b[0m\u001b[1;32m     11\u001b[0m     \u001b[1;32mreturn\u001b[0m \u001b[0my\u001b[0m\u001b[1;33m,\u001b[0m \u001b[0mb\u001b[0m\u001b[1;33m,\u001b[0m \u001b[0ma\u001b[0m\u001b[1;33m\u001b[0m\u001b[0m\n\u001b[1;32m     12\u001b[0m \u001b[1;33m\u001b[0m\u001b[0m\n",
      "\u001b[0;32m<ipython-input-4-4732e5d393cb>\u001b[0m in \u001b[0;36mfiltfiltlong\u001b[0;34m(finname, foutname, fmt, b, a, buffer_len, overlap_len, max_len)\u001b[0m\n\u001b[1;32m     48\u001b[0m         \u001b[0mprint\u001b[0m\u001b[1;33m(\u001b[0m\u001b[1;34m'filtering {}--{}'\u001b[0m\u001b[1;33m.\u001b[0m\u001b[0mformat\u001b[0m\u001b[1;33m(\u001b[0m\u001b[0mchk_st_idx\u001b[0m\u001b[1;33m,\u001b[0m \u001b[0mchk_nd_idx\u001b[0m\u001b[1;33m)\u001b[0m\u001b[1;33m)\u001b[0m\u001b[1;33m\u001b[0m\u001b[0m\n\u001b[1;32m     49\u001b[0m         \u001b[0mprint\u001b[0m\u001b[1;33m(\u001b[0m\u001b[0mx\u001b[0m\u001b[1;33m[\u001b[0m\u001b[0mchk_st_idx\u001b[0m\u001b[1;33m:\u001b[0m\u001b[0mchk_nd_idx\u001b[0m\u001b[1;33m]\u001b[0m\u001b[1;33m)\u001b[0m\u001b[1;33m\u001b[0m\u001b[0m\n\u001b[0;32m---> 50\u001b[0;31m         \u001b[0mthis_y_chk\u001b[0m \u001b[1;33m=\u001b[0m \u001b[0mfiltfilt\u001b[0m\u001b[1;33m(\u001b[0m\u001b[0mb\u001b[0m\u001b[1;33m,\u001b[0m \u001b[0ma\u001b[0m\u001b[1;33m,\u001b[0m \u001b[0mx\u001b[0m\u001b[1;33m[\u001b[0m\u001b[0mchk_st_idx\u001b[0m\u001b[1;33m:\u001b[0m\u001b[0mchk_nd_idx\u001b[0m\u001b[1;33m]\u001b[0m\u001b[1;33m,\u001b[0m \u001b[0mmethod\u001b[0m\u001b[1;33m=\u001b[0m\u001b[1;34m\"gust\"\u001b[0m\u001b[1;33m)\u001b[0m\u001b[1;33m\u001b[0m\u001b[0m\n\u001b[0m\u001b[1;32m     51\u001b[0m         \u001b[0mprint\u001b[0m\u001b[1;33m(\u001b[0m\u001b[1;34m'saving {}--{}'\u001b[0m\u001b[1;33m.\u001b[0m\u001b[0mformat\u001b[0m\u001b[1;33m(\u001b[0m\u001b[0mbuff_st_idx\u001b[0m\u001b[1;33m,\u001b[0m \u001b[0mbuff_nd_idx\u001b[0m\u001b[1;33m)\u001b[0m\u001b[1;33m)\u001b[0m\u001b[1;33m\u001b[0m\u001b[0m\n\u001b[1;32m     52\u001b[0m \u001b[1;31m#         y[buff_st_idx:buff_nd_idx] = this_y_chk[rel_st_idx:rel_nd_idx]\u001b[0m\u001b[1;33m\u001b[0m\u001b[1;33m\u001b[0m\u001b[0m\n",
      "\u001b[0;32mC:\\Users\\etien\\Anaconda3\\lib\\site-packages\\scipy\\signal\\signaltools.py\u001b[0m in \u001b[0;36mfiltfilt\u001b[0;34m(b, a, x, axis, padtype, padlen, method, irlen)\u001b[0m\n\u001b[1;32m   2741\u001b[0m \u001b[1;33m\u001b[0m\u001b[0m\n\u001b[1;32m   2742\u001b[0m     \u001b[1;32mif\u001b[0m \u001b[0mmethod\u001b[0m \u001b[1;33m==\u001b[0m \u001b[1;34m\"gust\"\u001b[0m\u001b[1;33m:\u001b[0m\u001b[1;33m\u001b[0m\u001b[0m\n\u001b[0;32m-> 2743\u001b[0;31m         \u001b[0my\u001b[0m\u001b[1;33m,\u001b[0m \u001b[0mz1\u001b[0m\u001b[1;33m,\u001b[0m \u001b[0mz2\u001b[0m \u001b[1;33m=\u001b[0m \u001b[0m_filtfilt_gust\u001b[0m\u001b[1;33m(\u001b[0m\u001b[0mb\u001b[0m\u001b[1;33m,\u001b[0m \u001b[0ma\u001b[0m\u001b[1;33m,\u001b[0m \u001b[0mx\u001b[0m\u001b[1;33m,\u001b[0m \u001b[0maxis\u001b[0m\u001b[1;33m=\u001b[0m\u001b[0maxis\u001b[0m\u001b[1;33m,\u001b[0m \u001b[0mirlen\u001b[0m\u001b[1;33m=\u001b[0m\u001b[0mirlen\u001b[0m\u001b[1;33m)\u001b[0m\u001b[1;33m\u001b[0m\u001b[0m\n\u001b[0m\u001b[1;32m   2744\u001b[0m         \u001b[1;32mreturn\u001b[0m \u001b[0my\u001b[0m\u001b[1;33m\u001b[0m\u001b[0m\n\u001b[1;32m   2745\u001b[0m \u001b[1;33m\u001b[0m\u001b[0m\n",
      "\u001b[0;32mC:\\Users\\etien\\Anaconda3\\lib\\site-packages\\scipy\\signal\\signaltools.py\u001b[0m in \u001b[0;36m_filtfilt_gust\u001b[0;34m(b, a, x, axis, irlen)\u001b[0m\n\u001b[1;32m   2534\u001b[0m     \u001b[1;31m# of the paper between equations (6) and (7).\u001b[0m\u001b[1;33m\u001b[0m\u001b[1;33m\u001b[0m\u001b[0m\n\u001b[1;32m   2535\u001b[0m     \u001b[1;32mif\u001b[0m \u001b[0mdelta\u001b[0m\u001b[1;33m.\u001b[0m\u001b[0mndim\u001b[0m \u001b[1;33m==\u001b[0m \u001b[1;36m1\u001b[0m\u001b[1;33m:\u001b[0m\u001b[1;33m\u001b[0m\u001b[0m\n\u001b[0;32m-> 2536\u001b[0;31m         \u001b[0mic_opt\u001b[0m \u001b[1;33m=\u001b[0m \u001b[0mlinalg\u001b[0m\u001b[1;33m.\u001b[0m\u001b[0mlstsq\u001b[0m\u001b[1;33m(\u001b[0m\u001b[0mM\u001b[0m\u001b[1;33m,\u001b[0m \u001b[0mdelta\u001b[0m\u001b[1;33m)\u001b[0m\u001b[1;33m[\u001b[0m\u001b[1;36m0\u001b[0m\u001b[1;33m]\u001b[0m\u001b[1;33m\u001b[0m\u001b[0m\n\u001b[0m\u001b[1;32m   2537\u001b[0m     \u001b[1;32melse\u001b[0m\u001b[1;33m:\u001b[0m\u001b[1;33m\u001b[0m\u001b[0m\n\u001b[1;32m   2538\u001b[0m         \u001b[1;31m# Reshape delta so it can be used as an array of multiple\u001b[0m\u001b[1;33m\u001b[0m\u001b[1;33m\u001b[0m\u001b[0m\n",
      "\u001b[0;32mC:\\Users\\etien\\Anaconda3\\lib\\site-packages\\scipy\\linalg\\basic.py\u001b[0m in \u001b[0;36mlstsq\u001b[0;34m(a, b, cond, overwrite_a, overwrite_b, check_finite, lapack_driver)\u001b[0m\n\u001b[1;32m    819\u001b[0m \u001b[1;33m\u001b[0m\u001b[0m\n\u001b[1;32m    820\u001b[0m     \"\"\"\n\u001b[0;32m--> 821\u001b[0;31m     \u001b[0ma1\u001b[0m \u001b[1;33m=\u001b[0m \u001b[0m_asarray_validated\u001b[0m\u001b[1;33m(\u001b[0m\u001b[0ma\u001b[0m\u001b[1;33m,\u001b[0m \u001b[0mcheck_finite\u001b[0m\u001b[1;33m=\u001b[0m\u001b[0mcheck_finite\u001b[0m\u001b[1;33m)\u001b[0m\u001b[1;33m\u001b[0m\u001b[0m\n\u001b[0m\u001b[1;32m    822\u001b[0m     \u001b[0mb1\u001b[0m \u001b[1;33m=\u001b[0m \u001b[0m_asarray_validated\u001b[0m\u001b[1;33m(\u001b[0m\u001b[0mb\u001b[0m\u001b[1;33m,\u001b[0m \u001b[0mcheck_finite\u001b[0m\u001b[1;33m=\u001b[0m\u001b[0mcheck_finite\u001b[0m\u001b[1;33m)\u001b[0m\u001b[1;33m\u001b[0m\u001b[0m\n\u001b[1;32m    823\u001b[0m     \u001b[1;32mif\u001b[0m \u001b[0mlen\u001b[0m\u001b[1;33m(\u001b[0m\u001b[0ma1\u001b[0m\u001b[1;33m.\u001b[0m\u001b[0mshape\u001b[0m\u001b[1;33m)\u001b[0m \u001b[1;33m!=\u001b[0m \u001b[1;36m2\u001b[0m\u001b[1;33m:\u001b[0m\u001b[1;33m\u001b[0m\u001b[0m\n",
      "\u001b[0;32mC:\\Users\\etien\\Anaconda3\\lib\\site-packages\\scipy\\_lib\\_util.py\u001b[0m in \u001b[0;36m_asarray_validated\u001b[0;34m(a, check_finite, sparse_ok, objects_ok, mask_ok, as_inexact)\u001b[0m\n\u001b[1;32m    226\u001b[0m             \u001b[1;32mraise\u001b[0m \u001b[0mValueError\u001b[0m\u001b[1;33m(\u001b[0m\u001b[1;34m'masked arrays are not supported'\u001b[0m\u001b[1;33m)\u001b[0m\u001b[1;33m\u001b[0m\u001b[0m\n\u001b[1;32m    227\u001b[0m     \u001b[0mtoarray\u001b[0m \u001b[1;33m=\u001b[0m \u001b[0mnp\u001b[0m\u001b[1;33m.\u001b[0m\u001b[0masarray_chkfinite\u001b[0m \u001b[1;32mif\u001b[0m \u001b[0mcheck_finite\u001b[0m \u001b[1;32melse\u001b[0m \u001b[0mnp\u001b[0m\u001b[1;33m.\u001b[0m\u001b[0masarray\u001b[0m\u001b[1;33m\u001b[0m\u001b[0m\n\u001b[0;32m--> 228\u001b[0;31m     \u001b[0ma\u001b[0m \u001b[1;33m=\u001b[0m \u001b[0mtoarray\u001b[0m\u001b[1;33m(\u001b[0m\u001b[0ma\u001b[0m\u001b[1;33m)\u001b[0m\u001b[1;33m\u001b[0m\u001b[0m\n\u001b[0m\u001b[1;32m    229\u001b[0m     \u001b[1;32mif\u001b[0m \u001b[1;32mnot\u001b[0m \u001b[0mobjects_ok\u001b[0m\u001b[1;33m:\u001b[0m\u001b[1;33m\u001b[0m\u001b[0m\n\u001b[1;32m    230\u001b[0m         \u001b[1;32mif\u001b[0m \u001b[0ma\u001b[0m\u001b[1;33m.\u001b[0m\u001b[0mdtype\u001b[0m \u001b[1;32mis\u001b[0m \u001b[0mnp\u001b[0m\u001b[1;33m.\u001b[0m\u001b[0mdtype\u001b[0m\u001b[1;33m(\u001b[0m\u001b[1;34m'O'\u001b[0m\u001b[1;33m)\u001b[0m\u001b[1;33m:\u001b[0m\u001b[1;33m\u001b[0m\u001b[0m\n",
      "\u001b[0;32mC:\\Users\\etien\\Anaconda3\\lib\\site-packages\\numpy\\lib\\function_base.py\u001b[0m in \u001b[0;36masarray_chkfinite\u001b[0;34m(a, dtype, order)\u001b[0m\n\u001b[1;32m   1031\u001b[0m     \u001b[1;32mif\u001b[0m \u001b[0ma\u001b[0m\u001b[1;33m.\u001b[0m\u001b[0mdtype\u001b[0m\u001b[1;33m.\u001b[0m\u001b[0mchar\u001b[0m \u001b[1;32min\u001b[0m \u001b[0mtypecodes\u001b[0m\u001b[1;33m[\u001b[0m\u001b[1;34m'AllFloat'\u001b[0m\u001b[1;33m]\u001b[0m \u001b[1;32mand\u001b[0m \u001b[1;32mnot\u001b[0m \u001b[0mnp\u001b[0m\u001b[1;33m.\u001b[0m\u001b[0misfinite\u001b[0m\u001b[1;33m(\u001b[0m\u001b[0ma\u001b[0m\u001b[1;33m)\u001b[0m\u001b[1;33m.\u001b[0m\u001b[0mall\u001b[0m\u001b[1;33m(\u001b[0m\u001b[1;33m)\u001b[0m\u001b[1;33m:\u001b[0m\u001b[1;33m\u001b[0m\u001b[0m\n\u001b[1;32m   1032\u001b[0m         raise ValueError(\n\u001b[0;32m-> 1033\u001b[0;31m             \"array must not contain infs or NaNs\")\n\u001b[0m\u001b[1;32m   1034\u001b[0m     \u001b[1;32mreturn\u001b[0m \u001b[0ma\u001b[0m\u001b[1;33m\u001b[0m\u001b[0m\n\u001b[1;32m   1035\u001b[0m \u001b[1;33m\u001b[0m\u001b[0m\n",
      "\u001b[0;31mValueError\u001b[0m: array must not contain infs or NaNs"
     ]
    }
   ],
   "source": [
    "from scipy.signal import filtfilt, iirdesign\n",
    "from numpy import memmap\n",
    "\n",
    "def butterfilt(finname, foutname, fmt, fs, fl=5.0, fh=100.0, gpass=1.0, gstop=30.0, ftype='butter', buffer_len=100000, overlap_len=100, max_len=-1):\n",
    "    \"\"\"Given sampling frequency, low and high pass frequencies design a butterworth filter, and filter our data with it.\"\"\"\n",
    "    fso2 = fs/2.0\n",
    "    wp = [fl/fso2, fh/fso2]\n",
    "    ws = [0.8*fl/fso2,1.4*fh/fso2]\n",
    "    b, a = iirdesign(wp, ws, gpass=gpass, gstop=gstop, ftype=ftype, output='ba')\n",
    "    y = filtfiltlong(finname, foutname, fmt, b, a, buffer_len, overlap_len, max_len)\n",
    "    return y, b, a\n",
    "\n",
    "def filtfiltlong(finname, foutname, fmt, b, a, buffer_len=100000, overlap_len=100, max_len=-1):\n",
    "    \"\"\"Use memmap and chunking to filter continuous data.\n",
    "    Inputs:\n",
    "    finname -\n",
    "    foutname    -\n",
    "    fmt         - data format eg 'i'\n",
    "    b,a         - filter coefficients\n",
    "    buffer_len  - how much data to process at a time\n",
    "    overlap_len - how much data do we add to the end of each chunk to smooth out filter transients\n",
    "    max_len     - how many samples to process. If set to -1, processes the whole file\n",
    "    Outputs:\n",
    "    y           - The memmapped array pointing to the written file\n",
    "    Notes on algorithm:\n",
    "    1. The arrays are memmapped, so we let pylab (numpy) take care of handling large arrays\n",
    "    2. The filtering is done in chunks:\n",
    "    Chunking details:\n",
    "                |<------- b1 ------->||<------- b2 ------->|\n",
    "    -----[------*--------------{-----*------]--------------*------}----------\n",
    "            |<-------------- c1 -------------->|\n",
    "                                |<-------------- c2 -------------->|\n",
    "    From the array of data we cut out contiguous buffers (b1,b2,...) and to each buffer we add some extra overlap to\n",
    "    make chunks (c1,c2). The overlap helps to remove the transients from the filtering which would otherwise appear at\n",
    "    each buffer boundary.\n",
    "    \"\"\"\n",
    "    x = memmap(finname, dtype=fmt, mode='r')\n",
    "    if max_len == -1:\n",
    "        max_len = x.size\n",
    "    y = memmap(foutname, dtype=fmt, mode='w+', shape=max_len)\n",
    "\n",
    "    for buff_st_idx in range(0, max_len, buffer_len):\n",
    "        chk_st_idx = max(0, buff_st_idx - overlap_len)\n",
    "        buff_nd_idx = min(max_len, buff_st_idx + buffer_len)\n",
    "        chk_nd_idx = min(x.size, buff_nd_idx + overlap_len)\n",
    "        rel_st_idx = buff_st_idx - chk_st_idx\n",
    "        rel_nd_idx = buff_nd_idx - chk_st_idx\n",
    "        print('filtering {}--{}'.format(chk_st_idx, chk_nd_idx))\n",
    "        print(x[chk_st_idx:chk_nd_idx])\n",
    "        this_y_chk = filtfilt(b, a, x[chk_st_idx:chk_nd_idx], method=\"gust\")\n",
    "        print('saving {}--{}'.format(buff_st_idx, buff_nd_idx))\n",
    "#         y[buff_st_idx:buff_nd_idx] = this_y_chk[rel_st_idx:rel_nd_idx]\n",
    "\n",
    "    return y\n",
    "\n",
    "y, b, a = butterfilt(finname='channels/gap_ch.02.raw', buffer_len=10000,\n",
    "                     foutname='filtered.raw',\n",
    "                     fmt=np.int16,\n",
    "                     fs=30000,\n",
    "                     fl=500,\n",
    "                     fh=8000,\n",
    "                     overlap_len=500)\n",
    "\n",
    "plt.plot(x)\n",
    "plt.plot(y)"
   ]
  },
  {
   "cell_type": "code",
   "execution_count": 8,
   "metadata": {},
   "outputs": [
    {
     "data": {
      "text/plain": [
       "False"
      ]
     },
     "execution_count": 8,
     "metadata": {},
     "output_type": "execute_result"
    }
   ],
   "source": [
    "np.any(np.isinf(y))"
   ]
  },
  {
   "cell_type": "code",
   "execution_count": null,
   "metadata": {
    "collapsed": true
   },
   "outputs": [],
   "source": []
  },
  {
   "cell_type": "code",
   "execution_count": null,
   "metadata": {
    "collapsed": true
   },
   "outputs": [],
   "source": []
  },
  {
   "cell_type": "code",
   "execution_count": null,
   "metadata": {
    "collapsed": true
   },
   "outputs": [],
   "source": []
  },
  {
   "cell_type": "code",
   "execution_count": null,
   "metadata": {
    "collapsed": true
   },
   "outputs": [],
   "source": []
  },
  {
   "cell_type": "code",
   "execution_count": null,
   "metadata": {
    "collapsed": true
   },
   "outputs": [],
   "source": []
  },
  {
   "cell_type": "code",
   "execution_count": null,
   "metadata": {
    "collapsed": true
   },
   "outputs": [],
   "source": []
  },
  {
   "cell_type": "code",
   "execution_count": 3,
   "metadata": {},
   "outputs": [
    {
     "name": "stdout",
     "output_type": "stream",
     "text": [
      "<JagularFileMap: 5 files spanning 9:45:54:849 hours (missing 52:19:480 minutes between files)> at 0x1c1ed47c898\n"
     ]
    }
   ],
   "source": [
    "file_list = ['../sample_data/sample_data_1.rec',\n",
    "             '../sample_data/sample_data_3.rec',\n",
    "             '../sample_data/sample_data_4.rec',\n",
    "             '../sample_data/sample_data_5.rec',\n",
    "             '../sample_data/sample_data_2.rec'\n",
    "            ]\n",
    "\n",
    "jfm = jag.io.JagularFileMap(file_list)\n",
    "\n",
    "print(jfm)"
   ]
  },
  {
   "cell_type": "code",
   "execution_count": 4,
   "metadata": {},
   "outputs": [
    {
     "name": "stdout",
     "output_type": "stream",
     "text": [
      "<JagularFileMap: 1 file spanning 7.1775 seconds> at 0x1c1ea1fa208\n"
     ]
    }
   ],
   "source": [
    "file_list = ['../sample_data/gap_data.rec']\n",
    "jfm = jag.io.JagularFileMap(file_list)\n",
    "print(jfm)"
   ]
  },
  {
   "cell_type": "code",
   "execution_count": 5,
   "metadata": {
    "collapsed": true
   },
   "outputs": [],
   "source": [
    "ts = np.fromfile('timestamps.raw', dtype=np.uint32)"
   ]
  },
  {
   "cell_type": "code",
   "execution_count": 6,
   "metadata": {},
   "outputs": [
    {
     "name": "stdout",
     "output_type": "stream",
     "text": [
      "Timestamps contain duplicates: False\n",
      "[]\n"
     ]
    }
   ],
   "source": [
    "print('Timestamps contain duplicates: {}'.format(jag.utils.has_duplicate_timestamps(timestamps=ts)))\n",
    "\n",
    "dupes = jag.utils.get_duplicate_timestamps(timestamps=ts)\n",
    "print(dupes)"
   ]
  },
  {
   "cell_type": "code",
   "execution_count": 7,
   "metadata": {},
   "outputs": [
    {
     "data": {
      "text/plain": [
       "array([     0,      1,      2, ..., 215323, 215324, 215325], dtype=uint32)"
      ]
     },
     "execution_count": 7,
     "metadata": {},
     "output_type": "execute_result"
    }
   ],
   "source": [
    "ts"
   ]
  },
  {
   "cell_type": "code",
   "execution_count": 8,
   "metadata": {
    "collapsed": true
   },
   "outputs": [],
   "source": [
    "# search for missing data, and either interpolate, or split into epochs\n",
    "\n",
    "# to filter:\n",
    "# (1) find contiguous segments, identify sample boundaries\n",
    "# (2) for each contiguous segment in the table, do the filtering independently\n",
    "\n",
    "# this functionality should probably be (a) automatic when calling filtering, and (b) available explicitly as well\n",
    "\n",
    "# assume timestamps are integral (uint32)\n",
    "# assume timestamps are unsigned, positive?\n",
    "# assume timestamps are in order\n",
    "# assume no duplicate timestamps\n",
    "# assume no missing timestamps\n",
    "\n",
    "\n",
    "# NOTE: in-core vs out-of-core needs to be handled and tested with memmap\n",
    "# NOTE: channels (and timestamps) are read in chunks, so we should do the\n",
    "#       processing in chunks, and maybe later check for consistency in the\n",
    "#       entire timestamps file. We therefore also need an overlap, since \n",
    "#       we may have to interpolate over two chunks of data! \n",
    "\n",
    "in_core = True\n",
    "ts_dtype = np.uint32\n",
    "\n",
    "# step 1: make sure that timestamps are integral, and the expected datatype:\n",
    "if ts.dtype != ts_dtype:\n",
    "    raise TypeError('timestamps are in an unexpected format: {} expected, but {} found!'.format(ts_dtype, ts.dtype))\n",
    "# step 2: make sure that timestamps are ordered\n",
    "if in_core:\n",
    "    if not jag.utils.is_sorted(ts):\n",
    "        ts = np.sort(ts) # this assumes in-core\n",
    "else:\n",
    "    raise NotImplementedError('out-of-core sorting has not been implemented yet')\n",
    "# step 3: check for, and remove duplicate timestamps\n",
    "\n",
    "# step 4: check for, and prepare for dealing with missing timestamps\n",
    "    \n",
    "\n",
    "gap_lengths = jag.utils.get_gap_lengths_from_timestamps(timestamps=ts, in_core=True)"
   ]
  },
  {
   "cell_type": "code",
   "execution_count": null,
   "metadata": {
    "collapsed": true
   },
   "outputs": [],
   "source": []
  },
  {
   "cell_type": "code",
   "execution_count": 9,
   "metadata": {
    "collapsed": true
   },
   "outputs": [],
   "source": [
    "ts = ts.astype(np.uint64)"
   ]
  },
  {
   "cell_type": "code",
   "execution_count": 10,
   "metadata": {},
   "outputs": [
    {
     "data": {
      "text/plain": [
       "True"
      ]
     },
     "execution_count": 10,
     "metadata": {},
     "output_type": "execute_result"
    }
   ],
   "source": [
    "jag.utils.is_sorted(ts)"
   ]
  },
  {
   "cell_type": "code",
   "execution_count": 11,
   "metadata": {},
   "outputs": [
    {
     "data": {
      "text/plain": [
       "array([     0,      1,      2, ..., 215323, 215324, 215325], dtype=uint64)"
      ]
     },
     "execution_count": 11,
     "metadata": {},
     "output_type": "execute_result"
    }
   ],
   "source": [
    "ts"
   ]
  },
  {
   "cell_type": "code",
   "execution_count": 12,
   "metadata": {},
   "outputs": [
    {
     "data": {
      "text/plain": [
       "0"
      ]
     },
     "execution_count": 12,
     "metadata": {},
     "output_type": "execute_result"
    }
   ],
   "source": [
    "len(np.argwhere(np.diff(ts) < 1))"
   ]
  },
  {
   "cell_type": "code",
   "execution_count": 13,
   "metadata": {},
   "outputs": [
    {
     "data": {
      "text/plain": [
       "97268"
      ]
     },
     "execution_count": 13,
     "metadata": {},
     "output_type": "execute_result"
    }
   ],
   "source": [
    "ts[67268]\n",
    "ts[67269]\n"
   ]
  },
  {
   "cell_type": "code",
   "execution_count": 14,
   "metadata": {},
   "outputs": [
    {
     "data": {
      "text/plain": [
       "[<matplotlib.lines.Line2D at 0x1c1ed828860>]"
      ]
     },
     "execution_count": 14,
     "metadata": {},
     "output_type": "execute_result"
    },
    {
     "data": {
      "image/png": "[encoded data removed]",
      "text/plain": [
       "<matplotlib.figure.Figure at 0x1c1ed519400>"
      ]
     },
     "metadata": {},
     "output_type": "display_data"
    }
   ],
   "source": [
    "plt.plot(gap_lengths)"
   ]
  },
  {
   "cell_type": "code",
   "execution_count": 15,
   "metadata": {},
   "outputs": [
    {
     "ename": "SyntaxError",
     "evalue": "invalid syntax (<ipython-input-15-5283a05da4bc>, line 1)",
     "output_type": "error",
     "traceback": [
      "\u001b[0;36m  File \u001b[0;32m\"<ipython-input-15-5283a05da4bc>\"\u001b[0;36m, line \u001b[0;32m1\u001b[0m\n\u001b[0;31m    def linear_interp_gaps(gap=10)\u001b[0m\n\u001b[0m                                  ^\u001b[0m\n\u001b[0;31mSyntaxError\u001b[0m\u001b[0;31m:\u001b[0m invalid syntax\n"
     ]
    }
   ],
   "source": [
    "def linear_interp_gaps(gap=10)"
   ]
  },
  {
   "cell_type": "code",
   "execution_count": 16,
   "metadata": {
    "collapsed": true
   },
   "outputs": [],
   "source": [
    "cs = jag.utils.get_contiguous_segments(ts)\n",
    "\n",
    "gap_lengths = cs[1:,0] - cs[:-1,1]\n"
   ]
  },
  {
   "cell_type": "code",
   "execution_count": 17,
   "metadata": {},
   "outputs": [
    {
     "data": {
      "text/plain": [
       "array([[      0.,   62011.],\n",
       "       [  92010.,  215326.]])"
      ]
     },
     "execution_count": 17,
     "metadata": {},
     "output_type": "execute_result"
    }
   ],
   "source": [
    "cs"
   ]
  },
  {
   "cell_type": "code",
   "execution_count": 18,
   "metadata": {},
   "outputs": [
    {
     "data": {
      "text/plain": [
       "[<matplotlib.lines.Line2D at 0x1c1edb0ecc0>]"
      ]
     },
     "execution_count": 18,
     "metadata": {},
     "output_type": "execute_result"
    },
    {
     "data": {
      "image/png": "[encoded data removed]",
      "text/plain": [
       "<matplotlib.figure.Figure at 0x1c1ed833518>"
      ]
     },
     "metadata": {},
     "output_type": "display_data"
    }
   ],
   "source": [
    "plt.plot(ts)"
   ]
  },
  {
   "cell_type": "code",
   "execution_count": 19,
   "metadata": {},
   "outputs": [
    {
     "data": {
      "text/plain": [
       "[<matplotlib.lines.Line2D at 0x1c1edcf4710>]"
      ]
     },
     "execution_count": 19,
     "metadata": {},
     "output_type": "execute_result"
    },
    {
     "data": {
      "image/png": "[encoded data removed]",
      "text/plain": [
       "<matplotlib.figure.Figure at 0x1c1edb21860>"
      ]
     },
     "metadata": {},
     "output_type": "display_data"
    }
   ],
   "source": [
    "# load unfiltered data ASSUMING CONTINUOUS\n",
    "x = np.fromfile('channels/gap_ch.02.raw', dtype=np.int16)\n",
    "plt.plot(ts,x)"
   ]
  },
  {
   "cell_type": "code",
   "execution_count": 23,
   "metadata": {},
   "outputs": [],
   "source": [
    "def is_integer(my_list):\n",
    "    \"\"\"\n",
    "    my_list = [1,2,5,6, 9.0, '65'] # True, since all elements can be cast without loss to integers\n",
    "    my_list = [1,2,5,6, 9.0, 'a'] # False, since 'a' is not an integer\n",
    "    \"\"\"\n",
    "    try:\n",
    "        return all(float(item).is_integer() for item in my_list)\n",
    "    except ValueError:\n",
    "        pass\n",
    "    return False"
   ]
  },
  {
   "cell_type": "code",
   "execution_count": null,
   "metadata": {},
   "outputs": [],
   "source": []
  },
  {
   "cell_type": "code",
   "execution_count": 21,
   "metadata": {},
   "outputs": [
    {
     "data": {
      "text/plain": [
       "True"
      ]
     },
     "execution_count": 21,
     "metadata": {},
     "output_type": "execute_result"
    }
   ],
   "source": [
    "my_list = [1,2,5,6, 9.0, '65']\n",
    "\n",
    "is_integer(my_list)"
   ]
  },
  {
   "cell_type": "code",
   "execution_count": 23,
   "metadata": {},
   "outputs": [
    {
     "name": "stderr",
     "output_type": "stream",
     "text": [
      "d:\\dropbox\\code\\jagular\\jagular\\utils.py:116: UserWarning: some steps in the data are smaller than the requested step size.\n"
     ]
    }
   ],
   "source": [
    "max_gap_size = 200\n",
    "\n",
    "ch_out_prefix = 'channels/gap_'\n",
    "n_chan_zfill = len(str(jfm._reader.n_spike_channels))\n",
    "ch_out_files = [ch_out_prefix + 'ch.' + str(n).zfill(n_chan_zfill) + '.raw' for n in range(jfm._reader.n_spike_channels)]\n",
    "\n",
    "from contextlib import ExitStack\n",
    "from scipy.interpolate import interp1d\n",
    "\n",
    "prev_channel_data = None # used for across-block interpolation\n",
    "prev_ts_data = None      # used for across-block interpolation\n",
    "# assumption: block_size >> interp_size (we can check for this with an assert)\n",
    "\n",
    "with ExitStack() as stack:\n",
    "    ts_file = stack.enter_context(open('timestamps.raw', 'wb+'))\n",
    "    ch_files = [stack.enter_context(open(fname, 'wb+')) for fname in ch_out_files]\n",
    "    \n",
    "    for ii, (ts, all_ch_data) in enumerate(jfm.read_stitched_files(block_size=800)):\n",
    "        # inspect timestamps, and interpolate if necessary...\n",
    "        # TODO: add full sanitization here...\n",
    "        \n",
    "        if max_gap_size > 0:\n",
    "                \n",
    "            if prev_ts_data is not None: \n",
    "                inter_block_gap = ts[0] - prev_ts_data\n",
    "                if (inter_block_gap <= max_gap_size) & (inter_block_gap > 1):\n",
    "                    print('we need to interpolate across blocks! (block {} to {}, sample {} to {})'.format(ii-1, ii, prev_ts_data, ts[0]))\n",
    "                    pre_ts = np.arange(prev_ts_data, ts[0])\n",
    "                    f = interp1d([prev_ts_data, ts[0]], np.vstack([prev_channel_data, all_ch_data[:,0]]).T, assume_sorted=True)\n",
    "                    pre_ch = f(pre_ts) # in floats, not np.int16!\n",
    "                    pre_ch = pre_ch.astype(np.int16)\n",
    "                    print(pre_ch.shape)\n",
    "                    print(all_ch_data.shape)\n",
    "                    all_ch_data = np.hstack([pre_ch, all_ch_data])\n",
    "                    print(all_ch_data.shape)\n",
    "                    ts = np.hstack([pre_ts, ts])\n",
    "                    print(ts)\n",
    "\n",
    "            prev_ts_data = ts[-1]\n",
    "            prev_channel_data = all_ch_data[:,-1]\n",
    "\n",
    "            # now interpolate all interior qualifying regions of the block:\n",
    "            # get gaps\n",
    "            cs = jag.utils.get_contiguous_segments(ts).astype(np.int32)\n",
    "            gap_lengths = cs[1:,0] - cs[:-1,1]\n",
    "\n",
    "            if np.any(gap_lengths <= max_gap_size):\n",
    "                # only do this if there are some gaps satisfying the criteria\n",
    "                tt = np.argwhere(gap_lengths<=max_gap_size)\n",
    "                vv = np.argwhere(gap_lengths>max_gap_size)\n",
    "                ccl = (np.cumsum(cs[:,1] - cs[:,0]) - 1).astype(np.int32)\n",
    "                ccr = np.cumsum(cs[:,1] - cs[:,0]).astype(np.int32)\n",
    "                orig_data_locs = np.vstack((np.insert(ccr[:-1],0,0),ccr)).T # want this as seperate function, too!\n",
    "                split_data_ts = []\n",
    "                split_data = []\n",
    "                for kk, (start, stop) in enumerate(orig_data_locs):\n",
    "                    split_data_ts.append(cs[kk,0])\n",
    "                    split_data.append(all_ch_data[:,start:stop])\n",
    "                stops = cs[:,1]\n",
    "                starts = cs[1:,0]\n",
    "\n",
    "                interpl_ts = np.atleast_1d(stops[tt].squeeze())\n",
    "                interpl_ch = np.atleast_2d(all_ch_data[:,ccl[tt]])\n",
    "                interpl_ch = interpl_ch.squeeze(axis=2)\n",
    "\n",
    "                interpr_ts = np.atleast_1d(starts[tt].squeeze())\n",
    "                interpr_ch = np.atleast_2d(all_ch_data[:,ccr[tt]])\n",
    "                interpr_ch = interpr_ch.squeeze(axis=2)\n",
    "\n",
    "                new_cs = np.hstack((np.vstack((cs[0,0], starts[vv])), np.vstack((stops[vv], cs[-1,1]))))\n",
    "\n",
    "                # generate new timestamps:\n",
    "                ts_list = [list((nn for nn in range(start, stop))) for (start, stop) in new_cs]\n",
    "                ts_new = [item for sublist in ts_list for item in sublist]\n",
    "\n",
    "                for kk, (itsl, itsr) in enumerate(zip(interpl_ts, interpr_ts)):\n",
    "                    # build interp object\n",
    "                    f = interp1d([itsl-1, itsr], np.vstack([interpl_ch[:,kk], interpr_ch[:,kk]]).T, assume_sorted=True)\n",
    "                    interp_ts = np.arange(itsl, itsr)\n",
    "                    interp_ch = f(interp_ts) # in floats, not np.int16!\n",
    "                    interp_ch = interp_ch.astype(np.int16)\n",
    "                    split_data_ts.append(itsl)\n",
    "                    split_data.append(interp_ch)\n",
    "\n",
    "                # now reassemble split channeldata chunks in order:\n",
    "                chunk_order = np.argsort(split_data_ts)\n",
    "                ch_data_new = np.hstack([split_data[hh] for hh in chunk_order])\n",
    "\n",
    "                all_ch_data = ch_data_new\n",
    "                ts = ts_new\n",
    "\n",
    "        # re-estimate number of packets\n",
    "        num_packets = len(ts)\n",
    "        my_ch_struct = struct.Struct('<%dh' % num_packets)\n",
    "        my_ts_struct = struct.Struct('<%dI' % num_packets)\n",
    "        ts_packed = my_ts_struct.pack(*ts)\n",
    "                \n",
    "        for ch in range(jfm._reader.n_spike_channels):\n",
    "            ch_packed = my_ch_struct.pack(*all_ch_data[ch,:])  \n",
    "            # write current channel data of current block to file:\n",
    "            ch_files[ch].write(ch_packed)\n",
    "            \n",
    "        # write timestamps of current block to file:\n",
    "        ts_file.write(ts_packed)  "
   ]
  },
  {
   "cell_type": "code",
   "execution_count": 26,
   "metadata": {},
   "outputs": [
    {
     "name": "stdout",
     "output_type": "stream",
     "text": [
      "<AnalogSignalArray at 0x1c1fe087978: 1 signals (2 segments)> for a total of 6.1776 seconds\n"
     ]
    },
    {
     "name": "stderr",
     "output_type": "stream",
     "text": [
      "d:\\dropbox\\code\\nelpy\\nelpy\\core\\_analogsignalarray.py:113: UserWarning: fs was not specified, so we try to estimate it from the data...\n",
      "d:\\dropbox\\code\\nelpy\\nelpy\\core\\_analogsignalarray.py:115: UserWarning: fs was estimated to be 30000.000000003303 Hz\n",
      "d:\\dropbox\\code\\nelpy\\nelpy\\core\\_analogsignalarray.py:267: UserWarning: creating support from time and sampling rate, fs!\n"
     ]
    },
    {
     "data": {
      "text/plain": [
       "<matplotlib.axes._subplots.AxesSubplot at 0x1c1fe0a8f60>"
      ]
     },
     "execution_count": 26,
     "metadata": {},
     "output_type": "execute_result"
    },
    {
     "data": {
      "image/png": "[encoded data removed]",
      "text/plain": [
       "<matplotlib.figure.Figure at 0x1c1edb09588>"
      ]
     },
     "metadata": {},
     "output_type": "display_data"
    }
   ],
   "source": [
    "ts = np.fromfile('timestamps.raw', dtype=np.uint32)\n",
    "y = np.fromfile('channels/gap_ch.02.raw', dtype=np.int16)\n",
    "sig = nel.AnalogSignalArray(ydata=y, timestamps=ts/30000)\n",
    "print(sig)\n",
    "npl.plot(sig)"
   ]
  },
  {
   "cell_type": "code",
   "execution_count": 25,
   "metadata": {},
   "outputs": [
    {
     "data": {
      "text/plain": [
       "<matplotlib.axes._subplots.AxesSubplot at 0x1c1edd2c0f0>"
      ]
     },
     "execution_count": 25,
     "metadata": {},
     "output_type": "execute_result"
    },
    {
     "data": {
      "image/png": "[encoded data removed]",
      "text/plain": [
       "<matplotlib.figure.Figure at 0x1c1edb3d438>"
      ]
     },
     "metadata": {},
     "output_type": "display_data"
    }
   ],
   "source": []
  },
  {
   "cell_type": "code",
   "execution_count": 21,
   "metadata": {},
   "outputs": [
    {
     "name": "stderr",
     "output_type": "stream",
     "text": [
      "d:\\dropbox\\code\\nelpy\\nelpy\\core\\_analogsignalarray.py:113: UserWarning: fs was not specified, so we try to estimate it from the data...\n",
      "d:\\dropbox\\code\\nelpy\\nelpy\\core\\_analogsignalarray.py:115: UserWarning: fs was estimated to be 30000.000000003303 Hz\n",
      "d:\\dropbox\\code\\nelpy\\nelpy\\core\\_analogsignalarray.py:267: UserWarning: creating support from time and sampling rate, fs!\n"
     ]
    }
   ],
   "source": [
    "sig = nel.AnalogSignalArray(ydata=all_ch_data, timestamps=np.array(ts)/30000)"
   ]
  },
  {
   "cell_type": "code",
   "execution_count": 22,
   "metadata": {},
   "outputs": [
    {
     "name": "stdout",
     "output_type": "stream",
     "text": [
      "<AnalogSignalArray at 0x1c1edcb7f98: 80 signals (2 segments)> for a total of 6.1776 seconds\n"
     ]
    },
    {
     "data": {
      "text/plain": [
       "<matplotlib.axes._subplots.AxesSubplot at 0x1c1edd02ac8>"
      ]
     },
     "execution_count": 22,
     "metadata": {},
     "output_type": "execute_result"
    },
    {
     "data": {
      "image/png": "[encoded data removed]",
      "text/plain": [
       "<matplotlib.figure.Figure at 0x1c1ed519278>"
      ]
     },
     "metadata": {},
     "output_type": "display_data"
    }
   ],
   "source": [
    "print(sig)\n",
    "npl.plot(sig[:,1], lw=0.5)"
   ]
  },
  {
   "cell_type": "code",
   "execution_count": 301,
   "metadata": {},
   "outputs": [
    {
     "name": "stdout",
     "output_type": "stream",
     "text": [
      "<AnalogSignalArray at 0x242968e9ef0: 80 signals (51 segments)> for a total of 51.0 seconds\n"
     ]
    },
    {
     "data": {
      "text/plain": [
       "<matplotlib.axes._subplots.AxesSubplot at 0x24298487198>"
      ]
     },
     "execution_count": 301,
     "metadata": {},
     "output_type": "execute_result"
    },
    {
     "data": {
      "image/png": "[encoded data removed]",
      "text/plain": [
       "<matplotlib.figure.Figure at 0x242984996a0>"
      ]
     },
     "metadata": {},
     "output_type": "display_data"
    }
   ],
   "source": [
    "print(sig)\n",
    "npl.plot(sig[:,1], lw=0.5)"
   ]
  },
  {
   "cell_type": "code",
   "execution_count": 252,
   "metadata": {},
   "outputs": [
    {
     "data": {
      "text/plain": [
       "False"
      ]
     },
     "execution_count": 252,
     "metadata": {},
     "output_type": "execute_result"
    }
   ],
   "source": []
  },
  {
   "cell_type": "code",
   "execution_count": 244,
   "metadata": {},
   "outputs": [
    {
     "name": "stdout",
     "output_type": "stream",
     "text": [
      "[] -- []\n",
      "---------\n",
      "[[ 800  806]\n",
      " [ 999 1198]\n",
      " [1385 1980]]\n"
     ]
    }
   ],
   "source": [
    "gap_size = 90\n",
    "# TODO:::\n",
    "if np.any(gap_lengths <= gap_size):\n",
    "    # only do this if there are some gaps satisfying the criteria\n",
    "    tt = np.argwhere(gap_lengths<=gap_size)\n",
    "    vv = np.argwhere(gap_lengths>gap_size)\n",
    "    ccl = (np.cumsum(cs[:,1] - cs[:,0]) - 1).astype(np.int32)\n",
    "    ccr = np.cumsum(cs[:,1] - cs[:,0]).astype(np.int32)\n",
    "    orig_data_locs = np.vstack((np.insert(ccr[:-1],0,0),ccr)).T # want this as seperate function, too!\n",
    "    split_data_ts = []\n",
    "    split_data = []\n",
    "    for kk, (start, stop) in enumerate(orig_data_locs):\n",
    "        split_data_ts.append(cs[kk,0])\n",
    "        split_data.append(all_ch_data[:,start:stop])\n",
    "    stops = cs[:,1]\n",
    "    starts = cs[1:,0]\n",
    "\n",
    "    interpl_ts = np.atleast_1d(stops[tt].squeeze())\n",
    "    interpl_ch = np.atleast_2d(all_ch_data[:,ccl[tt]])\n",
    "    interpl_ch = interpl_ch.squeeze(axis=2)\n",
    "\n",
    "    interpr_ts = np.atleast_1d(starts[tt].squeeze())\n",
    "    interpr_ch = np.atleast_2d(all_ch_data[:,ccr[tt]])\n",
    "    interpr_ch = interpr_ch.squeeze(axis=2)\n",
    "\n",
    "    new_cs = np.hstack((np.vstack((cs[0,0], starts[vv])), np.vstack((stops[vv], cs[-1,1]))))\n",
    "\n",
    "#     print(interpl_ts, '--', interpr_ts)\n",
    "#     print('---------')\n",
    "#     print(new_cs)\n",
    "\n",
    "    # generate new timestamps:\n",
    "    ts_list = [list((nn for nn in range(start, stop))) for (start, stop) in new_cs]\n",
    "    ts_new = [item for sublist in ts_list for item in sublist]\n",
    "\n",
    "    for kk, (itsl, itsr) in enumerate(zip(interpl_ts, interpr_ts)):\n",
    "        # build interp object\n",
    "#         print(itsl, itsr)\n",
    "        f = interp1d([itsl-1, itsr], np.vstack([interpl_ch[:,kk], interpr_ch[:,kk]]).T, assume_sorted=True)\n",
    "        interp_ts = np.arange(itsl, itsr)\n",
    "        interp_ch = f(interp_ts) # in floats, not np.int16!\n",
    "        interp_ch = interp_ch.astype(np.int16)\n",
    "        split_data_ts.append(itsl)\n",
    "        split_data.append(interp_ch)\n",
    "\n",
    "    # now reassemble split channeldata chunks in order:\n",
    "    chunk_order = np.argsort(split_data_ts)\n",
    "    ch_data_new = np.hstack([split_data[hh] for hh in chunk_order])\n",
    "else:\n",
    "    ch_data_new = all_ch_data\n",
    "    ts_new = ts"
   ]
  },
  {
   "cell_type": "code",
   "execution_count": 245,
   "metadata": {},
   "outputs": [
    {
     "data": {
      "text/plain": [
       "(80, 800)"
      ]
     },
     "execution_count": 245,
     "metadata": {},
     "output_type": "execute_result"
    }
   ],
   "source": [
    "ch_data_new.shape"
   ]
  },
  {
   "cell_type": "code",
   "execution_count": 221,
   "metadata": {},
   "outputs": [
    {
     "data": {
      "text/plain": [
       "array([[-11025, -11070, -11073, ...,  -9066,  -9104,  -9037],\n",
       "       [  6910,   6824,   6778, ...,   5739,   5737,   5708],\n",
       "       [ 32096,  32168,  32113, ...,  29912,  29864,  29854],\n",
       "       ..., \n",
       "       [ 32767,  32767,  32767, ...,  32767,  32767,  32767],\n",
       "       [  1945,   1980,   1962, ...,   1294,   1304,   1259],\n",
       "       [ -1733,  -1666,  -1528, ...,   -640,   -730,   -906]], dtype=int16)"
      ]
     },
     "execution_count": 221,
     "metadata": {},
     "output_type": "execute_result"
    }
   ],
   "source": [
    "np.hstack((split_data[1], split_data[1]))"
   ]
  },
  {
   "cell_type": "code",
   "execution_count": 219,
   "metadata": {},
   "outputs": [
    {
     "data": {
      "text/plain": [
       "array([[-11167, -11096, -11122, ...,  -9066,  -9104,  -9037],\n",
       "       [  6709,   6780,   6821, ...,   5739,   5737,   5708],\n",
       "       [ 32157,  32107,  32045, ...,  29912,  29864,  29854],\n",
       "       ..., \n",
       "       [ 32767,  32767,  32767, ...,  32767,  32767,  32767],\n",
       "       [  2035,   1983,   2002, ...,   1294,   1304,   1259],\n",
       "       [ -2034,  -2171,  -2203, ...,   -640,   -730,   -906]], dtype=int16)"
      ]
     },
     "execution_count": 219,
     "metadata": {},
     "output_type": "execute_result"
    }
   ],
   "source": [
    "np.hstack((split_data[0][1], split_data[1][1]))"
   ]
  },
  {
   "cell_type": "code",
   "execution_count": 211,
   "metadata": {},
   "outputs": [
    {
     "data": {
      "text/plain": [
       "array([0, 1, 3, 2], dtype=int64)"
      ]
     },
     "execution_count": 211,
     "metadata": {},
     "output_type": "execute_result"
    }
   ],
   "source": [
    "chunk_order"
   ]
  },
  {
   "cell_type": "code",
   "execution_count": 203,
   "metadata": {},
   "outputs": [
    {
     "data": {
      "text/plain": [
       "[(800, array([[-11167, -11096, -11122, -11049, -11072, -11025],\n",
       "         [  6709,   6780,   6821,   6851,   6849,   6902],\n",
       "         [ 32157,  32107,  32045,  32072,  32036,  32040],\n",
       "         [ 31370,  31475,  31433,  31351,  31356,  31456],\n",
       "         [ 28700,  28651,  28644,  28693,  28718,  28687],\n",
       "         [ -7150,  -7105,  -7008,  -6989,  -6967,  -6927],\n",
       "         [ 26322,  26328,  26293,  26327,  26369,  26366],\n",
       "         [ 32767,  32767,  32767,  32767,  32767,  32767],\n",
       "         [ 23504,  23575,  23571,  23487,  23481,  23477],\n",
       "         [ 32767,  32767,  32767,  32767,  32767,  32767],\n",
       "         [ 13166,  13210,  13243,  13168,  13073,  13046],\n",
       "         [  8880,   8834,   8930,   8983,   8884,   8846],\n",
       "         [  2440,   2507,   2512,   2464,   2463,   2483],\n",
       "         [ 32767,  32767,  32767,  32767,  32767,  32767],\n",
       "         [ -2331,  -2259,  -2284,  -2302,  -2415,  -2395],\n",
       "         [  1772,   1765,   1775,   1790,   1790,   1732],\n",
       "         [  3294,   3360,   3377,   3291,   3288,   3290],\n",
       "         [ 32767,  32767,  32767,  32767,  32767,  32767],\n",
       "         [ 32767,  32767,  32767,  32767,  32767,  32767],\n",
       "         [ 15681,  15677,  15707,  15678,  15684,  15678],\n",
       "         [ 22108,  22081,  22099,  22074,  22049,  22065],\n",
       "         [ -7549,  -7473,  -7471,  -7509,  -7499,  -7485],\n",
       "         [ 32765,  32767,  32767,  32767,  32767,  32711],\n",
       "         [ 32767,  32767,  32767,  32767,  32767,  32767],\n",
       "         [-27104, -27196, -27274, -27213, -27142, -27131],\n",
       "         [  5960,   5830,   5986,   5951,   5868,   5926],\n",
       "         [ 32767,  32767,  32767,  32767,  32767,  32767],\n",
       "         [-16571, -16503, -16466, -16452, -16468, -16425],\n",
       "         [  9195,   9105,   9096,   9180,   9194,   9164],\n",
       "         [  4569,   4476,   4585,   4539,   4472,   4517],\n",
       "         [-12254, -12270, -12283, -12263, -12252, -12301],\n",
       "         [-19049, -19045, -18991, -18966, -18874, -18855],\n",
       "         [ 15583,  15456,  15382,  15379,  15375,  15367],\n",
       "         [-30032, -30138, -29982, -29993, -30010, -29970],\n",
       "         [   -76,   -147,   -191,   -168,   -216,   -258],\n",
       "         [  5361,   5394,   5448,   5444,   5476,   5514],\n",
       "         [ 32767,  32767,  32767,  32767,  32767,  32767],\n",
       "         [ 10239,  10164,  10250,  10205,  10149,  10150],\n",
       "         [ -9331,  -9428,  -9445,  -9437,  -9505,  -9550],\n",
       "         [-11201, -11170, -11136, -11068, -11074, -11075],\n",
       "         [ 32378,  32262,  32314,  32142,  31850,  31754],\n",
       "         [ 30014,  29973,  30044,  30086,  30095,  30086],\n",
       "         [ -8293,  -8344,  -8288,  -8333,  -8322,  -8283],\n",
       "         [  4638,   4556,   4672,   4574,   4529,   4560],\n",
       "         [ 16253,  16140,  16293,  16257,  16128,  16217],\n",
       "         [ 32767,  32767,  32767,  32767,  32767,  32767],\n",
       "         [  8066,   8018,   8022,   8067,   8063,   8049],\n",
       "         [ -1281,  -1304,  -1152,  -1124,  -1176,  -1123],\n",
       "         [ 32767,  32767,  32767,  32767,  32767,  32767],\n",
       "         [ 32734,  32688,  32767,  32704,  32652,  32696],\n",
       "         [ 32767,  32767,  32767,  32767,  32767,  32767],\n",
       "         [ 32767,  32767,  32767,  32767,  32767,  32767],\n",
       "         [ 31234,  31152,  31179,  31137,  31053,  31047],\n",
       "         [   337,    241,    417,    362,    300,    418],\n",
       "         [ 32019,  31967,  32004,  32013,  31939,  31888],\n",
       "         [ 32767,  32767,  32767,  32767,  32767,  32767],\n",
       "         [ 32767,  32767,  32767,  32767,  32767,  32767],\n",
       "         [ 15451,  15361,  15479,  15443,  15374,  15472],\n",
       "         [ -9708,  -9644,  -9626,  -9645,  -9649,  -9619],\n",
       "         [ 32767,  32767,  32767,  32767,  32767,  32767],\n",
       "         [  7064,   7059,   7060,   7057,   7040,   7044],\n",
       "         [ -1288,  -1238,  -1248,  -1277,  -1267,  -1238],\n",
       "         [ 19715,  19706,  19693,  19634,  19583,  19563],\n",
       "         [  6295,   6382,   6412,   6403,   6405,   6450],\n",
       "         [ -1208,  -1209,  -1159,  -1202,  -1240,  -1188],\n",
       "         [-19532, -19549, -19383, -19438, -19469, -19349],\n",
       "         [ 30772,  30764,  30756,  30685,  30693,  30710],\n",
       "         [ 32767,  32767,  32767,  32767,  32767,  32767],\n",
       "         [-23169, -23191, -23080, -23120, -23155, -23106],\n",
       "         [ 32767,  32767,  32767,  32767,  32767,  32767],\n",
       "         [  2926,   2930,   2944,   2890,   2878,   2855],\n",
       "         [ 12504,  12613,  12688,  12742,  12731,  12795],\n",
       "         [ 18786,  18765,  18805,  18756,  18708,  18735],\n",
       "         [ -1818,  -1839,  -1747,  -1800,  -1817,  -1783],\n",
       "         [-11203, -11215, -11191, -11224, -11254, -11243],\n",
       "         [ 32767,  32767,  32767,  32767,  32767,  32767],\n",
       "         [ 32767,  32767,  32767,  32767,  32767,  32767],\n",
       "         [ 32767,  32767,  32767,  32767,  32767,  32767],\n",
       "         [  2035,   1983,   2002,   1946,   1938,   1945],\n",
       "         [ -2034,  -2171,  -2203,  -2106,  -1988,  -1847]], dtype=int16)),\n",
       " (999, array([[-11025, -11070, -11073, ...,  -9066,  -9104,  -9037],\n",
       "         [  6910,   6824,   6778, ...,   5739,   5737,   5708],\n",
       "         [ 32096,  32168,  32113, ...,  29912,  29864,  29854],\n",
       "         ..., \n",
       "         [ 32767,  32767,  32767, ...,  32767,  32767,  32767],\n",
       "         [  1945,   1980,   1962, ...,   1294,   1304,   1259],\n",
       "         [ -1733,  -1666,  -1528, ...,   -640,   -730,   -906]], dtype=int16)),\n",
       " (1385, array([[-8935, -8945, -8879, ..., -3732, -3739, -3773],\n",
       "         [ 5803,  5733,  5704, ...,  2961,  2958,  2906],\n",
       "         [29872, 29742, 29471, ..., 23714, 23712, 23794],\n",
       "         ..., \n",
       "         [32767, 32767, 32767, ..., 32767, 32767, 32767],\n",
       "         [ 1269,  1219,  1258, ...,  -733,  -732,  -732],\n",
       "         [-1018, -1014, -1033, ...,  1692,  1864,  1937]], dtype=int16)),\n",
       " (1198, array([[-9036, -9035, -9035, ..., -8936, -8936, -8935],\n",
       "         [ 5708,  5709,  5709, ...,  5801,  5801,  5802],\n",
       "         [29854, 29854, 29854, ..., 29871, 29871, 29871],\n",
       "         ..., \n",
       "         [32767, 32767, 32767, ..., 32767, 32767, 32767],\n",
       "         [ 1259,  1259,  1259, ...,  1268,  1268,  1268],\n",
       "         [ -906,  -907,  -907, ..., -1016, -1016, -1017]], dtype=int16))]"
      ]
     },
     "execution_count": 203,
     "metadata": {},
     "output_type": "execute_result"
    }
   ],
   "source": [
    "split_data"
   ]
  },
  {
   "cell_type": "code",
   "execution_count": 198,
   "metadata": {},
   "outputs": [
    {
     "ename": "IndexError",
     "evalue": "too many indices for array",
     "output_type": "error",
     "traceback": [
      "\u001b[0;31m---------------------------------------------------------------------------\u001b[0m",
      "\u001b[0;31mIndexError\u001b[0m                                Traceback (most recent call last)",
      "\u001b[0;32m<ipython-input-198-b48b700af942>\u001b[0m in \u001b[0;36m<module>\u001b[0;34m()\u001b[0m\n\u001b[0;32m----> 1\u001b[0;31m \u001b[0mnp\u001b[0m\u001b[1;33m.\u001b[0m\u001b[0mvstack\u001b[0m\u001b[1;33m(\u001b[0m\u001b[1;33m[\u001b[0m\u001b[0minterpl_ch\u001b[0m\u001b[1;33m[\u001b[0m\u001b[1;33m:\u001b[0m\u001b[1;33m,\u001b[0m\u001b[0mkk\u001b[0m\u001b[1;33m]\u001b[0m\u001b[1;33m,\u001b[0m \u001b[0minterpr_ch\u001b[0m\u001b[1;33m[\u001b[0m\u001b[1;33m:\u001b[0m\u001b[1;33m,\u001b[0m\u001b[0mkk\u001b[0m\u001b[1;33m]\u001b[0m\u001b[1;33m]\u001b[0m\u001b[1;33m)\u001b[0m\u001b[1;33m.\u001b[0m\u001b[0mT\u001b[0m\u001b[1;33m\u001b[0m\u001b[0m\n\u001b[0m",
      "\u001b[0;31mIndexError\u001b[0m: too many indices for array"
     ]
    }
   ],
   "source": [
    "np.vstack([interpl_ch[:,kk], interpr_ch[:,kk]]).T"
   ]
  },
  {
   "cell_type": "code",
   "execution_count": 134,
   "metadata": {},
   "outputs": [
    {
     "data": {
      "text/plain": [
       "array([1198])"
      ]
     },
     "execution_count": 134,
     "metadata": {},
     "output_type": "execute_result"
    }
   ],
   "source": [
    "interpl_ts"
   ]
  },
  {
   "cell_type": "code",
   "execution_count": 85,
   "metadata": {},
   "outputs": [
    {
     "data": {
      "text/plain": [
       "1385"
      ]
     },
     "execution_count": 85,
     "metadata": {},
     "output_type": "execute_result"
    }
   ],
   "source": [
    "ts[205]"
   ]
  },
  {
   "cell_type": "code",
   "execution_count": 98,
   "metadata": {},
   "outputs": [
    {
     "name": "stdout",
     "output_type": "stream",
     "text": [
      "0 6\n",
      "6 205\n",
      "205 800\n"
     ]
    }
   ],
   "source": [
    "orig_data_locs = np.vstack((np.insert(ccr[:-1],0,0),ccr)).T\n",
    "for start, stop in orig_data_locs:\n",
    "    print(start, stop)"
   ]
  },
  {
   "cell_type": "code",
   "execution_count": 319,
   "metadata": {},
   "outputs": [
    {
     "data": {
      "text/plain": [
       "(80, 800)"
      ]
     },
     "execution_count": 319,
     "metadata": {},
     "output_type": "execute_result"
    }
   ],
   "source": [
    "all_ch_data.shape"
   ]
  },
  {
   "cell_type": "code",
   "execution_count": 328,
   "metadata": {},
   "outputs": [
    {
     "data": {
      "text/plain": [
       "[800,\n",
       " 801,\n",
       " 802,\n",
       " 803,\n",
       " 804,\n",
       " 805,\n",
       " 999,\n",
       " 1000,\n",
       " 1001,\n",
       " 1002,\n",
       " 1003,\n",
       " 1004,\n",
       " 1005,\n",
       " 1006,\n",
       " 1007,\n",
       " 1008,\n",
       " 1009,\n",
       " 1010,\n",
       " 1011,\n",
       " 1012,\n",
       " 1013,\n",
       " 1014,\n",
       " 1015,\n",
       " 1016,\n",
       " 1017,\n",
       " 1018,\n",
       " 1019,\n",
       " 1020,\n",
       " 1021,\n",
       " 1022,\n",
       " 1023,\n",
       " 1024,\n",
       " 1025,\n",
       " 1026,\n",
       " 1027,\n",
       " 1028,\n",
       " 1029,\n",
       " 1030,\n",
       " 1031,\n",
       " 1032,\n",
       " 1033,\n",
       " 1034,\n",
       " 1035,\n",
       " 1036,\n",
       " 1037,\n",
       " 1038,\n",
       " 1039,\n",
       " 1040,\n",
       " 1041,\n",
       " 1042,\n",
       " 1043,\n",
       " 1044,\n",
       " 1045,\n",
       " 1046,\n",
       " 1047,\n",
       " 1048,\n",
       " 1049,\n",
       " 1050,\n",
       " 1051,\n",
       " 1052,\n",
       " 1053,\n",
       " 1054,\n",
       " 1055,\n",
       " 1056,\n",
       " 1057,\n",
       " 1058,\n",
       " 1059,\n",
       " 1060,\n",
       " 1061,\n",
       " 1062,\n",
       " 1063,\n",
       " 1064,\n",
       " 1065,\n",
       " 1066,\n",
       " 1067,\n",
       " 1068,\n",
       " 1069,\n",
       " 1070,\n",
       " 1071,\n",
       " 1072,\n",
       " 1073,\n",
       " 1074,\n",
       " 1075,\n",
       " 1076,\n",
       " 1077,\n",
       " 1078,\n",
       " 1079,\n",
       " 1080,\n",
       " 1081,\n",
       " 1082,\n",
       " 1083,\n",
       " 1084,\n",
       " 1085,\n",
       " 1086,\n",
       " 1087,\n",
       " 1088,\n",
       " 1089,\n",
       " 1090,\n",
       " 1091,\n",
       " 1092,\n",
       " 1093,\n",
       " 1094,\n",
       " 1095,\n",
       " 1096,\n",
       " 1097,\n",
       " 1098,\n",
       " 1099,\n",
       " 1100,\n",
       " 1101,\n",
       " 1102,\n",
       " 1103,\n",
       " 1104,\n",
       " 1105,\n",
       " 1106,\n",
       " 1107,\n",
       " 1108,\n",
       " 1109,\n",
       " 1110,\n",
       " 1111,\n",
       " 1112,\n",
       " 1113,\n",
       " 1114,\n",
       " 1115,\n",
       " 1116,\n",
       " 1117,\n",
       " 1118,\n",
       " 1119,\n",
       " 1120,\n",
       " 1121,\n",
       " 1122,\n",
       " 1123,\n",
       " 1124,\n",
       " 1125,\n",
       " 1126,\n",
       " 1127,\n",
       " 1128,\n",
       " 1129,\n",
       " 1130,\n",
       " 1131,\n",
       " 1132,\n",
       " 1133,\n",
       " 1134,\n",
       " 1135,\n",
       " 1136,\n",
       " 1137,\n",
       " 1138,\n",
       " 1139,\n",
       " 1140,\n",
       " 1141,\n",
       " 1142,\n",
       " 1143,\n",
       " 1144,\n",
       " 1145,\n",
       " 1146,\n",
       " 1147,\n",
       " 1148,\n",
       " 1149,\n",
       " 1150,\n",
       " 1151,\n",
       " 1152,\n",
       " 1153,\n",
       " 1154,\n",
       " 1155,\n",
       " 1156,\n",
       " 1157,\n",
       " 1158,\n",
       " 1159,\n",
       " 1160,\n",
       " 1161,\n",
       " 1162,\n",
       " 1163,\n",
       " 1164,\n",
       " 1165,\n",
       " 1166,\n",
       " 1167,\n",
       " 1168,\n",
       " 1169,\n",
       " 1170,\n",
       " 1171,\n",
       " 1172,\n",
       " 1173,\n",
       " 1174,\n",
       " 1175,\n",
       " 1176,\n",
       " 1177,\n",
       " 1178,\n",
       " 1179,\n",
       " 1180,\n",
       " 1181,\n",
       " 1182,\n",
       " 1183,\n",
       " 1184,\n",
       " 1185,\n",
       " 1186,\n",
       " 1187,\n",
       " 1188,\n",
       " 1189,\n",
       " 1190,\n",
       " 1191,\n",
       " 1192,\n",
       " 1193,\n",
       " 1194,\n",
       " 1195,\n",
       " 1196,\n",
       " 1197,\n",
       " 1385,\n",
       " 1386,\n",
       " 1387,\n",
       " 1388,\n",
       " 1389,\n",
       " 1390,\n",
       " 1391,\n",
       " 1392,\n",
       " 1393,\n",
       " 1394,\n",
       " 1395,\n",
       " 1396,\n",
       " 1397,\n",
       " 1398,\n",
       " 1399,\n",
       " 1400,\n",
       " 1401,\n",
       " 1402,\n",
       " 1403,\n",
       " 1404,\n",
       " 1405,\n",
       " 1406,\n",
       " 1407,\n",
       " 1408,\n",
       " 1409,\n",
       " 1410,\n",
       " 1411,\n",
       " 1412,\n",
       " 1413,\n",
       " 1414,\n",
       " 1415,\n",
       " 1416,\n",
       " 1417,\n",
       " 1418,\n",
       " 1419,\n",
       " 1420,\n",
       " 1421,\n",
       " 1422,\n",
       " 1423,\n",
       " 1424,\n",
       " 1425,\n",
       " 1426,\n",
       " 1427,\n",
       " 1428,\n",
       " 1429,\n",
       " 1430,\n",
       " 1431,\n",
       " 1432,\n",
       " 1433,\n",
       " 1434,\n",
       " 1435,\n",
       " 1436,\n",
       " 1437,\n",
       " 1438,\n",
       " 1439,\n",
       " 1440,\n",
       " 1441,\n",
       " 1442,\n",
       " 1443,\n",
       " 1444,\n",
       " 1445,\n",
       " 1446,\n",
       " 1447,\n",
       " 1448,\n",
       " 1449,\n",
       " 1450,\n",
       " 1451,\n",
       " 1452,\n",
       " 1453,\n",
       " 1454,\n",
       " 1455,\n",
       " 1456,\n",
       " 1457,\n",
       " 1458,\n",
       " 1459,\n",
       " 1460,\n",
       " 1461,\n",
       " 1462,\n",
       " 1463,\n",
       " 1464,\n",
       " 1465,\n",
       " 1466,\n",
       " 1467,\n",
       " 1468,\n",
       " 1469,\n",
       " 1470,\n",
       " 1471,\n",
       " 1472,\n",
       " 1473,\n",
       " 1474,\n",
       " 1475,\n",
       " 1476,\n",
       " 1477,\n",
       " 1478,\n",
       " 1479,\n",
       " 1480,\n",
       " 1481,\n",
       " 1482,\n",
       " 1483,\n",
       " 1484,\n",
       " 1485,\n",
       " 1486,\n",
       " 1487,\n",
       " 1488,\n",
       " 1489,\n",
       " 1490,\n",
       " 1491,\n",
       " 1492,\n",
       " 1493,\n",
       " 1494,\n",
       " 1495,\n",
       " 1496,\n",
       " 1497,\n",
       " 1498,\n",
       " 1499,\n",
       " 1500,\n",
       " 1501,\n",
       " 1502,\n",
       " 1503,\n",
       " 1504,\n",
       " 1505,\n",
       " 1506,\n",
       " 1507,\n",
       " 1508,\n",
       " 1509,\n",
       " 1510,\n",
       " 1511,\n",
       " 1512,\n",
       " 1513,\n",
       " 1514,\n",
       " 1515,\n",
       " 1516,\n",
       " 1517,\n",
       " 1518,\n",
       " 1519,\n",
       " 1520,\n",
       " 1521,\n",
       " 1522,\n",
       " 1523,\n",
       " 1524,\n",
       " 1525,\n",
       " 1526,\n",
       " 1527,\n",
       " 1528,\n",
       " 1529,\n",
       " 1530,\n",
       " 1531,\n",
       " 1532,\n",
       " 1533,\n",
       " 1534,\n",
       " 1535,\n",
       " 1536,\n",
       " 1537,\n",
       " 1538,\n",
       " 1539,\n",
       " 1540,\n",
       " 1541,\n",
       " 1542,\n",
       " 1543,\n",
       " 1544,\n",
       " 1545,\n",
       " 1546,\n",
       " 1547,\n",
       " 1548,\n",
       " 1549,\n",
       " 1550,\n",
       " 1551,\n",
       " 1552,\n",
       " 1553,\n",
       " 1554,\n",
       " 1555,\n",
       " 1556,\n",
       " 1557,\n",
       " 1558,\n",
       " 1559,\n",
       " 1560,\n",
       " 1561,\n",
       " 1562,\n",
       " 1563,\n",
       " 1564,\n",
       " 1565,\n",
       " 1566,\n",
       " 1567,\n",
       " 1568,\n",
       " 1569,\n",
       " 1570,\n",
       " 1571,\n",
       " 1572,\n",
       " 1573,\n",
       " 1574,\n",
       " 1575,\n",
       " 1576,\n",
       " 1577,\n",
       " 1578,\n",
       " 1579,\n",
       " 1580,\n",
       " 1581,\n",
       " 1582,\n",
       " 1583,\n",
       " 1584,\n",
       " 1585,\n",
       " 1586,\n",
       " 1587,\n",
       " 1588,\n",
       " 1589,\n",
       " 1590,\n",
       " 1591,\n",
       " 1592,\n",
       " 1593,\n",
       " 1594,\n",
       " 1595,\n",
       " 1596,\n",
       " 1597,\n",
       " 1598,\n",
       " 1599,\n",
       " 1600,\n",
       " 1601,\n",
       " 1602,\n",
       " 1603,\n",
       " 1604,\n",
       " 1605,\n",
       " 1606,\n",
       " 1607,\n",
       " 1608,\n",
       " 1609,\n",
       " 1610,\n",
       " 1611,\n",
       " 1612,\n",
       " 1613,\n",
       " 1614,\n",
       " 1615,\n",
       " 1616,\n",
       " 1617,\n",
       " 1618,\n",
       " 1619,\n",
       " 1620,\n",
       " 1621,\n",
       " 1622,\n",
       " 1623,\n",
       " 1624,\n",
       " 1625,\n",
       " 1626,\n",
       " 1627,\n",
       " 1628,\n",
       " 1629,\n",
       " 1630,\n",
       " 1631,\n",
       " 1632,\n",
       " 1633,\n",
       " 1634,\n",
       " 1635,\n",
       " 1636,\n",
       " 1637,\n",
       " 1638,\n",
       " 1639,\n",
       " 1640,\n",
       " 1641,\n",
       " 1642,\n",
       " 1643,\n",
       " 1644,\n",
       " 1645,\n",
       " 1646,\n",
       " 1647,\n",
       " 1648,\n",
       " 1649,\n",
       " 1650,\n",
       " 1651,\n",
       " 1652,\n",
       " 1653,\n",
       " 1654,\n",
       " 1655,\n",
       " 1656,\n",
       " 1657,\n",
       " 1658,\n",
       " 1659,\n",
       " 1660,\n",
       " 1661,\n",
       " 1662,\n",
       " 1663,\n",
       " 1664,\n",
       " 1665,\n",
       " 1666,\n",
       " 1667,\n",
       " 1668,\n",
       " 1669,\n",
       " 1670,\n",
       " 1671,\n",
       " 1672,\n",
       " 1673,\n",
       " 1674,\n",
       " 1675,\n",
       " 1676,\n",
       " 1677,\n",
       " 1678,\n",
       " 1679,\n",
       " 1680,\n",
       " 1681,\n",
       " 1682,\n",
       " 1683,\n",
       " 1684,\n",
       " 1685,\n",
       " 1686,\n",
       " 1687,\n",
       " 1688,\n",
       " 1689,\n",
       " 1690,\n",
       " 1691,\n",
       " 1692,\n",
       " 1693,\n",
       " 1694,\n",
       " 1695,\n",
       " 1696,\n",
       " 1697,\n",
       " 1698,\n",
       " 1699,\n",
       " 1700,\n",
       " 1701,\n",
       " 1702,\n",
       " 1703,\n",
       " 1704,\n",
       " 1705,\n",
       " 1706,\n",
       " 1707,\n",
       " 1708,\n",
       " 1709,\n",
       " 1710,\n",
       " 1711,\n",
       " 1712,\n",
       " 1713,\n",
       " 1714,\n",
       " 1715,\n",
       " 1716,\n",
       " 1717,\n",
       " 1718,\n",
       " 1719,\n",
       " 1720,\n",
       " 1721,\n",
       " 1722,\n",
       " 1723,\n",
       " 1724,\n",
       " 1725,\n",
       " 1726,\n",
       " 1727,\n",
       " 1728,\n",
       " 1729,\n",
       " 1730,\n",
       " 1731,\n",
       " 1732,\n",
       " 1733,\n",
       " 1734,\n",
       " 1735,\n",
       " 1736,\n",
       " 1737,\n",
       " 1738,\n",
       " 1739,\n",
       " 1740,\n",
       " 1741,\n",
       " 1742,\n",
       " 1743,\n",
       " 1744,\n",
       " 1745,\n",
       " 1746,\n",
       " 1747,\n",
       " 1748,\n",
       " 1749,\n",
       " 1750,\n",
       " 1751,\n",
       " 1752,\n",
       " 1753,\n",
       " 1754,\n",
       " 1755,\n",
       " 1756,\n",
       " 1757,\n",
       " 1758,\n",
       " 1759,\n",
       " 1760,\n",
       " 1761,\n",
       " 1762,\n",
       " 1763,\n",
       " 1764,\n",
       " 1765,\n",
       " 1766,\n",
       " 1767,\n",
       " 1768,\n",
       " 1769,\n",
       " 1770,\n",
       " 1771,\n",
       " 1772,\n",
       " 1773,\n",
       " 1774,\n",
       " 1775,\n",
       " 1776,\n",
       " 1777,\n",
       " 1778,\n",
       " 1779,\n",
       " 1780,\n",
       " 1781,\n",
       " 1782,\n",
       " 1783,\n",
       " 1784,\n",
       " 1785,\n",
       " 1786,\n",
       " 1787,\n",
       " 1788,\n",
       " 1789,\n",
       " 1790,\n",
       " 1791,\n",
       " 1792,\n",
       " 1793,\n",
       " 1794,\n",
       " 1795,\n",
       " 1796,\n",
       " 1797,\n",
       " 1798,\n",
       " 1799,\n",
       " 1800,\n",
       " 1801,\n",
       " 1802,\n",
       " 1803,\n",
       " 1804,\n",
       " 1805,\n",
       " 1806,\n",
       " 1807,\n",
       " 1808,\n",
       " 1809,\n",
       " 1810,\n",
       " 1811,\n",
       " 1812,\n",
       " 1813,\n",
       " 1814,\n",
       " 1815,\n",
       " 1816,\n",
       " 1817,\n",
       " 1818,\n",
       " 1819,\n",
       " 1820,\n",
       " 1821,\n",
       " 1822,\n",
       " 1823,\n",
       " 1824,\n",
       " 1825,\n",
       " 1826,\n",
       " 1827,\n",
       " 1828,\n",
       " 1829,\n",
       " 1830,\n",
       " 1831,\n",
       " 1832,\n",
       " 1833,\n",
       " 1834,\n",
       " 1835,\n",
       " 1836,\n",
       " 1837,\n",
       " 1838,\n",
       " 1839,\n",
       " 1840,\n",
       " 1841,\n",
       " 1842,\n",
       " 1843,\n",
       " 1844,\n",
       " 1845,\n",
       " 1846,\n",
       " 1847,\n",
       " 1848,\n",
       " 1849,\n",
       " 1850,\n",
       " 1851,\n",
       " 1852,\n",
       " 1853,\n",
       " 1854,\n",
       " 1855,\n",
       " 1856,\n",
       " 1857,\n",
       " 1858,\n",
       " 1859,\n",
       " 1860,\n",
       " 1861,\n",
       " 1862,\n",
       " 1863,\n",
       " 1864,\n",
       " 1865,\n",
       " 1866,\n",
       " 1867,\n",
       " 1868,\n",
       " 1869,\n",
       " 1870,\n",
       " 1871,\n",
       " 1872,\n",
       " 1873,\n",
       " 1874,\n",
       " 1875,\n",
       " 1876,\n",
       " 1877,\n",
       " 1878,\n",
       " 1879,\n",
       " 1880,\n",
       " 1881,\n",
       " 1882,\n",
       " 1883,\n",
       " 1884,\n",
       " 1885,\n",
       " 1886,\n",
       " 1887,\n",
       " 1888,\n",
       " 1889,\n",
       " 1890,\n",
       " 1891,\n",
       " 1892,\n",
       " 1893,\n",
       " 1894,\n",
       " 1895,\n",
       " 1896,\n",
       " 1897,\n",
       " 1898,\n",
       " 1899,\n",
       " 1900,\n",
       " 1901,\n",
       " 1902,\n",
       " 1903,\n",
       " 1904,\n",
       " 1905,\n",
       " 1906,\n",
       " 1907,\n",
       " 1908,\n",
       " 1909,\n",
       " 1910,\n",
       " 1911,\n",
       " 1912,\n",
       " 1913,\n",
       " 1914,\n",
       " 1915,\n",
       " 1916,\n",
       " 1917,\n",
       " 1918,\n",
       " 1919,\n",
       " 1920,\n",
       " 1921,\n",
       " 1922,\n",
       " 1923,\n",
       " 1924,\n",
       " 1925,\n",
       " 1926,\n",
       " 1927,\n",
       " 1928,\n",
       " 1929,\n",
       " 1930,\n",
       " 1931,\n",
       " 1932,\n",
       " 1933,\n",
       " 1934,\n",
       " 1935,\n",
       " 1936,\n",
       " 1937,\n",
       " 1938,\n",
       " 1939,\n",
       " 1940,\n",
       " 1941,\n",
       " 1942,\n",
       " 1943,\n",
       " 1944,\n",
       " 1945,\n",
       " 1946,\n",
       " 1947,\n",
       " 1948,\n",
       " 1949,\n",
       " 1950,\n",
       " 1951,\n",
       " 1952,\n",
       " 1953,\n",
       " 1954,\n",
       " 1955,\n",
       " 1956,\n",
       " 1957,\n",
       " 1958,\n",
       " 1959,\n",
       " 1960,\n",
       " 1961,\n",
       " 1962,\n",
       " 1963,\n",
       " 1964,\n",
       " 1965,\n",
       " 1966,\n",
       " 1967,\n",
       " 1968,\n",
       " 1969,\n",
       " 1970,\n",
       " 1971,\n",
       " 1972,\n",
       " 1973,\n",
       " 1974,\n",
       " 1975,\n",
       " 1976,\n",
       " 1977,\n",
       " 1978,\n",
       " 1979]"
      ]
     },
     "execution_count": 328,
     "metadata": {},
     "output_type": "execute_result"
    }
   ],
   "source": [
    "ts_new"
   ]
  },
  {
   "cell_type": "code",
   "execution_count": null,
   "metadata": {
    "collapsed": true
   },
   "outputs": [],
   "source": []
  },
  {
   "cell_type": "code",
   "execution_count": null,
   "metadata": {
    "collapsed": true
   },
   "outputs": [],
   "source": []
  },
  {
   "cell_type": "code",
   "execution_count": null,
   "metadata": {
    "collapsed": true
   },
   "outputs": [],
   "source": []
  },
  {
   "cell_type": "code",
   "execution_count": null,
   "metadata": {
    "collapsed": true
   },
   "outputs": [],
   "source": []
  },
  {
   "cell_type": "code",
   "execution_count": null,
   "metadata": {
    "collapsed": true
   },
   "outputs": [],
   "source": []
  },
  {
   "cell_type": "code",
   "execution_count": null,
   "metadata": {
    "collapsed": true
   },
   "outputs": [],
   "source": []
  },
  {
   "cell_type": "code",
   "execution_count": null,
   "metadata": {
    "collapsed": true
   },
   "outputs": [],
   "source": []
  },
  {
   "cell_type": "code",
   "execution_count": 106,
   "metadata": {},
   "outputs": [
    {
     "ename": "TypeError",
     "evalue": "only integer arrays with one element can be converted to an index",
     "output_type": "error",
     "traceback": [
      "\u001b[0;31m---------------------------------------------------------------------------\u001b[0m",
      "\u001b[0;31mTypeError\u001b[0m                                 Traceback (most recent call last)",
      "\u001b[0;32m<ipython-input-106-6a0f7cb36a21>\u001b[0m in \u001b[0;36m<module>\u001b[0;34m()\u001b[0m\n\u001b[1;32m      2\u001b[0m \u001b[0mstarts\u001b[0m \u001b[1;33m=\u001b[0m \u001b[0mnp\u001b[0m\u001b[1;33m.\u001b[0m\u001b[0minsert\u001b[0m\u001b[1;33m(\u001b[0m\u001b[0mbreaks\u001b[0m\u001b[1;33m+\u001b[0m\u001b[1;36m1\u001b[0m\u001b[1;33m,\u001b[0m \u001b[1;36m0\u001b[0m\u001b[1;33m,\u001b[0m \u001b[1;36m0\u001b[0m\u001b[1;33m)\u001b[0m\u001b[1;33m\u001b[0m\u001b[0m\n\u001b[1;32m      3\u001b[0m \u001b[0mstops\u001b[0m \u001b[1;33m=\u001b[0m \u001b[0mnp\u001b[0m\u001b[1;33m.\u001b[0m\u001b[0mappend\u001b[0m\u001b[1;33m(\u001b[0m\u001b[0mbreaks\u001b[0m\u001b[1;33m,\u001b[0m \u001b[0mlen\u001b[0m\u001b[1;33m(\u001b[0m\u001b[0mdata\u001b[0m\u001b[1;33m)\u001b[0m\u001b[1;33m-\u001b[0m\u001b[1;36m1\u001b[0m\u001b[1;33m)\u001b[0m\u001b[1;33m\u001b[0m\u001b[0m\n\u001b[0;32m----> 4\u001b[0;31m \u001b[0mbdries\u001b[0m \u001b[1;33m=\u001b[0m \u001b[0mnp\u001b[0m\u001b[1;33m.\u001b[0m\u001b[0mvstack\u001b[0m\u001b[1;33m(\u001b[0m\u001b[1;33m(\u001b[0m\u001b[0mdata\u001b[0m\u001b[1;33m[\u001b[0m\u001b[0mstarts\u001b[0m\u001b[1;33m]\u001b[0m\u001b[1;33m,\u001b[0m \u001b[0mdata\u001b[0m\u001b[1;33m[\u001b[0m\u001b[0mstops\u001b[0m\u001b[1;33m]\u001b[0m \u001b[1;33m+\u001b[0m \u001b[0mstep\u001b[0m\u001b[1;33m)\u001b[0m\u001b[1;33m)\u001b[0m\u001b[1;33m.\u001b[0m\u001b[0mT\u001b[0m\u001b[1;33m\u001b[0m\u001b[0m\n\u001b[0m",
      "\u001b[0;31mTypeError\u001b[0m: only integer arrays with one element can be converted to an index"
     ]
    }
   ],
   "source": [
    "breaks = np.argwhere(np.diff(data)>=2*step)\n",
    "starts = np.insert(breaks+1, 0, 0)\n",
    "stops = np.append(breaks, len(data)-1)\n",
    "bdries = np.vstack((data[starts], data[stops] + step)).T"
   ]
  },
  {
   "cell_type": "code",
   "execution_count": 97,
   "metadata": {
    "collapsed": true
   },
   "outputs": [],
   "source": [
    "import nelpy as nel"
   ]
  },
  {
   "cell_type": "code",
   "execution_count": 98,
   "metadata": {},
   "outputs": [
    {
     "ename": "TypeError",
     "evalue": "only integer arrays with one element can be converted to an index",
     "output_type": "error",
     "traceback": [
      "\u001b[0;31m---------------------------------------------------------------------------\u001b[0m",
      "\u001b[0;31mTypeError\u001b[0m                                 Traceback (most recent call last)",
      "\u001b[0;32m<ipython-input-98-fd770e3a0c89>\u001b[0m in \u001b[0;36m<module>\u001b[0;34m()\u001b[0m\n\u001b[0;32m----> 1\u001b[0;31m \u001b[0mnel\u001b[0m\u001b[1;33m.\u001b[0m\u001b[0mutils\u001b[0m\u001b[1;33m.\u001b[0m\u001b[0mget_contiguous_segments\u001b[0m\u001b[1;33m(\u001b[0m\u001b[0mts\u001b[0m\u001b[1;33m)\u001b[0m\u001b[1;33m\u001b[0m\u001b[0m\n\u001b[0m",
      "\u001b[0;32md:\\dropbox\\code\\nelpy\\nelpy\\utils.py\u001b[0m in \u001b[0;36mget_contiguous_segments\u001b[0;34m(data, step, fs, sort, in_memory)\u001b[0m\n\u001b[1;32m    442\u001b[0m         \u001b[0mstarts\u001b[0m \u001b[1;33m=\u001b[0m \u001b[0mnp\u001b[0m\u001b[1;33m.\u001b[0m\u001b[0minsert\u001b[0m\u001b[1;33m(\u001b[0m\u001b[0mbreaks\u001b[0m\u001b[1;33m+\u001b[0m\u001b[1;36m1\u001b[0m\u001b[1;33m,\u001b[0m \u001b[1;36m0\u001b[0m\u001b[1;33m,\u001b[0m \u001b[1;36m0\u001b[0m\u001b[1;33m)\u001b[0m\u001b[1;33m\u001b[0m\u001b[0m\n\u001b[1;32m    443\u001b[0m         \u001b[0mstops\u001b[0m \u001b[1;33m=\u001b[0m \u001b[0mnp\u001b[0m\u001b[1;33m.\u001b[0m\u001b[0mappend\u001b[0m\u001b[1;33m(\u001b[0m\u001b[0mbreaks\u001b[0m\u001b[1;33m,\u001b[0m \u001b[0mlen\u001b[0m\u001b[1;33m(\u001b[0m\u001b[0mdata\u001b[0m\u001b[1;33m)\u001b[0m\u001b[1;33m-\u001b[0m\u001b[1;36m1\u001b[0m\u001b[1;33m)\u001b[0m\u001b[1;33m\u001b[0m\u001b[0m\n\u001b[0;32m--> 444\u001b[0;31m         \u001b[0mbdries\u001b[0m \u001b[1;33m=\u001b[0m \u001b[0mnp\u001b[0m\u001b[1;33m.\u001b[0m\u001b[0mvstack\u001b[0m\u001b[1;33m(\u001b[0m\u001b[1;33m(\u001b[0m\u001b[0mdata\u001b[0m\u001b[1;33m[\u001b[0m\u001b[0mstarts\u001b[0m\u001b[1;33m]\u001b[0m\u001b[1;33m,\u001b[0m \u001b[0mdata\u001b[0m\u001b[1;33m[\u001b[0m\u001b[0mstops\u001b[0m\u001b[1;33m]\u001b[0m \u001b[1;33m+\u001b[0m \u001b[0mstep_\u001b[0m\u001b[1;33m)\u001b[0m\u001b[1;33m)\u001b[0m\u001b[1;33m.\u001b[0m\u001b[0mT\u001b[0m\u001b[1;33m\u001b[0m\u001b[0m\n\u001b[0m\u001b[1;32m    445\u001b[0m     \u001b[1;32melse\u001b[0m\u001b[1;33m:\u001b[0m\u001b[1;33m\u001b[0m\u001b[0m\n\u001b[1;32m    446\u001b[0m         \u001b[1;32mfrom\u001b[0m \u001b[0mitertools\u001b[0m \u001b[1;32mimport\u001b[0m \u001b[0mgroupby\u001b[0m\u001b[1;33m\u001b[0m\u001b[0m\n",
      "\u001b[0;31mTypeError\u001b[0m: only integer arrays with one element can be converted to an index"
     ]
    }
   ],
   "source": [
    "nel.utils.get_contiguous_segments(ts)"
   ]
  },
  {
   "cell_type": "code",
   "execution_count": 103,
   "metadata": {},
   "outputs": [
    {
     "name": "stderr",
     "output_type": "stream",
     "text": [
      "C:\\Users\\etien\\Anaconda3\\lib\\site-packages\\numpy\\core\\_methods.py:59: RuntimeWarning: Mean of empty slice.\n",
      "C:\\Users\\etien\\Anaconda3\\lib\\site-packages\\numpy\\core\\_methods.py:70: RuntimeWarning: invalid value encountered in double_scalars\n",
      "d:\\dropbox\\code\\jagular\\jagular\\utils.py:120: VisibleDeprecationWarning: converting an array with ndim > 0 to an index will result in an error in the future\n"
     ]
    },
    {
     "data": {
      "text/plain": [
       "array([[ 800.,   nan]])"
      ]
     },
     "execution_count": 103,
     "metadata": {},
     "output_type": "execute_result"
    }
   ],
   "source": [
    "jag.utils.get_contiguous_segments(ts[:1], assume_sorted=True, in_core=True)"
   ]
  },
  {
   "cell_type": "code",
   "execution_count": 82,
   "metadata": {},
   "outputs": [
    {
     "ename": "TypeError",
     "evalue": "only integer arrays with one element can be converted to an index",
     "output_type": "error",
     "traceback": [
      "\u001b[0;31m---------------------------------------------------------------------------\u001b[0m",
      "\u001b[0;31mTypeError\u001b[0m                                 Traceback (most recent call last)",
      "\u001b[0;32m<ipython-input-82-eb2a4868213e>\u001b[0m in \u001b[0;36m<module>\u001b[0;34m()\u001b[0m\n\u001b[0;32m----> 1\u001b[0;31m \u001b[0mgap_lengths\u001b[0m \u001b[1;33m=\u001b[0m \u001b[0mjag\u001b[0m\u001b[1;33m.\u001b[0m\u001b[0mutils\u001b[0m\u001b[1;33m.\u001b[0m\u001b[0mget_gap_lengths_from_timestamps\u001b[0m\u001b[1;33m(\u001b[0m\u001b[0mtimestamps\u001b[0m\u001b[1;33m=\u001b[0m\u001b[0mts\u001b[0m\u001b[1;33m,\u001b[0m \u001b[0min_core\u001b[0m\u001b[1;33m=\u001b[0m\u001b[1;32mTrue\u001b[0m\u001b[1;33m)\u001b[0m\u001b[1;33m\u001b[0m\u001b[0m\n\u001b[0m\u001b[1;32m      2\u001b[0m \u001b[0mlen\u001b[0m\u001b[1;33m(\u001b[0m\u001b[0mgap_lengths\u001b[0m\u001b[1;33m)\u001b[0m\u001b[1;33m\u001b[0m\u001b[0m\n",
      "\u001b[0;32md:\\dropbox\\code\\jagular\\jagular\\utils.py\u001b[0m in \u001b[0;36mget_gap_lengths_from_timestamps\u001b[0;34m(timestamps, assume_sorted, in_core)\u001b[0m\n\u001b[1;32m     73\u001b[0m     cs = get_contiguous_segments(data=timestamps,\n\u001b[1;32m     74\u001b[0m                                  \u001b[0massume_sorted\u001b[0m\u001b[1;33m=\u001b[0m\u001b[0massume_sorted\u001b[0m\u001b[1;33m,\u001b[0m\u001b[1;33m\u001b[0m\u001b[0m\n\u001b[0;32m---> 75\u001b[0;31m                                  in_core=in_core)\n\u001b[0m\u001b[1;32m     76\u001b[0m     \u001b[0mgap_lengths\u001b[0m \u001b[1;33m=\u001b[0m \u001b[0mcs\u001b[0m\u001b[1;33m[\u001b[0m\u001b[1;36m1\u001b[0m\u001b[1;33m:\u001b[0m\u001b[1;33m,\u001b[0m\u001b[1;36m0\u001b[0m\u001b[1;33m]\u001b[0m \u001b[1;33m-\u001b[0m \u001b[0mcs\u001b[0m\u001b[1;33m[\u001b[0m\u001b[1;33m:\u001b[0m\u001b[1;33m-\u001b[0m\u001b[1;36m1\u001b[0m\u001b[1;33m,\u001b[0m\u001b[1;36m1\u001b[0m\u001b[1;33m]\u001b[0m\u001b[1;33m\u001b[0m\u001b[0m\n\u001b[1;32m     77\u001b[0m     \u001b[1;32mreturn\u001b[0m \u001b[0mgap_lengths\u001b[0m\u001b[1;33m\u001b[0m\u001b[0m\n",
      "\u001b[0;32md:\\dropbox\\code\\jagular\\jagular\\utils.py\u001b[0m in \u001b[0;36mget_contiguous_segments\u001b[0;34m(data, step, assume_sorted, in_core)\u001b[0m\n\u001b[1;32m    118\u001b[0m         \u001b[0mstarts\u001b[0m \u001b[1;33m=\u001b[0m \u001b[0mnp\u001b[0m\u001b[1;33m.\u001b[0m\u001b[0minsert\u001b[0m\u001b[1;33m(\u001b[0m\u001b[0mbreaks\u001b[0m\u001b[1;33m+\u001b[0m\u001b[1;36m1\u001b[0m\u001b[1;33m,\u001b[0m \u001b[1;36m0\u001b[0m\u001b[1;33m,\u001b[0m \u001b[1;36m0\u001b[0m\u001b[1;33m)\u001b[0m\u001b[1;33m\u001b[0m\u001b[0m\n\u001b[1;32m    119\u001b[0m         \u001b[0mstops\u001b[0m \u001b[1;33m=\u001b[0m \u001b[0mnp\u001b[0m\u001b[1;33m.\u001b[0m\u001b[0mappend\u001b[0m\u001b[1;33m(\u001b[0m\u001b[0mbreaks\u001b[0m\u001b[1;33m,\u001b[0m \u001b[0mlen\u001b[0m\u001b[1;33m(\u001b[0m\u001b[0mdata\u001b[0m\u001b[1;33m)\u001b[0m\u001b[1;33m-\u001b[0m\u001b[1;36m1\u001b[0m\u001b[1;33m)\u001b[0m\u001b[1;33m\u001b[0m\u001b[0m\n\u001b[0;32m--> 120\u001b[0;31m         \u001b[0mbdries\u001b[0m \u001b[1;33m=\u001b[0m \u001b[0mnp\u001b[0m\u001b[1;33m.\u001b[0m\u001b[0mvstack\u001b[0m\u001b[1;33m(\u001b[0m\u001b[1;33m(\u001b[0m\u001b[0mdata\u001b[0m\u001b[1;33m[\u001b[0m\u001b[0mstarts\u001b[0m\u001b[1;33m]\u001b[0m\u001b[1;33m,\u001b[0m \u001b[0mdata\u001b[0m\u001b[1;33m[\u001b[0m\u001b[0mstops\u001b[0m\u001b[1;33m]\u001b[0m \u001b[1;33m+\u001b[0m \u001b[0mstep\u001b[0m\u001b[1;33m)\u001b[0m\u001b[1;33m)\u001b[0m\u001b[1;33m.\u001b[0m\u001b[0mT\u001b[0m\u001b[1;33m\u001b[0m\u001b[0m\n\u001b[0m\u001b[1;32m    121\u001b[0m     \u001b[1;32melse\u001b[0m\u001b[1;33m:\u001b[0m\u001b[1;33m\u001b[0m\u001b[0m\n\u001b[1;32m    122\u001b[0m         \u001b[1;32mfrom\u001b[0m \u001b[0mitertools\u001b[0m \u001b[1;32mimport\u001b[0m \u001b[0mgroupby\u001b[0m\u001b[1;33m\u001b[0m\u001b[0m\n",
      "\u001b[0;31mTypeError\u001b[0m: only integer arrays with one element can be converted to an index"
     ]
    }
   ],
   "source": [
    "gap_lengths = jag.utils.get_gap_lengths_from_timestamps(timestamps=ts, in_core=True)\n",
    "len(gap_lengths)"
   ]
  },
  {
   "cell_type": "code",
   "execution_count": 7,
   "metadata": {
    "collapsed": true
   },
   "outputs": [],
   "source": [
    "ch_out_prefix = 'channels/gap_'\n",
    "n_chan_zfill = len(str(jfm._reader.n_spike_channels))\n",
    "ch_out_files = [ch_out_prefix + 'ch.' + str(n).zfill(n_chan_zfill) + '.raw' for n in range(jfm._reader.n_spike_channels)]\n",
    "# print(ch_out_files)"
   ]
  },
  {
   "cell_type": "code",
   "execution_count": 8,
   "metadata": {
    "collapsed": true
   },
   "outputs": [],
   "source": [
    "#TODO: make filenames configurable\n",
    "#TODO: warn if files already exist, or if we cannot create them (this latter one should be handled automatically)\n",
    "\n",
    "from contextlib import ExitStack\n",
    "\n",
    "with ExitStack() as stack:\n",
    "    ts_file = stack.enter_context(open('timestamps.raw', 'wb+'))\n",
    "    ch_files = [stack.enter_context(open(fname, 'wb+')) for fname in ch_out_files]\n",
    "    \n",
    "    for ii, (ts, all_ch_data) in enumerate(jfm.read_stitched_files(block_size=4)):\n",
    "        num_packets = len(ts)\n",
    "\n",
    "        my_ts_struct = struct.Struct('<%dI' % num_packets)\n",
    "        my_ch_struct = struct.Struct('<%dh' % num_packets)\n",
    "        ts_packed = my_ts_struct.pack(*ts)\n",
    "        for ch in range(jfm._reader.n_spike_channels):\n",
    "            ch_packed = my_ch_struct.pack(*all_ch_data[ch,:])\n",
    "            # write current channel data of current block to file:\n",
    "            ch_files[ch].write(ch_packed)\n",
    "            \n",
    "        # write timestamps of current block to file:\n",
    "        ts_file.write(ts_packed)       \n"
   ]
  },
  {
   "cell_type": "code",
   "execution_count": 39,
   "metadata": {
    "collapsed": true
   },
   "outputs": [],
   "source": [
    "# now try to read back some data:\n",
    "\n",
    "ts_from_file = np.fromfile('timestamps.raw', dtype=np.uint32)"
   ]
  },
  {
   "cell_type": "code",
   "execution_count": 40,
   "metadata": {},
   "outputs": [
    {
     "data": {
      "text/plain": [
       "array([    200917,   55205700,   55205701,   55205702,   55205703,\n",
       "         55205704,   55205705,   55205706,   55205707,   55205708,\n",
       "        190383308,  216003235,   45380179,   45380180,   45380181,\n",
       "         45380182,   45380183,   45380184,   45380185,   45380186,\n",
       "         45380187,  430419684,  428619684,   55912384,   55912385,\n",
       "         55912386,   55912387,   55912388,   55912389,   55912390,\n",
       "         55912391,   55912392,  617928812,  648279793,   23871545,\n",
       "         23871546,   23871547,   23871548,   23871549,   23871550,\n",
       "         23871551,   23871552,   23871553,  824383837,  864397337,\n",
       "         23104817,   23104818,   23104819,   23104820,   23104821,\n",
       "         23104822,   23104823,   23104824,   23104825, 1054846413], dtype=uint32)"
      ]
     },
     "execution_count": 40,
     "metadata": {},
     "output_type": "execute_result"
    }
   ],
   "source": [
    "ts_from_file"
   ]
  },
  {
   "cell_type": "code",
   "execution_count": 47,
   "metadata": {},
   "outputs": [
    {
     "name": "stdout",
     "output_type": "stream",
     "text": [
      "0 [200917, 55205700, 55205701, 55205702, 55205703]\n",
      "1 [55205704, 55205705, 55205706, 55205707, 55205708]\n",
      "2 [190383308, 216003235, 45380179, 45380180, 45380181]\n",
      "3 [45380182, 45380183, 45380184, 45380185, 45380186]\n",
      "4 [45380187, 430419684, 428619684, 55912384, 55912385]\n",
      "5 [55912386, 55912387, 55912388, 55912389, 55912390]\n",
      "6 [55912391, 55912392, 617928812, 648279793, 23871545]\n",
      "7 [23871546, 23871547, 23871548, 23871549, 23871550]\n",
      "8 [23871551, 23871552, 23871553, 824383837, 864397337]\n",
      "9 [23104817, 23104818, 23104819, 23104820, 23104821]\n",
      "10 [23104822, 23104823, 23104824, 23104825, 1054846413]\n"
     ]
    }
   ],
   "source": [
    "for ii, (ts, ch_data) in enumerate(jfm.read_stitched_files(block_size=5)):\n",
    "    print(ii, ts)"
   ]
  },
  {
   "cell_type": "code",
   "execution_count": 215,
   "metadata": {},
   "outputs": [
    {
     "data": {
      "text/plain": [
       "[<matplotlib.lines.Line2D at 0x7fbf438aebe0>]"
      ]
     },
     "execution_count": 215,
     "metadata": {},
     "output_type": "execute_result"
    },
    {
     "data": {
      "image/png": "[encoded data removed]",
      "text/plain": [
       "<matplotlib.figure.Figure at 0x7fbf438c6048>"
      ]
     },
     "metadata": {},
     "output_type": "display_data"
    }
   ],
   "source": [
    "# load unfiltered data ASSUMING CONTINUOUS\n",
    "fmt='<i'\n",
    "x = np.fromfile('2017-05-31_16-11-39_ch.00.raw', dtype=np.int16)\n",
    "plt.plot(x, marker='o')"
   ]
  },
  {
   "cell_type": "code",
   "execution_count": null,
   "metadata": {
    "collapsed": true
   },
   "outputs": [],
   "source": [
    "memmap()"
   ]
  },
  {
   "cell_type": "code",
   "execution_count": 125,
   "metadata": {
    "collapsed": true
   },
   "outputs": [],
   "source": [
    "from scipy.signal import filtfilt, iirdesign\n",
    "from numpy import memmap\n",
    "\n",
    "def butterfilt(finname, foutname, fmt, fs, fl=5.0, fh=100.0, gpass=1.0, gstop=30.0, ftype='butter', buffer_len=100000, overlap_len=100, max_len=-1):\n",
    "    \"\"\"Given sampling frequency, low and high pass frequencies design a butterworth filter, and filter our data with it.\"\"\"\n",
    "    fso2 = fs/2.0\n",
    "    wp = [fl/fso2, fh/fso2]\n",
    "    ws = [0.8*fl/fso2,1.4*fh/fso2]\n",
    "    b, a = iirdesign(wp, ws, gpass=gpass, gstop=gstop, ftype=ftype, output='ba')\n",
    "    y = filtfiltlong(finname, foutname, fmt, b, a, buffer_len, overlap_len, max_len)\n",
    "    return y, b, a\n",
    "\n",
    "def filtfiltlong(finname, foutname, fmt, b, a, buffer_len=100000, overlap_len=100, max_len=-1):\n",
    "    \"\"\"Use memmap and chunking to filter continuous data.\n",
    "    Inputs:\n",
    "    finname -\n",
    "    foutname    -\n",
    "    fmt         - data format eg 'i'\n",
    "    b,a         - filter coefficients\n",
    "    buffer_len  - how much data to process at a time\n",
    "    overlap_len - how much data do we add to the end of each chunk to smooth out filter transients\n",
    "    max_len     - how many samples to process. If set to -1, processes the whole file\n",
    "    Outputs:\n",
    "    y           - The memmapped array pointing to the written file\n",
    "    Notes on algorithm:\n",
    "    1. The arrays are memmapped, so we let pylab (numpy) take care of handling large arrays\n",
    "    2. The filtering is done in chunks:\n",
    "    Chunking details:\n",
    "                |<------- b1 ------->||<------- b2 ------->|\n",
    "    -----[------*--------------{-----*------]--------------*------}----------\n",
    "            |<-------------- c1 -------------->|\n",
    "                                |<-------------- c2 -------------->|\n",
    "    From the array of data we cut out contiguous buffers (b1,b2,...) and to each buffer we add some extra overlap to\n",
    "    make chunks (c1,c2). The overlap helps to remove the transients from the filtering which would otherwise appear at\n",
    "    each buffer boundary.\n",
    "    \"\"\"\n",
    "    x = memmap(finname, dtype=fmt, mode='r')\n",
    "    if max_len == -1:\n",
    "        max_len = x.size\n",
    "    y = memmap(foutname, dtype=fmt, mode='w+', shape=max_len)\n",
    "\n",
    "    for buff_st_idx in range(0, max_len, buffer_len):\n",
    "        chk_st_idx = max(0, buff_st_idx - overlap_len)\n",
    "        buff_nd_idx = min(max_len, buff_st_idx + buffer_len)\n",
    "        chk_nd_idx = min(x.size, buff_nd_idx + overlap_len)\n",
    "        rel_st_idx = buff_st_idx - chk_st_idx\n",
    "        rel_nd_idx = buff_nd_idx - chk_st_idx\n",
    "        print('filtering {}--{}'.format(chk_st_idx, chk_nd_idx))\n",
    "        print('saving {}--{}'.format(buff_st_idx, buff_nd_idx))\n",
    "        this_y_chk = filtfilt(b, a, x[chk_st_idx:chk_nd_idx], method=\"gust\")\n",
    "        y[buff_st_idx:buff_nd_idx] = this_y_chk[rel_st_idx:rel_nd_idx]\n",
    "\n",
    "    return y\n",
    "\n",
    "y, b, a = butterfilt(finname='2017-05-31_16-11-39_ch.00.raw', buffer_len=10,\n",
    "                     foutname='filtered.raw',\n",
    "                     fmt=np.int16,\n",
    "                     fs=30000,\n",
    "                     fl=500,\n",
    "                     fh=8000,\n",
    "                     overlap_len=5)\n",
    "\n",
    "plt.plot(x)\n",
    "plt.plot(y)"
   ]
  },
  {
   "cell_type": "code",
   "execution_count": 214,
   "metadata": {},
   "outputs": [
    {
     "name": "stdout",
     "output_type": "stream",
     "text": [
      "filtering 0--15\n",
      "saving 0--10\n",
      "filtering 5--25\n",
      "saving 10--20\n",
      "filtering 15--35\n",
      "saving 20--30\n",
      "filtering 25--45\n",
      "saving 30--40\n",
      "filtering 35--55\n",
      "saving 40--50\n",
      "filtering 45--55\n",
      "saving 50--55\n"
     ]
    },
    {
     "data": {
      "text/plain": [
       "[<matplotlib.lines.Line2D at 0x7fbf43980630>]"
      ]
     },
     "execution_count": 214,
     "metadata": {},
     "output_type": "execute_result"
    },
    {
     "data": {
      "image/png": "[encoded data removed]",
      "text/plain": [
       "<matplotlib.figure.Figure at 0x7fbf439807f0>"
      ]
     },
     "metadata": {},
     "output_type": "display_data"
    }
   ],
   "source": [
    "y, b, a = butterfilt(finname='2017-05-31_16-11-39_ch.00.raw', buffer_len=10,\n",
    "                     foutname='filtered.raw',\n",
    "                     fmt=np.int16,\n",
    "                     fs=30000,\n",
    "                     fl=500,\n",
    "                     fh=8000,\n",
    "                     overlap_len=5)\n",
    "\n",
    "plt.plot(x)\n",
    "plt.plot(y)"
   ]
  },
  {
   "cell_type": "code",
   "execution_count": 146,
   "metadata": {},
   "outputs": [
    {
     "data": {
      "text/plain": [
       "[<matplotlib.lines.Line2D at 0x7fbf51244da0>]"
      ]
     },
     "execution_count": 146,
     "metadata": {},
     "output_type": "execute_result"
    },
    {
     "data": {
      "image/png": "[encoded data removed]",
      "text/plain": [
       "<matplotlib.figure.Figure at 0x7fbf51314cc0>"
      ]
     },
     "metadata": {},
     "output_type": "display_data"
    }
   ],
   "source": [
    "tim"
   ]
  },
  {
   "cell_type": "code",
   "execution_count": 78,
   "metadata": {},
   "outputs": [
    {
     "data": {
      "text/plain": [
       "[<matplotlib.lines.Line2D at 0x7fbf52309080>]"
      ]
     },
     "execution_count": 78,
     "metadata": {},
     "output_type": "execute_result"
    },
    {
     "data": {
      "image/png": "[encoded data removed]",
      "text/plain": [
       "<matplotlib.figure.Figure at 0x7fbf52354358>"
      ]
     },
     "metadata": {},
     "output_type": "display_data"
    }
   ],
   "source": [
    "y = memmap('2017-05-31_16-11-39_ch.00.raw', dtype=np.int16)\n",
    "plt.plot(y)"
   ]
  },
  {
   "cell_type": "code",
   "execution_count": null,
   "metadata": {
    "collapsed": true
   },
   "outputs": [],
   "source": []
  },
  {
   "cell_type": "code",
   "execution_count": null,
   "metadata": {
    "collapsed": true
   },
   "outputs": [],
   "source": [
    "# AllDataArr = np.memmap('',dtype=np.int16,shape=(n_samples,n_ch_dat),mode='r')\n",
    "# b,a = signal.butter(3,100./(SAMPLE_RATE/2),'high') #filter at 100 Hz\n",
    "# IntraArr = AllDataArr[:,IntraChannel].copy()\n",
    "# IntraArr = signal.filtfilt(b,a,IntraArr)\n",
    "# Thresh = IntraArr.max()*THRESH_FRAC"
   ]
  },
  {
   "cell_type": "code",
   "execution_count": null,
   "metadata": {
    "collapsed": true
   },
   "outputs": [],
   "source": []
  },
  {
   "cell_type": "code",
   "execution_count": null,
   "metadata": {
    "collapsed": true
   },
   "outputs": [],
   "source": []
  },
  {
   "cell_type": "code",
   "execution_count": null,
   "metadata": {
    "collapsed": true
   },
   "outputs": [],
   "source": []
  },
  {
   "cell_type": "code",
   "execution_count": null,
   "metadata": {
    "collapsed": true
   },
   "outputs": [],
   "source": []
  },
  {
   "cell_type": "code",
   "execution_count": null,
   "metadata": {
    "collapsed": true
   },
   "outputs": [],
   "source": []
  },
  {
   "cell_type": "code",
   "execution_count": null,
   "metadata": {
    "collapsed": true
   },
   "outputs": [],
   "source": []
  },
  {
   "cell_type": "code",
   "execution_count": 45,
   "metadata": {
    "collapsed": true
   },
   "outputs": [],
   "source": [
    "import struct\n",
    "\n",
    "ch = 5\n",
    "\n",
    "ch_data = all_ch_data[ch,:]  # get a 1-D array of numbers\n",
    "arrSize = len(ch_data)\n",
    "\n",
    "my_struct = struct.Struct('<%dh' % arrSize)\n",
    "\n",
    "# packed = struct.pack('<iiHHi%df' % arrSize,\n",
    "#     nSamples, nSampPeriod, nSampSize, nParmKind, arrSize, *flattened)"
   ]
  },
  {
   "cell_type": "code",
   "execution_count": null,
   "metadata": {
    "collapsed": true
   },
   "outputs": [],
   "source": [
    "flattened = npVect.ravel()  # get a 1-D array of numbers\n",
    "arrSize = len(flattened)\n",
    "# pack header, count of numbers, and numbers, all in one call\n",
    "packed = struct.pack('<iiHHi%df' % arrSize,\n",
    "    nSamples, nSampPeriod, nSampSize, nParmKind, arrSize, *flattened)"
   ]
  },
  {
   "cell_type": "code",
   "execution_count": 16,
   "metadata": {},
   "outputs": [
    {
     "data": {
      "text/plain": [
       "['ch.0000.raw',\n",
       " 'ch.0001.raw',\n",
       " 'ch.0002.raw',\n",
       " 'ch.0003.raw',\n",
       " 'ch.0004.raw',\n",
       " 'ch.0005.raw',\n",
       " 'ch.0006.raw',\n",
       " 'ch.0007.raw',\n",
       " 'ch.0008.raw',\n",
       " 'ch.0009.raw',\n",
       " 'ch.0010.raw',\n",
       " 'ch.0011.raw',\n",
       " 'ch.0012.raw',\n",
       " 'ch.0013.raw',\n",
       " 'ch.0014.raw',\n",
       " 'ch.0015.raw',\n",
       " 'ch.0016.raw',\n",
       " 'ch.0017.raw',\n",
       " 'ch.0018.raw',\n",
       " 'ch.0019.raw',\n",
       " 'ch.0020.raw',\n",
       " 'ch.0021.raw',\n",
       " 'ch.0022.raw',\n",
       " 'ch.0023.raw',\n",
       " 'ch.0024.raw',\n",
       " 'ch.0025.raw',\n",
       " 'ch.0026.raw',\n",
       " 'ch.0027.raw',\n",
       " 'ch.0028.raw',\n",
       " 'ch.0029.raw',\n",
       " 'ch.0030.raw',\n",
       " 'ch.0031.raw',\n",
       " 'ch.0032.raw',\n",
       " 'ch.0033.raw',\n",
       " 'ch.0034.raw',\n",
       " 'ch.0035.raw',\n",
       " 'ch.0036.raw',\n",
       " 'ch.0037.raw',\n",
       " 'ch.0038.raw',\n",
       " 'ch.0039.raw',\n",
       " 'ch.0040.raw',\n",
       " 'ch.0041.raw',\n",
       " 'ch.0042.raw',\n",
       " 'ch.0043.raw',\n",
       " 'ch.0044.raw',\n",
       " 'ch.0045.raw',\n",
       " 'ch.0046.raw',\n",
       " 'ch.0047.raw',\n",
       " 'ch.0048.raw',\n",
       " 'ch.0049.raw',\n",
       " 'ch.0050.raw',\n",
       " 'ch.0051.raw',\n",
       " 'ch.0052.raw',\n",
       " 'ch.0053.raw',\n",
       " 'ch.0054.raw',\n",
       " 'ch.0055.raw',\n",
       " 'ch.0056.raw',\n",
       " 'ch.0057.raw',\n",
       " 'ch.0058.raw',\n",
       " 'ch.0059.raw',\n",
       " 'ch.0060.raw',\n",
       " 'ch.0061.raw',\n",
       " 'ch.0062.raw',\n",
       " 'ch.0063.raw',\n",
       " 'ch.0064.raw',\n",
       " 'ch.0065.raw',\n",
       " 'ch.0066.raw',\n",
       " 'ch.0067.raw',\n",
       " 'ch.0068.raw',\n",
       " 'ch.0069.raw',\n",
       " 'ch.0070.raw',\n",
       " 'ch.0071.raw',\n",
       " 'ch.0072.raw',\n",
       " 'ch.0073.raw',\n",
       " 'ch.0074.raw',\n",
       " 'ch.0075.raw',\n",
       " 'ch.0076.raw',\n",
       " 'ch.0077.raw',\n",
       " 'ch.0078.raw',\n",
       " 'ch.0079.raw']"
      ]
     },
     "execution_count": 16,
     "metadata": {},
     "output_type": "execute_result"
    }
   ],
   "source": [
    "from contextlib import ExitStack\n",
    "\n",
    "with ExitStack() as stack:\n",
    "    files = [stack.enter_context(open(fname, 'wb+')) for fname in ch_out_files]\n",
    "    \n",
    "    \n",
    "    flattened = npVect.ravel()  # get a 1-D array of numbers\n",
    "arrSize = len(flattened)\n",
    "# pack header, count of numbers, and numbers, all in one call\n",
    "packed = struct.pack('<iiHHi%df' % arrSize,\n",
    "    nSamples, nSampPeriod, nSampSize, nParmKind, arrSize, *flattened)"
   ]
  },
  {
   "cell_type": "code",
   "execution_count": 6,
   "metadata": {
    "scrolled": false
   },
   "outputs": [
    {
     "name": "stdout",
     "output_type": "stream",
     "text": [
      "0 [200917, 55205700, 55205701, 55205702, 55205703]\n",
      "1 [55205704, 55205705, 55205706, 55205707, 55205708]\n",
      "2 [190383308, 216003235, 45380179, 45380180, 45380181]\n",
      "3 [45380182, 45380183, 45380184, 45380185, 45380186]\n",
      "4 [45380187, 430419684, 428619684, 55912384, 55912385]\n",
      "5 [55912386, 55912387, 55912388, 55912389, 55912390]\n",
      "6 [55912391, 55912392, 617928812, 648279793, 23871545]\n",
      "7 [23871546, 23871547, 23871548, 23871549, 23871550]\n",
      "8 [23871551, 23871552, 23871553, 824383837, 864397337]\n",
      "9 [23104817, 23104818, 23104819, 23104820, 23104821]\n",
      "10 [23104822, 23104823, 23104824, 23104825, 1054846413]\n"
     ]
    }
   ],
   "source": [
    "\n",
    "for ii, (ts, ch_data) in enumerate(jfm.read_stitched_files(block_size=5)):\n",
    "    print(ii, ts)"
   ]
  },
  {
   "cell_type": "code",
   "execution_count": 28,
   "metadata": {},
   "outputs": [
    {
     "data": {
      "text/plain": [
       "<JagularFileMap: 1 files spanning 1:45:39:413 hours (missing 0.0 milliseconds)> at 0x1f92107c278"
      ]
     },
     "execution_count": 28,
     "metadata": {},
     "output_type": "execute_result"
    }
   ],
   "source": [
    "jag.io.JagularFileMap('../sample_data/sample_data_1.rec')"
   ]
  },
  {
   "cell_type": "code",
   "execution_count": 29,
   "metadata": {},
   "outputs": [
    {
     "data": {
      "text/plain": [
       "array([[  6.69723333e+00,   6.34611027e+03],\n",
       "       [  7.20010783e+03,   1.43473228e+04],\n",
       "       [  1.42873228e+04,   2.05976271e+04],\n",
       "       [  2.16093264e+04,   2.74794612e+04],\n",
       "       [  2.88132446e+04,   3.51615471e+04]])"
      ]
     },
     "execution_count": 29,
     "metadata": {},
     "output_type": "execute_result"
    }
   ],
   "source": [
    "jfm.timestamps"
   ]
  },
  {
   "cell_type": "code",
   "execution_count": 30,
   "metadata": {},
   "outputs": [
    {
     "data": {
      "text/plain": [
       "array([[    200917,  190383308],\n",
       "       [ 216003235,  430419684],\n",
       "       [ 428619684,  617928812],\n",
       "       [ 648279793,  824383837],\n",
       "       [ 864397337, 1054846413]])"
      ]
     },
     "execution_count": 30,
     "metadata": {},
     "output_type": "execute_result"
    }
   ],
   "source": [
    "jfm.timesamples"
   ]
  },
  {
   "cell_type": "code",
   "execution_count": 31,
   "metadata": {},
   "outputs": [
    {
     "data": {
      "image/png": "[encoded data removed]",
      "text/plain": [
       "<matplotlib.figure.Figure at 0x1f92104eda0>"
      ]
     },
     "metadata": {},
     "output_type": "display_data"
    }
   ],
   "source": [
    "ax = jfm.plot()\n",
    "# ax.set_xlim(0, 300);"
   ]
  },
  {
   "cell_type": "code",
   "execution_count": 32,
   "metadata": {},
   "outputs": [
    {
     "data": {
      "text/plain": [
       "True"
      ]
     },
     "execution_count": 32,
     "metadata": {},
     "output_type": "execute_result"
    }
   ],
   "source": [
    "jfm._samples_within_bounds(2853122, 7093204 )"
   ]
  },
  {
   "cell_type": "code",
   "execution_count": 33,
   "metadata": {},
   "outputs": [
    {
     "data": {
      "text/plain": [
       "True"
      ]
     },
     "execution_count": 33,
     "metadata": {},
     "output_type": "execute_result"
    }
   ],
   "source": [
    "jfm._time_within_bounds(100, 250)"
   ]
  },
  {
   "cell_type": "code",
   "execution_count": 34,
   "metadata": {},
   "outputs": [
    {
     "name": "stdout",
     "output_type": "stream",
     "text": [
      "duration including gaps: 9:45:54:849 hours\n",
      "duration excluding gaps: 8:53:35:369 hours\n"
     ]
    }
   ],
   "source": [
    "print(\"duration including gaps: {}\".format(jfm.duration_w_gaps))\n",
    "print(\"duration excluding gaps: {}\".format(jfm.duration_wo_gaps))"
   ]
  },
  {
   "cell_type": "code",
   "execution_count": 83,
   "metadata": {},
   "outputs": [
    {
     "name": "stdout",
     "output_type": "stream",
     "text": [
      "f1b1f1b2f1b3\n",
      "f1b4f2b1f2b2\n",
      "f2b3f2b4f3b1\n",
      "f3b2f4b1f4b2\n",
      "f4b3f4b4f4b5\n"
     ]
    }
   ],
   "source": [
    "from contextlib import ExitStack\n",
    "\n",
    "with open('test1', 'w') as f:\n",
    "    f.write('f1b1f1b2f1b3f1b4')\n",
    "    \n",
    "with open('test2', 'w') as f:\n",
    "    f.write('f2b1f2b2f2b3f2b4')\n",
    "    \n",
    "with open('test3', 'w') as f:\n",
    "    f.write('f3b1f3b2')\n",
    "    \n",
    "with open('test4', 'w') as f:\n",
    "    f.write('f4b1f4b2f4b3f4b4f4b5')\n",
    "    \n",
    "filenames = ['test1', 'test2', 'test3', 'test4']\n",
    "\n",
    "from contextlib import ExitStack\n",
    "\n",
    "def read_stitched_files(nch=2):\n",
    "    with ExitStack() as stack:\n",
    "        files = [stack.enter_context(open(fname, 'r')) for fname in filenames]\n",
    "        ii=0\n",
    "        while True:\n",
    "            try:\n",
    "                chunk = files[ii].read(4*nch)\n",
    "                if 0 < len(chunk) < 4*nch:\n",
    "                    # chunk size could not be filled from current file, so move onto next file\n",
    "                    ii+=1\n",
    "                    chunkB = files[ii].read(4*int(nch-len(chunk)/4))\n",
    "                    chunk = chunk + chunkB\n",
    "                if chunk:\n",
    "                    yield chunk\n",
    "                else:\n",
    "                    ii+=1\n",
    "            except IndexError:\n",
    "                return\n",
    "                       \n",
    "for chunk in read_stitched_files(3):\n",
    "    print(chunk)"
   ]
  },
  {
   "cell_type": "code",
   "execution_count": 82,
   "metadata": {},
   "outputs": [
    {
     "name": "stdout",
     "output_type": "stream",
     "text": [
      "\n",
      "One symbol at a time:\n",
      "=======================\n",
      "f1b1\n",
      "f1b2\n",
      "f1b3\n",
      "f1b4\n",
      "f2b1\n",
      "f2b2\n",
      "f2b3\n",
      "f2b4\n",
      "f3b1\n",
      "f3b2\n",
      "f4b1\n",
      "f4b2\n",
      "f4b3\n",
      "f4b4\n",
      "f4b5\n",
      "\n",
      "Two symbols at a time:\n",
      "=======================\n",
      "f1b1f1b2\n",
      "f1b3f1b4\n",
      "f2b1f2b2\n",
      "f2b3f2b4\n",
      "f3b1f3b2\n",
      "f4b1f4b2\n",
      "f4b3f4b4\n",
      "\n",
      "Three symbols at a time:\n",
      "=======================\n",
      "f1b1f1b2f1b3\n",
      "f1b4f2b1f2b2\n",
      "f2b3f2b4f3b1\n",
      "f3b2f4b1f4b2\n",
      "f4b3f4b4f4b5\n",
      "\n",
      "Four symbols at a time:\n",
      "=======================\n",
      "f1b1f1b2f1b3f1b4\n",
      "f2b1f2b2f2b3f2b4\n",
      "f3b1f3b2f4b1f4b2\n",
      "\n",
      "Five symbols at a time:\n",
      "=======================\n",
      "f1b1f1b2f1b3f1b4f2b1\n",
      "f2b2f2b3f2b4f3b1f3b2\n",
      "f4b1f4b2f4b3f4b4f4b5\n",
      "\n",
      "Six symbols at a time:\n",
      "=======================\n",
      "f1b1f1b2f1b3f1b4f2b1f2b2\n",
      "f2b3f2b4f3b1f3b2\n"
     ]
    }
   ],
   "source": [
    "with open('test1', 'w') as f:\n",
    "    f.write('f1b1f1b2f1b3f1b4')\n",
    "with open('test2', 'w') as f:\n",
    "    f.write('f2b1f2b2f2b3f2b4')\n",
    "with open('test3', 'w') as f:\n",
    "    f.write('f3b1f3b2')   \n",
    "with open('test4', 'w') as f:\n",
    "    f.write('f4b1f4b2f4b3f4b4f4b5')\n",
    "\n",
    "print('')\n",
    "print('One symbol at a time:')\n",
    "print('=======================')\n",
    "for chunk in read_stitched_files(1):\n",
    "    print(chunk)\n",
    "    \n",
    "print('')\n",
    "print('Two symbols at a time:')\n",
    "print('=======================')\n",
    "for chunk in read_stitched_files(2):\n",
    "    print(chunk)\n",
    "    \n",
    "print('')\n",
    "print('Three symbols at a time:')\n",
    "print('=======================')\n",
    "for chunk in read_stitched_files(3):\n",
    "    print(chunk)\n",
    "    \n",
    "print('')\n",
    "print('Four symbols at a time:')\n",
    "print('=======================')\n",
    "for chunk in read_stitched_files(4):\n",
    "    print(chunk)\n",
    "    \n",
    "print('')\n",
    "print('Five symbols at a time:')\n",
    "print('=======================')\n",
    "for chunk in read_stitched_files(5):\n",
    "    print(chunk)\n",
    "    \n",
    "print('')\n",
    "print('Six symbols at a time:')\n",
    "print('=======================')\n",
    "for chunk in read_stitched_files(6):\n",
    "    print(chunk)"
   ]
  }
 ],
 "metadata": {
  "anaconda-cloud": {},
  "kernelspec": {
   "display_name": "Python [default]",
   "language": "python",
   "name": "python3"
  },
  "language_info": {
   "codemirror_mode": {
    "name": "ipython",
    "version": 3
   },
   "file_extension": ".py",
   "mimetype": "text/x-python",
   "name": "python",
   "nbconvert_exporter": "python",
   "pygments_lexer": "ipython3",
   "version": "3.5.4"
  }
 },
 "nbformat": 4,
 "nbformat_minor": 2
}
