{
 "cells": [
  {
   "cell_type": "markdown",
   "metadata": {},
   "source": [
    "## TODO:\n",
    "\n",
    "1. incorporate `PrettyDuration` into `JagularFileMap` and update `__repr__` [DONE!]\n",
    "1. split out `pairwise` and `is_sorted` to `utils` [DONE!]\n",
    "1. fix issue of `header_size`\n",
    "1. fix test data [DONE!]\n",
    "1. write actual utiity function to return data and/or list of required files\n",
    "1. finish `NotImplementedError` functions\n",
    "1. deal with duplicates, and overlaps\n",
    "1. consider graceful abort?\n",
    "1. FFB! Provide way to request specific channel(s) and provide for inter-file interpolation (default should maybe return all channels?)\n",
    "1. ...?"
   ]
  },
  {
   "cell_type": "code",
   "execution_count": 1,
   "metadata": {
    "collapsed": true
   },
   "outputs": [],
   "source": [
    "import numpy as np\n",
    "import matplotlib as mpl\n",
    "import matplotlib.pyplot as plt\n",
    "\n",
    "%matplotlib inline"
   ]
  },
  {
   "cell_type": "code",
   "execution_count": 2,
   "metadata": {},
   "outputs": [],
   "source": [
    "import jagular as jag"
   ]
  },
  {
   "cell_type": "code",
   "execution_count": 3,
   "metadata": {},
   "outputs": [
    {
     "name": "stdout",
     "output_type": "stream",
     "text": [
      "<JagularFileMap: 5 files spanning 9:45:54:849 hours (missing 52:19:480 minutes)> at 0x23c63487c88\n"
     ]
    }
   ],
   "source": [
    "file_list = ['../sample_data/sample_data_1.rec',\n",
    "             '../sample_data/sample_data_3.rec',\n",
    "             '../sample_data/sample_data_4.rec',\n",
    "             '../sample_data/sample_data_5.rec',\n",
    "             '../sample_data/sample_data_2.rec'\n",
    "            ]\n",
    "\n",
    "jfm = jag.io.JagularFileMap(file_list)\n",
    "\n",
    "print(jfm)"
   ]
  },
  {
   "cell_type": "code",
   "execution_count": 5,
   "metadata": {},
   "outputs": [
    {
     "name": "stdout",
     "output_type": "stream",
     "text": [
      "[200917, 55205700, 55205701, 55205702]\n",
      "[55205703, 55205704, 55205705, 55205706]\n",
      "[55205707, 55205708, 190383308, 216003235]\n",
      "[45380179, 45380180, 45380181, 45380182]\n",
      "[45380183, 45380184, 45380185, 45380186]\n",
      "[45380187, 430419684, 428619684, 55912384]\n",
      "[55912385, 55912386, 55912387, 55912388]\n",
      "[55912389, 55912390, 55912391, 55912392]\n",
      "[617928812, 648279793, 23871545, 23871546]\n",
      "[23871547, 23871548, 23871549, 23871550]\n",
      "[23871551, 23871552, 23871553, 824383837]\n",
      "[864397337, 23104817, 23104818, 23104819]\n",
      "[23104820, 23104821, 23104822, 23104823]\n"
     ]
    }
   ],
   "source": [
    "for ts, ch_data in jfm.read_stitched_files(block_size=4):\n",
    "    print(ts)"
   ]
  },
  {
   "cell_type": "code",
   "execution_count": 4,
   "metadata": {},
   "outputs": [
    {
     "data": {
      "text/plain": [
       "<JagularFileMap: 1 files spanning 1:45:39:413 hours (missing 0.0 milliseconds)> at 0x1dd33b3ada0"
      ]
     },
     "execution_count": 4,
     "metadata": {},
     "output_type": "execute_result"
    }
   ],
   "source": [
    "jag.io.JagularFileMap('../sample_data/sample_data_1.rec')"
   ]
  },
  {
   "cell_type": "code",
   "execution_count": 5,
   "metadata": {},
   "outputs": [
    {
     "data": {
      "text/plain": [
       "array([[  6.69723333e+00,   6.34611027e+03],\n",
       "       [  7.20010783e+03,   1.43473228e+04],\n",
       "       [  1.42873228e+04,   2.05976271e+04],\n",
       "       [  2.16093264e+04,   2.74794612e+04],\n",
       "       [  2.88132446e+04,   3.51615471e+04]])"
      ]
     },
     "execution_count": 5,
     "metadata": {},
     "output_type": "execute_result"
    }
   ],
   "source": [
    "jfm.timestamps"
   ]
  },
  {
   "cell_type": "code",
   "execution_count": 6,
   "metadata": {},
   "outputs": [
    {
     "data": {
      "text/plain": [
       "array([[    200917,  190383308],\n",
       "       [ 216003235,  430419684],\n",
       "       [ 428619684,  617928812],\n",
       "       [ 648279793,  824383837],\n",
       "       [ 864397337, 1054846413]])"
      ]
     },
     "execution_count": 6,
     "metadata": {},
     "output_type": "execute_result"
    }
   ],
   "source": [
    "jfm.timesamples"
   ]
  },
  {
   "cell_type": "code",
   "execution_count": 7,
   "metadata": {},
   "outputs": [
    {
     "data": {
      "image/png": "[encoded data removed]",
      "text/plain": [
       "<matplotlib.figure.Figure at 0x1dd33b4e9b0>"
      ]
     },
     "metadata": {},
     "output_type": "display_data"
    }
   ],
   "source": [
    "ax = jfm.plot()\n",
    "# ax.set_xlim(0, 300);"
   ]
  },
  {
   "cell_type": "code",
   "execution_count": 8,
   "metadata": {},
   "outputs": [
    {
     "data": {
      "text/plain": [
       "True"
      ]
     },
     "execution_count": 8,
     "metadata": {},
     "output_type": "execute_result"
    }
   ],
   "source": [
    "jfm._samples_within_bounds(2853122, 7093204 )"
   ]
  },
  {
   "cell_type": "code",
   "execution_count": 9,
   "metadata": {},
   "outputs": [
    {
     "data": {
      "text/plain": [
       "True"
      ]
     },
     "execution_count": 9,
     "metadata": {},
     "output_type": "execute_result"
    }
   ],
   "source": [
    "jfm._time_within_bounds(100, 250)"
   ]
  },
  {
   "cell_type": "code",
   "execution_count": 10,
   "metadata": {},
   "outputs": [
    {
     "name": "stdout",
     "output_type": "stream",
     "text": [
      "duration including gaps: 9:45:54:849 hours\n",
      "duration excluding gaps: 8:53:35:369 hours\n"
     ]
    }
   ],
   "source": [
    "print(\"duration including gaps: {}\".format(jfm.duration_w_gaps))\n",
    "print(\"duration excluding gaps: {}\".format(jfm.duration_wo_gaps))"
   ]
  },
  {
   "cell_type": "code",
   "execution_count": 11,
   "metadata": {
    "collapsed": true
   },
   "outputs": [],
   "source": [
    "# 4, 4, 2, 5\n",
    "\n",
    "# chunksize = 4*4\n",
    "# chunksize = 3*4"
   ]
  },
  {
   "cell_type": "code",
   "execution_count": 12,
   "metadata": {
    "collapsed": true
   },
   "outputs": [],
   "source": []
  },
  {
   "cell_type": "code",
   "execution_count": 46,
   "metadata": {},
   "outputs": [
    {
     "name": "stdout",
     "output_type": "stream",
     "text": [
      "f1b1f1b2f1b3f1b4\n",
      "f2b1f2b2f2b3f2b4\n",
      "f3b1f3b2\n",
      "f4b1f4b2f4b3f4b4\n",
      "f4b5\n"
     ]
    }
   ],
   "source": [
    "with open('test1', 'w') as f:\n",
    "    f.write('f1b1f1b2f1b3f1b4')\n",
    "    \n",
    "with open('test2', 'w') as f:\n",
    "    f.write('f2b1f2b2f2b3f2b4')\n",
    "    \n",
    "with open('test3', 'w') as f:\n",
    "    f.write('f3b1f3b2')\n",
    "    \n",
    "with open('test4', 'w') as f:\n",
    "    f.write('f4b1f4b2f4b3f4b4f4b5')\n",
    "\n",
    "def read_stitched_files(nch=2):\n",
    "    with open('test1', 'r') as f1, open('test2', 'r') as f2, open('test3', 'r') as f3, open('test4', 'r') as f4:\n",
    "        while True:\n",
    "            chunk = f1.read(4*nch)\n",
    "            if chunk:\n",
    "                yield chunk\n",
    "            else:\n",
    "                chunk = f2.read(4*nch)\n",
    "                if chunk:\n",
    "                    yield chunk\n",
    "                else:\n",
    "                    chunk = f3.read(4*nch)\n",
    "                    if chunk:\n",
    "                        yield chunk\n",
    "                    else:\n",
    "                        chunk = f4.read(4*nch)\n",
    "                        if chunk:\n",
    "                            yield chunk\n",
    "                        else:\n",
    "                            return\n",
    "                        \n",
    "for chunk in read_stitched_files(4):\n",
    "    print(chunk)"
   ]
  },
  {
   "cell_type": "code",
   "execution_count": 69,
   "metadata": {},
   "outputs": [
    {
     "name": "stdout",
     "output_type": "stream",
     "text": [
      "f1b1f1b2f1b3f1b4\n",
      "f2b1f2b2f2b3f2b4\n",
      "f3b1f3b2\n",
      "f4b1f4b2f4b3f4b4\n",
      "f4b5\n"
     ]
    }
   ],
   "source": [
    "from contextlib import ExitStack\n",
    "\n",
    "with open('test1', 'w') as f:\n",
    "    f.write('f1b1f1b2f1b3f1b4')\n",
    "    \n",
    "with open('test2', 'w') as f:\n",
    "    f.write('f2b1f2b2f2b3f2b4')\n",
    "    \n",
    "with open('test3', 'w') as f:\n",
    "    f.write('f3b1f3b2')\n",
    "    \n",
    "with open('test4', 'w') as f:\n",
    "    f.write('f4b1f4b2f4b3f4b4f4b5')\n",
    "    \n",
    "filenames = ['test1', 'test2', 'test3', 'test4']\n",
    "\n",
    "def read_stitched_files(nch=2):\n",
    "    with ExitStack() as stack:\n",
    "        files = [stack.enter_context(open(fname, 'r')) for fname in filenames]\n",
    "        ii=0\n",
    "        while True:\n",
    "            try:\n",
    "                chunk = files[ii].read(4*nch)\n",
    "                if chunk:\n",
    "                    yield chunk\n",
    "                else:\n",
    "                    ii+=1\n",
    "            except IndexError:\n",
    "                return\n",
    "                       \n",
    "for chunk in read_stitched_files(4):\n",
    "    print(chunk)"
   ]
  },
  {
   "cell_type": "code",
   "execution_count": 83,
   "metadata": {},
   "outputs": [
    {
     "name": "stdout",
     "output_type": "stream",
     "text": [
      "f1b1f1b2f1b3\n",
      "f1b4f2b1f2b2\n",
      "f2b3f2b4f3b1\n",
      "f3b2f4b1f4b2\n",
      "f4b3f4b4f4b5\n"
     ]
    }
   ],
   "source": [
    "from contextlib import ExitStack\n",
    "\n",
    "with open('test1', 'w') as f:\n",
    "    f.write('f1b1f1b2f1b3f1b4')\n",
    "    \n",
    "with open('test2', 'w') as f:\n",
    "    f.write('f2b1f2b2f2b3f2b4')\n",
    "    \n",
    "with open('test3', 'w') as f:\n",
    "    f.write('f3b1f3b2')\n",
    "    \n",
    "with open('test4', 'w') as f:\n",
    "    f.write('f4b1f4b2f4b3f4b4f4b5')\n",
    "    \n",
    "filenames = ['test1', 'test2', 'test3', 'test4']\n",
    "\n",
    "from contextlib import ExitStack\n",
    "\n",
    "def read_stitched_files(nch=2):\n",
    "    with ExitStack() as stack:\n",
    "        files = [stack.enter_context(open(fname, 'r')) for fname in filenames]\n",
    "        ii=0\n",
    "        while True:\n",
    "            try:\n",
    "                chunk = files[ii].read(4*nch)\n",
    "                if 0 < len(chunk) < 4*nch:\n",
    "                    # chunk size could not be filled from current file, so move onto next file\n",
    "                    ii+=1\n",
    "                    chunkB = files[ii].read(4*int(nch-len(chunk)/4))\n",
    "                    chunk = chunk + chunkB\n",
    "                if chunk:\n",
    "                    yield chunk\n",
    "                else:\n",
    "                    ii+=1\n",
    "            except IndexError:\n",
    "                return\n",
    "                       \n",
    "for chunk in read_stitched_files(3):\n",
    "    print(chunk)"
   ]
  },
  {
   "cell_type": "code",
   "execution_count": 82,
   "metadata": {},
   "outputs": [
    {
     "name": "stdout",
     "output_type": "stream",
     "text": [
      "\n",
      "One symbol at a time:\n",
      "=======================\n",
      "f1b1\n",
      "f1b2\n",
      "f1b3\n",
      "f1b4\n",
      "f2b1\n",
      "f2b2\n",
      "f2b3\n",
      "f2b4\n",
      "f3b1\n",
      "f3b2\n",
      "f4b1\n",
      "f4b2\n",
      "f4b3\n",
      "f4b4\n",
      "f4b5\n",
      "\n",
      "Two symbols at a time:\n",
      "=======================\n",
      "f1b1f1b2\n",
      "f1b3f1b4\n",
      "f2b1f2b2\n",
      "f2b3f2b4\n",
      "f3b1f3b2\n",
      "f4b1f4b2\n",
      "f4b3f4b4\n",
      "\n",
      "Three symbols at a time:\n",
      "=======================\n",
      "f1b1f1b2f1b3\n",
      "f1b4f2b1f2b2\n",
      "f2b3f2b4f3b1\n",
      "f3b2f4b1f4b2\n",
      "f4b3f4b4f4b5\n",
      "\n",
      "Four symbols at a time:\n",
      "=======================\n",
      "f1b1f1b2f1b3f1b4\n",
      "f2b1f2b2f2b3f2b4\n",
      "f3b1f3b2f4b1f4b2\n",
      "\n",
      "Five symbols at a time:\n",
      "=======================\n",
      "f1b1f1b2f1b3f1b4f2b1\n",
      "f2b2f2b3f2b4f3b1f3b2\n",
      "f4b1f4b2f4b3f4b4f4b5\n",
      "\n",
      "Six symbols at a time:\n",
      "=======================\n",
      "f1b1f1b2f1b3f1b4f2b1f2b2\n",
      "f2b3f2b4f3b1f3b2\n"
     ]
    }
   ],
   "source": [
    "with open('test1', 'w') as f:\n",
    "    f.write('f1b1f1b2f1b3f1b4')\n",
    "with open('test2', 'w') as f:\n",
    "    f.write('f2b1f2b2f2b3f2b4')\n",
    "with open('test3', 'w') as f:\n",
    "    f.write('f3b1f3b2')   \n",
    "with open('test4', 'w') as f:\n",
    "    f.write('f4b1f4b2f4b3f4b4f4b5')\n",
    "\n",
    "print('')\n",
    "print('One symbol at a time:')\n",
    "print('=======================')\n",
    "for chunk in read_stitched_files(1):\n",
    "    print(chunk)\n",
    "    \n",
    "print('')\n",
    "print('Two symbols at a time:')\n",
    "print('=======================')\n",
    "for chunk in read_stitched_files(2):\n",
    "    print(chunk)\n",
    "    \n",
    "print('')\n",
    "print('Three symbols at a time:')\n",
    "print('=======================')\n",
    "for chunk in read_stitched_files(3):\n",
    "    print(chunk)\n",
    "    \n",
    "print('')\n",
    "print('Four symbols at a time:')\n",
    "print('=======================')\n",
    "for chunk in read_stitched_files(4):\n",
    "    print(chunk)\n",
    "    \n",
    "print('')\n",
    "print('Five symbols at a time:')\n",
    "print('=======================')\n",
    "for chunk in read_stitched_files(5):\n",
    "    print(chunk)\n",
    "    \n",
    "print('')\n",
    "print('Six symbols at a time:')\n",
    "print('=======================')\n",
    "for chunk in read_stitched_files(6):\n",
    "    print(chunk)"
   ]
  },
  {
   "cell_type": "code",
   "execution_count": 12,
   "metadata": {},
   "outputs": [
    {
     "data": {
      "text/plain": [
       "array([[ 0.,  0.,  0.,  0.,  0.,  0.],\n",
       "       [ 0.,  0.,  0.,  0.,  0.,  0.],\n",
       "       [ 0.,  0.,  0.,  0.,  0.,  0.]])"
      ]
     },
     "execution_count": 12,
     "metadata": {},
     "output_type": "execute_result"
    }
   ],
   "source": [
    "A = np.zeros((3,6))\n",
    "A"
   ]
  },
  {
   "cell_type": "code",
   "execution_count": 25,
   "metadata": {},
   "outputs": [],
   "source": [
    "A = [1,2,3,4,5]"
   ]
  },
  {
   "cell_type": "code",
   "execution_count": 26,
   "metadata": {},
   "outputs": [
    {
     "data": {
      "text/plain": [
       "[1, 2, 3, 4, 5, 1, 2, 3, 4, 5]"
      ]
     },
     "execution_count": 26,
     "metadata": {},
     "output_type": "execute_result"
    }
   ],
   "source": [
    "A + A"
   ]
  }
 ],
 "metadata": {
  "anaconda-cloud": {},
  "kernelspec": {
   "display_name": "Python [default]",
   "language": "python",
   "name": "python3"
  },
  "language_info": {
   "codemirror_mode": {
    "name": "ipython",
    "version": 3
   },
   "file_extension": ".py",
   "mimetype": "text/x-python",
   "name": "python",
   "nbconvert_exporter": "python",
   "pygments_lexer": "ipython3",
   "version": "3.5.3"
  }
 },
 "nbformat": 4,
 "nbformat_minor": 2
}
