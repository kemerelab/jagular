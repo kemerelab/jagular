{
 "cells": [
  {
   "cell_type": "code",
   "execution_count": 1,
   "metadata": {
    "collapsed": true
   },
   "outputs": [],
   "source": [
    "import numpy as np\n",
    "import matplotlib as mpl\n",
    "import matplotlib.pyplot as plt\n",
    "\n",
    "import nelpy as nel\n",
    "import nelpy.plotting as npl\n",
    "\n",
    "%matplotlib inline"
   ]
  },
  {
   "cell_type": "code",
   "execution_count": 2,
   "metadata": {},
   "outputs": [],
   "source": [
    "import jagular as jag"
   ]
  },
  {
   "cell_type": "code",
   "execution_count": 3,
   "metadata": {},
   "outputs": [
    {
     "ename": "AssertionError",
     "evalue": "first_timestamp > last_timestamp!",
     "output_type": "error",
     "traceback": [
      "\u001b[1;31m---------------------------------------------------------------------------\u001b[0m",
      "\u001b[1;31mAssertionError\u001b[0m                            Traceback (most recent call last)",
      "\u001b[1;32m<ipython-input-3-a4ed835c938b>\u001b[0m in \u001b[0;36m<module>\u001b[1;34m()\u001b[0m\n\u001b[0;32m      6\u001b[0m             ]\n\u001b[0;32m      7\u001b[0m \u001b[1;33m\u001b[0m\u001b[0m\n\u001b[1;32m----> 8\u001b[1;33m \u001b[0mjfm\u001b[0m \u001b[1;33m=\u001b[0m \u001b[0mjag\u001b[0m\u001b[1;33m.\u001b[0m\u001b[0mio\u001b[0m\u001b[1;33m.\u001b[0m\u001b[0mJagularFileMap\u001b[0m\u001b[1;33m(\u001b[0m\u001b[0mfile_list\u001b[0m\u001b[1;33m)\u001b[0m\u001b[1;33m\u001b[0m\u001b[0m\n\u001b[0m",
      "\u001b[1;32mc:\\etienne\\dropbox\\code\\jagular\\jagular\\io.py\u001b[0m in \u001b[0;36m__init__\u001b[1;34m(self, *files, **kwargs)\u001b[0m\n\u001b[0;32m     87\u001b[0m         \u001b[0mfile_tuple\u001b[0m \u001b[1;33m=\u001b[0m \u001b[0mself\u001b[0m\u001b[1;33m.\u001b[0m\u001b[0m_get_file_tuple\u001b[0m\u001b[1;33m(\u001b[0m\u001b[0mfiles\u001b[0m\u001b[1;33m)\u001b[0m\u001b[1;33m\u001b[0m\u001b[0m\n\u001b[0;32m     88\u001b[0m         \u001b[1;32mif\u001b[0m \u001b[0mfile_tuple\u001b[0m\u001b[1;33m:\u001b[0m\u001b[1;33m\u001b[0m\u001b[0m\n\u001b[1;32m---> 89\u001b[1;33m             \u001b[0mself\u001b[0m\u001b[1;33m.\u001b[0m\u001b[0madd_files\u001b[0m\u001b[1;33m(\u001b[0m\u001b[0mfile_tuple\u001b[0m\u001b[1;33m)\u001b[0m\u001b[1;33m\u001b[0m\u001b[0m\n\u001b[0m\u001b[0;32m     90\u001b[0m \u001b[1;33m\u001b[0m\u001b[0m\n\u001b[0;32m     91\u001b[0m     \u001b[1;32mdef\u001b[0m \u001b[0m_get_file_tuple\u001b[0m\u001b[1;33m(\u001b[0m\u001b[0mself\u001b[0m\u001b[1;33m,\u001b[0m \u001b[0mfiles\u001b[0m\u001b[1;33m)\u001b[0m\u001b[1;33m:\u001b[0m\u001b[1;33m\u001b[0m\u001b[0m\n",
      "\u001b[1;32mc:\\etienne\\dropbox\\code\\jagular\\jagular\\io.py\u001b[0m in \u001b[0;36madd_files\u001b[1;34m(self, *files)\u001b[0m\n\u001b[0;32m    133\u001b[0m         \u001b[1;32mfor\u001b[0m \u001b[0mfile\u001b[0m \u001b[1;32min\u001b[0m \u001b[0mfile_tuple\u001b[0m\u001b[1;33m:\u001b[0m\u001b[1;33m\u001b[0m\u001b[0m\n\u001b[0;32m    134\u001b[0m             \u001b[0mfirst_timestamp\u001b[0m\u001b[1;33m,\u001b[0m \u001b[0mlast_timestamp\u001b[0m\u001b[1;33m,\u001b[0m \u001b[0minfile\u001b[0m \u001b[1;33m=\u001b[0m \u001b[0mself\u001b[0m\u001b[1;33m.\u001b[0m\u001b[0m_sgrf\u001b[0m\u001b[1;33m.\u001b[0m\u001b[0mget_timestamp_bounds\u001b[0m\u001b[1;33m(\u001b[0m\u001b[0mfile\u001b[0m\u001b[1;33m)\u001b[0m\u001b[1;33m\u001b[0m\u001b[0m\n\u001b[1;32m--> 135\u001b[1;33m             \u001b[1;32massert\u001b[0m \u001b[0mfirst_timestamp\u001b[0m \u001b[1;33m<=\u001b[0m \u001b[0mlast_timestamp\u001b[0m\u001b[1;33m,\u001b[0m \u001b[1;34m\"first_timestamp > last_timestamp!\"\u001b[0m\u001b[1;33m\u001b[0m\u001b[0m\n\u001b[0m\u001b[0;32m    136\u001b[0m             \u001b[0mself\u001b[0m\u001b[1;33m.\u001b[0m\u001b[0m_ts_starts\u001b[0m\u001b[1;33m.\u001b[0m\u001b[0mappend\u001b[0m\u001b[1;33m(\u001b[0m\u001b[0mfirst_timestamp\u001b[0m\u001b[1;33m)\u001b[0m\u001b[1;33m\u001b[0m\u001b[0m\n\u001b[0;32m    137\u001b[0m             \u001b[0mself\u001b[0m\u001b[1;33m.\u001b[0m\u001b[0m_ts_stops\u001b[0m\u001b[1;33m.\u001b[0m\u001b[0mappend\u001b[0m\u001b[1;33m(\u001b[0m\u001b[0mlast_timestamp\u001b[0m\u001b[1;33m)\u001b[0m\u001b[1;33m\u001b[0m\u001b[0m\n",
      "\u001b[1;31mAssertionError\u001b[0m: first_timestamp > last_timestamp!"
     ]
    }
   ],
   "source": [
    "file_list = ['../sample_data/sample_data_1.rec',\n",
    "             '../sample_data/sample_data_3.rec',\n",
    "             '../sample_data/sample_data_4.rec',\n",
    "             '../sample_data/sample_data_5.rec',\n",
    "             '../sample_data/sample_data_2.rec'\n",
    "            ]\n",
    "\n",
    "jfm = jag.io.JagularFileMap(file_list)"
   ]
  },
  {
   "cell_type": "code",
   "execution_count": 11,
   "metadata": {},
   "outputs": [
    {
     "ename": "FileNotFoundError",
     "evalue": "[Errno 2] No such file or directory: '../sample_data/sample_data_6.rec'",
     "output_type": "error",
     "traceback": [
      "\u001b[1;31m---------------------------------------------------------------------------\u001b[0m",
      "\u001b[1;31mFileNotFoundError\u001b[0m                         Traceback (most recent call last)",
      "\u001b[1;32m<ipython-input-11-13a3fb0b42f1>\u001b[0m in \u001b[0;36m<module>\u001b[1;34m()\u001b[0m\n\u001b[1;32m----> 1\u001b[1;33m \u001b[0mjag\u001b[0m\u001b[1;33m.\u001b[0m\u001b[0mio\u001b[0m\u001b[1;33m.\u001b[0m\u001b[0mJagularFileMap\u001b[0m\u001b[1;33m(\u001b[0m\u001b[1;34m'../sample_data/sample_data_6.rec'\u001b[0m\u001b[1;33m)\u001b[0m\u001b[1;33m\u001b[0m\u001b[0m\n\u001b[0m",
      "\u001b[1;32mc:\\etienne\\dropbox\\code\\jagular\\jagular\\io.py\u001b[0m in \u001b[0;36m__init__\u001b[1;34m(self, *files, **kwargs)\u001b[0m\n\u001b[0;32m     87\u001b[0m         \u001b[0mfile_tuple\u001b[0m \u001b[1;33m=\u001b[0m \u001b[0mself\u001b[0m\u001b[1;33m.\u001b[0m\u001b[0m_get_file_tuple\u001b[0m\u001b[1;33m(\u001b[0m\u001b[0mfiles\u001b[0m\u001b[1;33m)\u001b[0m\u001b[1;33m\u001b[0m\u001b[0m\n\u001b[0;32m     88\u001b[0m         \u001b[1;32mif\u001b[0m \u001b[0mfile_tuple\u001b[0m\u001b[1;33m:\u001b[0m\u001b[1;33m\u001b[0m\u001b[0m\n\u001b[1;32m---> 89\u001b[1;33m             \u001b[0mself\u001b[0m\u001b[1;33m.\u001b[0m\u001b[0madd_files\u001b[0m\u001b[1;33m(\u001b[0m\u001b[0mfile_tuple\u001b[0m\u001b[1;33m)\u001b[0m\u001b[1;33m\u001b[0m\u001b[0m\n\u001b[0m\u001b[0;32m     90\u001b[0m \u001b[1;33m\u001b[0m\u001b[0m\n\u001b[0;32m     91\u001b[0m     \u001b[1;32mdef\u001b[0m \u001b[0m_get_file_tuple\u001b[0m\u001b[1;33m(\u001b[0m\u001b[0mself\u001b[0m\u001b[1;33m,\u001b[0m \u001b[0mfiles\u001b[0m\u001b[1;33m)\u001b[0m\u001b[1;33m:\u001b[0m\u001b[1;33m\u001b[0m\u001b[0m\n",
      "\u001b[1;32mc:\\etienne\\dropbox\\code\\jagular\\jagular\\io.py\u001b[0m in \u001b[0;36madd_files\u001b[1;34m(self, *files)\u001b[0m\n\u001b[0;32m    132\u001b[0m \u001b[1;33m\u001b[0m\u001b[0m\n\u001b[0;32m    133\u001b[0m         \u001b[1;32mfor\u001b[0m \u001b[0mfile\u001b[0m \u001b[1;32min\u001b[0m \u001b[0mfile_tuple\u001b[0m\u001b[1;33m:\u001b[0m\u001b[1;33m\u001b[0m\u001b[0m\n\u001b[1;32m--> 134\u001b[1;33m             \u001b[0mfirst_timestamp\u001b[0m\u001b[1;33m,\u001b[0m \u001b[0mlast_timestamp\u001b[0m\u001b[1;33m,\u001b[0m \u001b[0minfile\u001b[0m \u001b[1;33m=\u001b[0m \u001b[0mself\u001b[0m\u001b[1;33m.\u001b[0m\u001b[0m_sgrf\u001b[0m\u001b[1;33m.\u001b[0m\u001b[0mget_timestamp_bounds\u001b[0m\u001b[1;33m(\u001b[0m\u001b[0mfile\u001b[0m\u001b[1;33m)\u001b[0m\u001b[1;33m\u001b[0m\u001b[0m\n\u001b[0m\u001b[0;32m    135\u001b[0m             \u001b[1;32massert\u001b[0m \u001b[0mfirst_timestamp\u001b[0m \u001b[1;33m<=\u001b[0m \u001b[0mlast_timestamp\u001b[0m\u001b[1;33m,\u001b[0m \u001b[1;34m\"first_timestamp > last_timestamp!\"\u001b[0m\u001b[1;33m\u001b[0m\u001b[0m\n\u001b[0;32m    136\u001b[0m             \u001b[0mself\u001b[0m\u001b[1;33m.\u001b[0m\u001b[0m_ts_starts\u001b[0m\u001b[1;33m.\u001b[0m\u001b[0mappend\u001b[0m\u001b[1;33m(\u001b[0m\u001b[0mfirst_timestamp\u001b[0m\u001b[1;33m)\u001b[0m\u001b[1;33m\u001b[0m\u001b[0m\n",
      "\u001b[1;32mc:\\etienne\\dropbox\\code\\jagular\\jagular\\io.py\u001b[0m in \u001b[0;36mget_timestamp_bounds\u001b[1;34m(self, filename)\u001b[0m\n\u001b[0;32m     29\u001b[0m         \u001b[0mii\u001b[0m \u001b[1;33m=\u001b[0m \u001b[1;36m0\u001b[0m\u001b[1;33m\u001b[0m\u001b[0m\n\u001b[0;32m     30\u001b[0m         \u001b[1;31m# read .rec file embedded workspace and copy to a string\u001b[0m\u001b[1;33m\u001b[0m\u001b[1;33m\u001b[0m\u001b[0m\n\u001b[1;32m---> 31\u001b[1;33m         \u001b[1;32mwith\u001b[0m \u001b[0mopen\u001b[0m\u001b[1;33m(\u001b[0m\u001b[0mfilename\u001b[0m\u001b[1;33m,\u001b[0m \u001b[1;34m'rb'\u001b[0m\u001b[1;33m)\u001b[0m \u001b[1;32mas\u001b[0m \u001b[0minfile\u001b[0m\u001b[1;33m:\u001b[0m\u001b[1;33m\u001b[0m\u001b[0m\n\u001b[0m\u001b[0;32m     32\u001b[0m             \u001b[0minstr\u001b[0m \u001b[1;33m=\u001b[0m \u001b[0minfile\u001b[0m\u001b[1;33m.\u001b[0m\u001b[0mreadline\u001b[0m\u001b[1;33m(\u001b[0m\u001b[1;33m)\u001b[0m\u001b[1;33m\u001b[0m\u001b[0m\n\u001b[0;32m     33\u001b[0m             \u001b[1;32mwhile\u001b[0m\u001b[1;33m(\u001b[0m\u001b[0minstr\u001b[0m \u001b[1;33m!=\u001b[0m \u001b[1;34mb'</Configuration>\\n'\u001b[0m\u001b[1;33m)\u001b[0m\u001b[1;33m:\u001b[0m\u001b[1;33m\u001b[0m\u001b[0m\n",
      "\u001b[1;31mFileNotFoundError\u001b[0m: [Errno 2] No such file or directory: '../sample_data/sample_data_6.rec'"
     ]
    }
   ],
   "source": [
    "jag.io.JagularFileMap('../sample_data/sample_data_6.rec')"
   ]
  },
  {
   "cell_type": "code",
   "execution_count": 8,
   "metadata": {},
   "outputs": [
    {
     "data": {
      "text/plain": [
       "array([[ 125149761,  125149771],\n",
       "       [4031182210, 4027970967],\n",
       "       [4159699373, 4159109633],\n",
       "       [4165344798, 4163313127],\n",
       "       [4220446420, 4222215967]], dtype=int64)"
      ]
     },
     "execution_count": 8,
     "metadata": {},
     "output_type": "execute_result"
    }
   ],
   "source": [
    "jfm.timestamps"
   ]
  },
  {
   "cell_type": "code",
   "execution_count": 7,
   "metadata": {},
   "outputs": [
    {
     "ename": "ValueError",
     "evalue": "start must be less than or equal to stop",
     "output_type": "error",
     "traceback": [
      "\u001b[1;31m---------------------------------------------------------------------------\u001b[0m",
      "\u001b[1;31mValueError\u001b[0m                                Traceback (most recent call last)",
      "\u001b[1;32m<ipython-input-7-79e3c5189aed>\u001b[0m in \u001b[0;36m<module>\u001b[1;34m()\u001b[0m\n\u001b[1;32m----> 1\u001b[1;33m \u001b[0mnpl\u001b[0m\u001b[1;33m.\u001b[0m\u001b[0mepochplot\u001b[0m\u001b[1;33m(\u001b[0m\u001b[0mnel\u001b[0m\u001b[1;33m.\u001b[0m\u001b[0mEpochArray\u001b[0m\u001b[1;33m(\u001b[0m\u001b[0mjfm\u001b[0m\u001b[1;33m.\u001b[0m\u001b[0mtimestamps\u001b[0m\u001b[1;33m)\u001b[0m\u001b[1;33m)\u001b[0m\u001b[1;33m\u001b[0m\u001b[0m\n\u001b[0m",
      "\u001b[1;32mc:\\etienne\\dropbox\\code\\nelpy\\nelpy\\core\\_epocharray.py\u001b[0m in \u001b[0;36m__init__\u001b[1;34m(self, time, duration, meta, empty, domain, label)\u001b[0m\n\u001b[0;32m    137\u001b[0m \u001b[1;33m\u001b[0m\u001b[0m\n\u001b[0;32m    138\u001b[0m         \u001b[1;32mif\u001b[0m \u001b[0mtime\u001b[0m\u001b[1;33m.\u001b[0m\u001b[0mndim\u001b[0m \u001b[1;33m==\u001b[0m \u001b[1;36m2\u001b[0m \u001b[1;32mand\u001b[0m \u001b[0mnp\u001b[0m\u001b[1;33m.\u001b[0m\u001b[0many\u001b[0m\u001b[1;33m(\u001b[0m\u001b[0mtime\u001b[0m\u001b[1;33m[\u001b[0m\u001b[1;33m:\u001b[0m\u001b[1;33m,\u001b[0m \u001b[1;36m1\u001b[0m\u001b[1;33m]\u001b[0m \u001b[1;33m-\u001b[0m \u001b[0mtime\u001b[0m\u001b[1;33m[\u001b[0m\u001b[1;33m:\u001b[0m\u001b[1;33m,\u001b[0m \u001b[1;36m0\u001b[0m\u001b[1;33m]\u001b[0m \u001b[1;33m<\u001b[0m \u001b[1;36m0\u001b[0m\u001b[1;33m)\u001b[0m\u001b[1;33m:\u001b[0m\u001b[1;33m\u001b[0m\u001b[0m\n\u001b[1;32m--> 139\u001b[1;33m             \u001b[1;32mraise\u001b[0m \u001b[0mValueError\u001b[0m\u001b[1;33m(\u001b[0m\u001b[1;34m\"start must be less than or equal to stop\"\u001b[0m\u001b[1;33m)\u001b[0m\u001b[1;33m\u001b[0m\u001b[0m\n\u001b[0m\u001b[0;32m    140\u001b[0m \u001b[1;33m\u001b[0m\u001b[0m\n\u001b[0;32m    141\u001b[0m         \u001b[1;31m# potentially assign domain\u001b[0m\u001b[1;33m\u001b[0m\u001b[1;33m\u001b[0m\u001b[0m\n",
      "\u001b[1;31mValueError\u001b[0m: start must be less than or equal to stop"
     ]
    }
   ],
   "source": [
    "npl.epochplot(nel.EpochArray(jfm.timestamps))"
   ]
  },
  {
   "cell_type": "code",
   "execution_count": 6,
   "metadata": {},
   "outputs": [
    {
     "ename": "ValueError",
     "evalue": "start time has to be less or equal to stop time!",
     "output_type": "error",
     "traceback": [
      "\u001b[1;31m---------------------------------------------------------------------------\u001b[0m",
      "\u001b[1;31mValueError\u001b[0m                                Traceback (most recent call last)",
      "\u001b[1;32m<ipython-input-6-9bf27977ce95>\u001b[0m in \u001b[0;36m<module>\u001b[1;34m()\u001b[0m\n\u001b[1;32m----> 1\u001b[1;33m \u001b[0mjfm\u001b[0m\u001b[1;33m.\u001b[0m\u001b[0m_check_bounds\u001b[0m\u001b[1;33m(\u001b[0m\u001b[1;36m1000000000\u001b[0m\u001b[1;33m,\u001b[0m \u001b[1;36m100000000\u001b[0m \u001b[1;33m)\u001b[0m\u001b[1;33m\u001b[0m\u001b[0m\n\u001b[0m",
      "\u001b[1;32mc:\\etienne\\dropbox\\code\\jagular\\jagular\\io.py\u001b[0m in \u001b[0;36m_check_bounds\u001b[1;34m(self, start, stop)\u001b[0m\n\u001b[0;32m    206\u001b[0m         \u001b[1;34m\"\"\"Check that [start, stop] is fully contained (inclusive) of [self.start, self.stop]\"\"\"\u001b[0m\u001b[1;33m\u001b[0m\u001b[0m\n\u001b[0;32m    207\u001b[0m         \u001b[1;32mif\u001b[0m \u001b[0mstop\u001b[0m \u001b[1;33m<\u001b[0m \u001b[0mstart\u001b[0m\u001b[1;33m:\u001b[0m\u001b[1;33m\u001b[0m\u001b[0m\n\u001b[1;32m--> 208\u001b[1;33m             \u001b[1;32mraise\u001b[0m \u001b[0mValueError\u001b[0m\u001b[1;33m(\u001b[0m\u001b[1;34m\"start time has to be less or equal to stop time!\"\u001b[0m\u001b[1;33m)\u001b[0m\u001b[1;33m\u001b[0m\u001b[0m\n\u001b[0m\u001b[0;32m    209\u001b[0m         \u001b[1;32mif\u001b[0m \u001b[0mstart\u001b[0m \u001b[1;33m<\u001b[0m \u001b[0mself\u001b[0m\u001b[1;33m.\u001b[0m\u001b[0mstart\u001b[0m\u001b[1;33m:\u001b[0m\u001b[1;33m\u001b[0m\u001b[0m\n\u001b[0;32m    210\u001b[0m             \u001b[1;32mraise\u001b[0m \u001b[0mValueError\u001b[0m\u001b[1;33m(\u001b[0m\u001b[1;34m\"requested start time is earlier than first avaialbe timestamp (={})!\"\u001b[0m\u001b[1;33m.\u001b[0m\u001b[0mformat\u001b[0m\u001b[1;33m(\u001b[0m\u001b[0mself\u001b[0m\u001b[1;33m.\u001b[0m\u001b[0mstart\u001b[0m\u001b[1;33m)\u001b[0m\u001b[1;33m)\u001b[0m\u001b[1;33m\u001b[0m\u001b[0m\n",
      "\u001b[1;31mValueError\u001b[0m: start time has to be less or equal to stop time!"
     ]
    }
   ],
   "source": [
    "jfm._check_bounds(1000000000, 100000000 )"
   ]
  },
  {
   "cell_type": "code",
   "execution_count": 209,
   "metadata": {},
   "outputs": [
    {
     "data": {
      "text/plain": [
       "[6419723,\n",
       " 9785285,\n",
       " 19614971,\n",
       " 20535829,\n",
       " 21405531,\n",
       " 27585634,\n",
       " 53854628,\n",
       " 54017239,\n",
       " 55093314,\n",
       " 56757623,\n",
       " 74642896]"
      ]
     },
     "execution_count": 209,
     "metadata": {},
     "output_type": "execute_result"
    }
   ],
   "source": [
    "Nfiles = 10\n",
    "ts_starts = np.random.randint(0, high=90000000, size=Nfiles+1)\n",
    "# ts_starts.sort()\n",
    "new_order = sorted(range(len(ts_starts)), key=lambda k: ts_starts[k])\n",
    "ll = ts_starts[new_order].tolist()\n",
    "ll"
   ]
  },
  {
   "cell_type": "code",
   "execution_count": 45,
   "metadata": {},
   "outputs": [
    {
     "data": {
      "text/plain": [
       "<matplotlib.axes._subplots.AxesSubplot at 0x28fe703e908>"
      ]
     },
     "execution_count": 45,
     "metadata": {},
     "output_type": "execute_result"
    },
    {
     "data": {
      "image/png": "[encoded data removed]",
      "text/plain": [
       "<matplotlib.figure.Figure at 0x28fe6d3d668>"
      ]
     },
     "metadata": {},
     "output_type": "display_data"
    }
   ],
   "source": [
    "# make artificial timestamp boundaries\n",
    "Nfiles = 10\n",
    "ts_starts = np.random.randint(0, high=90000000, size=Nfiles+1)\n",
    "ts_starts.sort()\n",
    "ts_stops = np.zeros(ts_starts.shape)\n",
    "for ii, ts in enumerate(ts_starts[:-1]):\n",
    "    ts_stops[ii] = ts_starts[ii] + np.random.randint(ts_starts[ii+1] - ts_starts[ii])\n",
    "ts_starts = ts_starts[:-1]\n",
    "ts_stops = ts_stops[:-1]\n",
    "ts = np.vstack((ts_starts, ts_stops)).T\n",
    "\n",
    "npl.epochplot(nel.EpochArray(ts))"
   ]
  },
  {
   "cell_type": "code",
   "execution_count": null,
   "metadata": {
    "collapsed": true
   },
   "outputs": [],
   "source": [
    "def which_files(ts_start, ts_stop, filemap):\n",
    "    "
   ]
  },
  {
   "cell_type": "code",
   "execution_count": 1,
   "metadata": {
    "collapsed": true
   },
   "outputs": [],
   "source": [
    "filemap = {}\n",
    "filemap[10488726] = ('file1', 20488726)"
   ]
  },
  {
   "cell_type": "code",
   "execution_count": 317,
   "metadata": {},
   "outputs": [],
   "source": [
    "import os\n",
    "import xml.etree.ElementTree as ET\n",
    "import struct\n",
    "\n",
    "class FileInfo():\n",
    " \n",
    "    def __init__(self, *, start_byte_size=None, timestamp_size=None, bytes_per_neural_channel=None, header_size=None):\n",
    "        # set defaults:\n",
    "        if start_byte_size is None:\n",
    "            start_byte_size = 1\n",
    "        if timestamp_size is None:\n",
    "            timestamp_size = 4\n",
    "        if bytes_per_neural_channel is None:\n",
    "            bytes_per_neural_channel = 2\n",
    "        if header_size is None:\n",
    "            header_size = start_byte_size\n",
    "            \n",
    "        self.start_byte_size = start_byte_size\n",
    "        self.timestamp_size = timestamp_size\n",
    "        self.bytes_per_neural_channel = bytes_per_neural_channel\n",
    "        # minimum size of any packet\n",
    "        self.header_size = header_size\n",
    "\n",
    "    def get_timestamp_bounds(self, filename):\n",
    "        #TODO: JOSH LET'S FIX THIS!!!\n",
    "        self.header_size = 1\n",
    "        ii = 0\n",
    "        # read .rec file embedded workspace and copy to a string\n",
    "        with open(filename, 'rb') as infile:\n",
    "            instr = infile.readline()\n",
    "            while(instr != b'</Configuration>\\n'):\n",
    "                instr = infile.readline()\n",
    "                ii += 1\n",
    "                # infinite loop protection\n",
    "                if ii > 1000:\n",
    "                    print(\"Configuration info not found - check input file\")\n",
    "                    break\n",
    "            config_section_size = infile.tell()\n",
    "            infile.seek(0, os.SEEK_SET)\n",
    "            xmlstring = infile.read(config_section_size)\n",
    "\n",
    "            # create xml tree from copied embedded workspace string\n",
    "            tree = ET.ElementTree(ET.fromstring(xmlstring))\n",
    "            root = tree.getroot()\n",
    "            hw_config = root.find(\"HardwareConfiguration\")\n",
    "        \n",
    "            # calculate packet size\n",
    "            if hw_config is None:\n",
    "                print(\"No hardware configuration defined!\")\n",
    "            self.neural_data_size = int(hw_config.get(\"numChannels\"))*self.bytes_per_neural_channel\n",
    "            for elements in hw_config.getchildren():\n",
    "                self.header_size += int(elements.get(\"numBytes\"))\n",
    "    \n",
    "            # every packet needs a timestamp\n",
    "            self.packet_size = self.header_size + self.timestamp_size + self.neural_data_size\n",
    "            \n",
    "            # find first and last timestamps of file\n",
    "            infile.seek(config_section_size, os.SEEK_SET)\n",
    "            packet = infile.read(self.packet_size)\n",
    "            timestamp_start = self.header_size\n",
    "            # <I format - assumes that the timestamp is an uint32\n",
    "            first_timestamp = struct.unpack('<I', packet[timestamp_start:timestamp_start + self.timestamp_size])[0]\n",
    "            infile.seek(-self.packet_size, os.SEEK_END)\n",
    "            packet = infile.read(self.packet_size)\n",
    "            last_timestamp = struct.unpack('<I', packet[timestamp_start:timestamp_start + self.timestamp_size])[0]\n",
    "        \n",
    "        return (first_timestamp, last_timestamp, filename)        \n"
   ]
  },
  {
   "cell_type": "code",
   "execution_count": 324,
   "metadata": {},
   "outputs": [],
   "source": [
    "class JagularFileMap(object):\n",
    "    \n",
    "    def __init__(self, *files, **kwargs):\n",
    "        self.file_list = None\n",
    "        self._ts_starts = []\n",
    "        self._ts_stops = []\n",
    "        \n",
    "        kwargs['start_byte_size'] = kwargs.get('start_byte_size', None)\n",
    "        kwargs['timestamp_size'] = kwargs.get('timestamp_size', None)\n",
    "        kwargs['bytes_per_neural_channel'] = kwargs.get('bytes_per_neural_channel', None)\n",
    "        kwargs['header_size'] = kwargs.get('header_size', None)\n",
    "        \n",
    "        self._fi = FileInfo(**kwargs)\n",
    "        \n",
    "        file_tuple = self._get_file_tuple(files)\n",
    "        if file_tuple:\n",
    "            self.add_files(file_tuple)\n",
    "        \n",
    "    def _get_file_tuple(self, files):\n",
    "        \"\"\"'files' can be a list, tuple, or multiple arguments; returns a tuple.\"\"\"\n",
    "        try:\n",
    "            if isinstance(files[0], (tuple, list)):\n",
    "                files = files[0]\n",
    "            return tuple(files)\n",
    "        except IndexError:\n",
    "            return ()\n",
    "    \n",
    "    def __repr__(self):\n",
    "        address_str = \" at \" + str(hex(id(self)))\n",
    "        return \"<JagularFileMap>%s\" % (address_str)\n",
    "    \n",
    "    def __pairwise(self, iterable):\n",
    "        \"\"\"returns a zip of all neighboring pairs.\n",
    "        This is used as a helper function for is_sorted.\n",
    "\n",
    "        Example\n",
    "        -------\n",
    "        >>> mylist = [2, 3, 6, 8, 7]\n",
    "        >>> list(pairwise(mylist))\n",
    "        [(2, 3), (3, 6), (6, 8), (8, 7)]\n",
    "        \"\"\"\n",
    "        from itertools import tee\n",
    "        \n",
    "        a, b = tee(iterable)\n",
    "        next(b, None)\n",
    "        return zip(a, b)\n",
    "\n",
    "    def __is_sorted(self, iterable, key=lambda a, b: a <= b):\n",
    "        \"\"\"Check to see if iterable is monotonic increasing (sorted).\"\"\"\n",
    "        return all(key(a, b) for a, b in self.__pairwise(iterable))\n",
    "    \n",
    "    def add_files(self, *files):\n",
    "        \"\"\"Add files to internal list, and populate time boundaries.\"\"\"\n",
    "        # here we will read the files to extract first and last timestamps,\n",
    "        # and we will update (not replace!) the internal list of files and\n",
    "        # timestamps\n",
    "        \n",
    "        #TODO: check if value already exists, and warn user and take appropriate action\n",
    "        file_tuple = self._get_file_tuple(files)\n",
    "        \n",
    "        for file in file_tuple:\n",
    "            first_timestamp, last_timestamp, infile = self._fi.get_timestamp_bounds(file)\n",
    "            self._ts_starts.append(first_timestamp)\n",
    "            self._ts_stops.append(last_timestamp)\n",
    "            if self.file_list:\n",
    "                self.file_list.append(file)\n",
    "            else:\n",
    "                self.file_list = []\n",
    "                self.file_list.append(file)\n",
    "                \n",
    "        print(self._ts_starts)\n",
    "            \n",
    "        if not self.issorted:\n",
    "            self._sort()\n",
    "            \n",
    "    def _sort(self):\n",
    "        \"\"\"Sort filenames, and timestamps according to starting timestamps.\"\"\"\n",
    "        new_order = sorted(range(len(self._ts_starts)), key=lambda k: self._ts_starts[k])\n",
    "        self._ts_starts = np.array(self._ts_starts)[new_order].tolist()\n",
    "        self._ts_stops = np.array(self._ts_stops)[new_order].tolist()\n",
    "        self.file_list = np.array(self.file_list)[new_order].tolist()\n",
    "            \n",
    "    @property\n",
    "    def timestamps(self):\n",
    "        \"\"\"Timestamps array with size (n_files, 2), with each row as (start, stop).\"\"\"\n",
    "        return np.vstack((self._ts_starts, self._ts_stops)).T\n",
    "    \n",
    "    @property\n",
    "    def issorted(self):\n",
    "        \"\"\"Returns True if timestamps are monotonically increasing.\"\"\"\n",
    "        return self.__is_sorted(self._ts_starts)\n",
    "        \n",
    "    @property\n",
    "    def isempty(self):\n",
    "        \"\"\"(bool) Empty JagularFileMap.\"\"\"\n",
    "        try:\n",
    "            if len(self.file_list) > 0:\n",
    "                return False\n",
    "            else:\n",
    "                return True\n",
    "        except TypeError: # file_list is None\n",
    "            return True\n",
    "    \n",
    "    @property\n",
    "    def start(self):\n",
    "        \"\"\"First timestamp in JagularFileMap.\"\"\"\n",
    "        if not self.isempty:\n",
    "            return self.timestamps[0,0]\n",
    "        else:\n",
    "            return np.inf\n",
    "        \n",
    "    @property\n",
    "    def stop(self):\n",
    "        \"\"\"Last timestamp in JagularFileMap.\"\"\"\n",
    "        if not self.isempty:\n",
    "            return self.timestamps[-1,1]\n",
    "        else:\n",
    "            return -np.inf\n",
    "        \n",
    "    @property\n",
    "    def duration_w_gaps(self):\n",
    "        \"\"\"Total duration (in number of samples) mapped by file objects, including potential gaps.\"\"\"\n",
    "        if self.isempty:\n",
    "            return 0\n",
    "        else:\n",
    "            return self.stop - self.start\n",
    "        \n",
    "    @property\n",
    "    def duration_wo_gaps(self):\n",
    "        \"\"\"Total duration (in number of samples) mapped by file objects, excluding inter-file gaps.\n",
    "        NOTE: intra-file gaps are not taken into account here, but should be relatively small.\n",
    "        \"\"\"\n",
    "        raise NotImplementedError(\"not yet implemebted!\")\n",
    "            \n",
    "    def _check_bounds(self, start, stop):\n",
    "        \"\"\"Check that [start, stop] is fully contained (inclusive) of [self.start, self.stop]\"\"\"\n",
    "        if start < self.start:\n",
    "            raise ValueError(\"requested start time is earlier than first avaialbe timestamp (={})!\".format(self.start))\n",
    "        if stop > self.stop:\n",
    "            raise ValueError(\"requested stop time is later than last avaialbe timestamp (={})!\".format(self.stop))\n",
    "        return True"
   ]
  },
  {
   "cell_type": "code",
   "execution_count": 330,
   "metadata": {},
   "outputs": [],
   "source": [
    "file_list = ['../sample_data/sample_data_1.rec',\n",
    "             '../sample_data/sample_data_3.rec',\n",
    "             '../sample_data/sample_data_4.rec',\n",
    "             '../sample_data/sample_data_5.rec',\n",
    "             '../sample_data/sample_data_2.rec'\n",
    "            ]"
   ]
  },
  {
   "cell_type": "code",
   "execution_count": 331,
   "metadata": {},
   "outputs": [
    {
     "name": "stdout",
     "output_type": "stream",
     "text": [
      "[4220446420]\n"
     ]
    },
    {
     "data": {
      "text/plain": [
       "array([[4220446420, 4222215967]], dtype=int64)"
      ]
     },
     "execution_count": 331,
     "metadata": {},
     "output_type": "execute_result"
    }
   ],
   "source": [
    "jfm = JagularFileMap('../sample_data/sample_data_3.rec')\n",
    "\n",
    "jfm.timestamps"
   ]
  },
  {
   "cell_type": "code",
   "execution_count": 332,
   "metadata": {},
   "outputs": [
    {
     "name": "stdout",
     "output_type": "stream",
     "text": [
      "[125149761, 4220446420, 4031182210, 4159699373, 4165344798]\n"
     ]
    },
    {
     "data": {
      "text/plain": [
       "[125149761, 4031182210, 4159699373, 4165344798, 4220446420]"
      ]
     },
     "execution_count": 332,
     "metadata": {},
     "output_type": "execute_result"
    }
   ],
   "source": [
    "jfm = JagularFileMap(file_list)\n",
    "\n",
    "jfm._ts_starts"
   ]
  },
  {
   "cell_type": "code",
   "execution_count": 333,
   "metadata": {},
   "outputs": [
    {
     "data": {
      "text/plain": [
       "array([[ 125149761,  125149771],\n",
       "       [4031182210, 4027970967],\n",
       "       [4159699373, 4159109633],\n",
       "       [4165344798, 4163313127],\n",
       "       [4220446420, 4222215967]], dtype=int64)"
      ]
     },
     "execution_count": 333,
     "metadata": {},
     "output_type": "execute_result"
    }
   ],
   "source": [
    "jfm.timestamps"
   ]
  },
  {
   "cell_type": "code",
   "execution_count": 334,
   "metadata": {},
   "outputs": [
    {
     "data": {
      "text/plain": [
       "['../sample_data/sample_data_1.rec',\n",
       " '../sample_data/sample_data_4.rec',\n",
       " '../sample_data/sample_data_5.rec',\n",
       " '../sample_data/sample_data_2.rec',\n",
       " '../sample_data/sample_data_3.rec']"
      ]
     },
     "execution_count": 334,
     "metadata": {},
     "output_type": "execute_result"
    }
   ],
   "source": [
    "jfm.file_list"
   ]
  },
  {
   "cell_type": "code",
   "execution_count": null,
   "metadata": {
    "collapsed": true
   },
   "outputs": [],
   "source": []
  },
  {
   "cell_type": "code",
   "execution_count": null,
   "metadata": {
    "collapsed": true
   },
   "outputs": [],
   "source": []
  },
  {
   "cell_type": "code",
   "execution_count": null,
   "metadata": {
    "collapsed": true
   },
   "outputs": [],
   "source": []
  },
  {
   "cell_type": "code",
   "execution_count": 246,
   "metadata": {},
   "outputs": [
    {
     "name": "stdout",
     "output_type": "stream",
     "text": [
      "call Josh's get_timestamp_bounds on 'file1'\n",
      "...updating internal table with filenames and timestamps\n"
     ]
    },
    {
     "ename": "FileNotFoundError",
     "evalue": "[Errno 2] No such file or directory: 'file1'",
     "output_type": "error",
     "traceback": [
      "\u001b[1;31m---------------------------------------------------------------------------\u001b[0m",
      "\u001b[1;31mFileNotFoundError\u001b[0m                         Traceback (most recent call last)",
      "\u001b[1;32m<ipython-input-246-5d9474413cc4>\u001b[0m in \u001b[0;36m<module>\u001b[1;34m()\u001b[0m\n\u001b[1;32m----> 1\u001b[1;33m \u001b[0mjfm\u001b[0m \u001b[1;33m=\u001b[0m \u001b[0mJagularFileMap\u001b[0m\u001b[1;33m(\u001b[0m\u001b[1;34m'file1'\u001b[0m\u001b[1;33m,\u001b[0m \u001b[1;34m'file2'\u001b[0m\u001b[1;33m)\u001b[0m\u001b[1;33m\u001b[0m\u001b[0m\n\u001b[0m\u001b[0;32m      2\u001b[0m \u001b[0mjfm\u001b[0m \u001b[1;33m=\u001b[0m \u001b[0mJagularFileMap\u001b[0m\u001b[1;33m(\u001b[0m\u001b[0mL\u001b[0m\u001b[1;33m)\u001b[0m\u001b[1;33m\u001b[0m\u001b[0m\n\u001b[0;32m      3\u001b[0m \u001b[0mjfm\u001b[0m \u001b[1;33m=\u001b[0m \u001b[0mJagularFileMap\u001b[0m\u001b[1;33m(\u001b[0m\u001b[1;33m)\u001b[0m\u001b[1;33m\u001b[0m\u001b[0m\n\u001b[0;32m      4\u001b[0m \u001b[1;33m\u001b[0m\u001b[0m\n\u001b[0;32m      5\u001b[0m \u001b[0mjfm\u001b[0m\u001b[1;33m.\u001b[0m\u001b[0madd_files\u001b[0m\u001b[1;33m(\u001b[0m\u001b[1;33m(\u001b[0m\u001b[1;34m'file1'\u001b[0m\u001b[1;33m,\u001b[0m \u001b[1;34m'file2'\u001b[0m\u001b[1;33m,\u001b[0m \u001b[1;34m'file3'\u001b[0m\u001b[1;33m)\u001b[0m\u001b[1;33m)\u001b[0m\u001b[1;33m\u001b[0m\u001b[0m\n",
      "\u001b[1;32m<ipython-input-243-9de3b59ab1a3>\u001b[0m in \u001b[0;36m__init__\u001b[1;34m(self, *files, **kwargs)\u001b[0m\n\u001b[0;32m     15\u001b[0m         \u001b[0mfile_tuple\u001b[0m \u001b[1;33m=\u001b[0m \u001b[0mself\u001b[0m\u001b[1;33m.\u001b[0m\u001b[0m_get_file_tuple\u001b[0m\u001b[1;33m(\u001b[0m\u001b[0mfiles\u001b[0m\u001b[1;33m)\u001b[0m\u001b[1;33m\u001b[0m\u001b[0m\n\u001b[0;32m     16\u001b[0m         \u001b[1;32mif\u001b[0m \u001b[0mfile_tuple\u001b[0m\u001b[1;33m:\u001b[0m\u001b[1;33m\u001b[0m\u001b[0m\n\u001b[1;32m---> 17\u001b[1;33m             \u001b[0mself\u001b[0m\u001b[1;33m.\u001b[0m\u001b[0madd_files\u001b[0m\u001b[1;33m(\u001b[0m\u001b[0mfile_tuple\u001b[0m\u001b[1;33m)\u001b[0m\u001b[1;33m\u001b[0m\u001b[0m\n\u001b[0m\u001b[0;32m     18\u001b[0m \u001b[1;33m\u001b[0m\u001b[0m\n\u001b[0;32m     19\u001b[0m     \u001b[1;32mdef\u001b[0m \u001b[0m_get_file_tuple\u001b[0m\u001b[1;33m(\u001b[0m\u001b[0mself\u001b[0m\u001b[1;33m,\u001b[0m \u001b[0mfiles\u001b[0m\u001b[1;33m)\u001b[0m\u001b[1;33m:\u001b[0m\u001b[1;33m\u001b[0m\u001b[0m\n",
      "\u001b[1;32m<ipython-input-243-9de3b59ab1a3>\u001b[0m in \u001b[0;36madd_files\u001b[1;34m(self, *files)\u001b[0m\n\u001b[0;32m     60\u001b[0m             \u001b[0mprint\u001b[0m\u001b[1;33m(\u001b[0m\u001b[1;34m\"call Josh's get_timestamp_bounds on '{}'\"\u001b[0m\u001b[1;33m.\u001b[0m\u001b[0mformat\u001b[0m\u001b[1;33m(\u001b[0m\u001b[0mfile\u001b[0m\u001b[1;33m)\u001b[0m\u001b[1;33m)\u001b[0m\u001b[1;33m\u001b[0m\u001b[0m\n\u001b[0;32m     61\u001b[0m             \u001b[0mprint\u001b[0m\u001b[1;33m(\u001b[0m\u001b[1;34m\"...updating internal table with filenames and timestamps\"\u001b[0m\u001b[1;33m)\u001b[0m\u001b[1;33m\u001b[0m\u001b[0m\n\u001b[1;32m---> 62\u001b[1;33m             \u001b[0mfirst_timestamp\u001b[0m\u001b[1;33m,\u001b[0m \u001b[0mlast_timestamp\u001b[0m\u001b[1;33m,\u001b[0m \u001b[0minfile\u001b[0m \u001b[1;33m=\u001b[0m \u001b[0mself\u001b[0m\u001b[1;33m.\u001b[0m\u001b[0m_fi\u001b[0m\u001b[1;33m.\u001b[0m\u001b[0mget_timestamp_bounds\u001b[0m\u001b[1;33m(\u001b[0m\u001b[0mfile\u001b[0m\u001b[1;33m)\u001b[0m\u001b[1;33m\u001b[0m\u001b[0m\n\u001b[0m\u001b[0;32m     63\u001b[0m             \u001b[0mself\u001b[0m\u001b[1;33m.\u001b[0m\u001b[0m_ts_starts\u001b[0m\u001b[1;33m.\u001b[0m\u001b[0mappend\u001b[0m\u001b[1;33m(\u001b[0m\u001b[0mfirst_timestamp\u001b[0m\u001b[1;33m)\u001b[0m\u001b[1;33m\u001b[0m\u001b[0m\n\u001b[0;32m     64\u001b[0m             \u001b[0mself\u001b[0m\u001b[1;33m.\u001b[0m\u001b[0m_ts_stops\u001b[0m\u001b[1;33m.\u001b[0m\u001b[0mappend\u001b[0m\u001b[1;33m(\u001b[0m\u001b[0mlast_timestamp\u001b[0m\u001b[1;33m)\u001b[0m\u001b[1;33m\u001b[0m\u001b[0m\n",
      "\u001b[1;32m<ipython-input-227-8a265bca28ef>\u001b[0m in \u001b[0;36mget_timestamp_bounds\u001b[1;34m(self, filename)\u001b[0m\n\u001b[0;32m     25\u001b[0m         \u001b[0mii\u001b[0m \u001b[1;33m=\u001b[0m \u001b[1;36m0\u001b[0m\u001b[1;33m\u001b[0m\u001b[0m\n\u001b[0;32m     26\u001b[0m         \u001b[1;31m# read .rec file embedded workspace and copy to a string\u001b[0m\u001b[1;33m\u001b[0m\u001b[1;33m\u001b[0m\u001b[0m\n\u001b[1;32m---> 27\u001b[1;33m         \u001b[1;32mwith\u001b[0m \u001b[0mopen\u001b[0m\u001b[1;33m(\u001b[0m\u001b[0mfilename\u001b[0m\u001b[1;33m,\u001b[0m \u001b[1;34m'rb'\u001b[0m\u001b[1;33m)\u001b[0m \u001b[1;32mas\u001b[0m \u001b[0minfile\u001b[0m\u001b[1;33m:\u001b[0m\u001b[1;33m\u001b[0m\u001b[0m\n\u001b[0m\u001b[0;32m     28\u001b[0m             \u001b[0minstr\u001b[0m \u001b[1;33m=\u001b[0m \u001b[0minfile\u001b[0m\u001b[1;33m.\u001b[0m\u001b[0mreadline\u001b[0m\u001b[1;33m(\u001b[0m\u001b[1;33m)\u001b[0m\u001b[1;33m\u001b[0m\u001b[0m\n\u001b[0;32m     29\u001b[0m             \u001b[1;32mwhile\u001b[0m\u001b[1;33m(\u001b[0m\u001b[0minstr\u001b[0m \u001b[1;33m!=\u001b[0m \u001b[1;34mb'</Configuration>\\n'\u001b[0m\u001b[1;33m)\u001b[0m\u001b[1;33m:\u001b[0m\u001b[1;33m\u001b[0m\u001b[0m\n",
      "\u001b[1;31mFileNotFoundError\u001b[0m: [Errno 2] No such file or directory: 'file1'"
     ]
    }
   ],
   "source": [
    "jfm = JagularFileMap('file1', 'file2')\n",
    "jfm = JagularFileMap(L)\n",
    "jfm = JagularFileMap()\n",
    "\n",
    "jfm.add_files(('file1', 'file2', 'file3'))\n",
    "\n",
    "jfm._check_bounds(5,6)"
   ]
  },
  {
   "cell_type": "code",
   "execution_count": 40,
   "metadata": {},
   "outputs": [],
   "source": [
    "import numpy as np\n",
    "import matplotlib as mpl\n",
    "import matplotlib.pyplot as plt\n",
    "\n",
    "import nelpy as nel\n",
    "import nelpy.plotting as npl\n",
    "\n",
    "%matplotlib inline"
   ]
  },
  {
   "cell_type": "code",
   "execution_count": 41,
   "metadata": {},
   "outputs": [
    {
     "data": {
      "text/plain": [
       "<matplotlib.axes._subplots.AxesSubplot at 0x28fe6d38cc0>"
      ]
     },
     "execution_count": 41,
     "metadata": {},
     "output_type": "execute_result"
    },
    {
     "data": {
      "image/png": "[encoded data removed]",
      "text/plain": [
       "<matplotlib.figure.Figure at 0x28fe6cfe748>"
      ]
     },
     "metadata": {},
     "output_type": "display_data"
    }
   ],
   "source": []
  }
 ],
 "metadata": {
  "anaconda-cloud": {},
  "kernelspec": {
   "display_name": "Python [default]",
   "language": "python",
   "name": "python3"
  },
  "language_info": {
   "codemirror_mode": {
    "name": "ipython",
    "version": 3
   },
   "file_extension": ".py",
   "mimetype": "text/x-python",
   "name": "python",
   "nbconvert_exporter": "python",
   "pygments_lexer": "ipython3",
   "version": "3.5.3"
  }
 },
 "nbformat": 4,
 "nbformat_minor": 2
}
