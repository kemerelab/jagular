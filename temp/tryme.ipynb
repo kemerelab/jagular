{
 "cells": [
  {
   "cell_type": "markdown",
   "metadata": {},
   "source": [
    "## TODO:\n",
    "\n",
    "1. incorporate `PrettyDuration` into `JagularFileMap` and update `__repr__`\n",
    "1. split out `pairwise` and `is_sorted` to `utils`\n",
    "1. fix issue of `header_size`\n",
    "1. fix test data\n",
    "1. write actual utiity function to return data and/or list of required files\n",
    "1. finish `NotImplementedError` functions\n",
    "1. deal with duplicates, and overlaps\n",
    "1. consider graceful abort?\n",
    "1. FFB! Provide way to request specific channel(s) and provide for inter-file interpolation (default should maybe return all channels?)\n",
    "1. ...?"
   ]
  },
  {
   "cell_type": "code",
   "execution_count": 1,
   "metadata": {
    "collapsed": true
   },
   "outputs": [],
   "source": [
    "import numpy as np\n",
    "import matplotlib as mpl\n",
    "import matplotlib.pyplot as plt\n",
    "\n",
    "%matplotlib inline"
   ]
  },
  {
   "cell_type": "code",
   "execution_count": 2,
   "metadata": {
    "collapsed": true
   },
   "outputs": [],
   "source": [
    "import jagular as jag"
   ]
  },
  {
   "cell_type": "code",
   "execution_count": 3,
   "metadata": {},
   "outputs": [],
   "source": [
    "file_list = ['../sample_data/sample_data_1.rec',\n",
    "             '../sample_data/sample_data_3.rec',\n",
    "             '../sample_data/sample_data_4.rec',\n",
    "             '../sample_data/sample_data_5.rec',\n",
    "             '../sample_data/sample_data_2.rec'\n",
    "            ]\n",
    "\n",
    "jfm = jag.io.JagularFileMap(file_list)"
   ]
  },
  {
   "cell_type": "code",
   "execution_count": 4,
   "metadata": {},
   "outputs": [
    {
     "data": {
      "text/plain": [
       "<JagularFileMap> at 0x27afb5775c0"
      ]
     },
     "execution_count": 4,
     "metadata": {},
     "output_type": "execute_result"
    }
   ],
   "source": [
    "jag.io.JagularFileMap('../sample_data/sample_data_1.rec')"
   ]
  },
  {
   "cell_type": "code",
   "execution_count": 5,
   "metadata": {},
   "outputs": [
    {
     "data": {
      "text/plain": [
       "array([[2693122, 2693132],\n",
       "       [4593152, 4593162],\n",
       "       [5593165, 5593175],\n",
       "       [6593177, 6593187],\n",
       "       [7593194, 7593204]])"
      ]
     },
     "execution_count": 5,
     "metadata": {},
     "output_type": "execute_result"
    }
   ],
   "source": [
    "jfm.timestamps"
   ]
  },
  {
   "cell_type": "code",
   "execution_count": 6,
   "metadata": {},
   "outputs": [
    {
     "data": {
      "text/plain": [
       "(2000000, 8000000)"
      ]
     },
     "execution_count": 6,
     "metadata": {},
     "output_type": "execute_result"
    },
    {
     "data": {
      "image/png": "[encoded data removed]",
      "text/plain": [
       "<matplotlib.figure.Figure at 0x27afb577240>"
      ]
     },
     "metadata": {},
     "output_type": "display_data"
    }
   ],
   "source": [
    "ax = jfm.plot()\n",
    "ax.set_xlim(2000000, 8000000)"
   ]
  },
  {
   "cell_type": "code",
   "execution_count": 7,
   "metadata": {},
   "outputs": [
    {
     "data": {
      "text/plain": [
       "True"
      ]
     },
     "execution_count": 7,
     "metadata": {},
     "output_type": "execute_result"
    }
   ],
   "source": [
    "jfm._within_bounds(2853122, 7093204 )"
   ]
  },
  {
   "cell_type": "code",
   "execution_count": 8,
   "metadata": {},
   "outputs": [
    {
     "name": "stdout",
     "output_type": "stream",
     "text": [
      "duration including gaps: 4900082\n",
      "duration excluding gaps: 50\n"
     ]
    }
   ],
   "source": [
    "print(\"duration including gaps: {}\".format(jfm.duration_w_gaps))\n",
    "print(\"duration excluding gaps: {}\".format(jfm.duration_wo_gaps))"
   ]
  }
 ],
 "metadata": {
  "anaconda-cloud": {},
  "kernelspec": {
   "display_name": "Python [default]",
   "language": "python",
   "name": "python3"
  },
  "language_info": {
   "codemirror_mode": {
    "name": "ipython",
    "version": 3
   },
   "file_extension": ".py",
   "mimetype": "text/x-python",
   "name": "python",
   "nbconvert_exporter": "python",
   "pygments_lexer": "ipython3",
   "version": "3.5.3"
  }
 },
 "nbformat": 4,
 "nbformat_minor": 2
}
